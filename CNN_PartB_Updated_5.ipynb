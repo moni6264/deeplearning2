{
  "nbformat": 4,
  "nbformat_minor": 0,
  "metadata": {
    "colab": {
      "name": "CNN_PartB_Updated_5.ipynb",
      "provenance": [],
      "collapsed_sections": [],
      "include_colab_link": true
    },
    "kernelspec": {
      "name": "python3",
      "display_name": "Python 3"
    },
    "language_info": {
      "name": "python"
    },
    "accelerator": "GPU",
    "widgets": {
      "application/vnd.jupyter.widget-state+json": {
        "df721834cf354dcb9a0f95b2186743b1": {
          "model_module": "@jupyter-widgets/controls",
          "model_name": "VBoxModel",
          "model_module_version": "1.5.0",
          "state": {
            "_dom_classes": [],
            "_model_module": "@jupyter-widgets/controls",
            "_model_module_version": "1.5.0",
            "_model_name": "VBoxModel",
            "_view_count": null,
            "_view_module": "@jupyter-widgets/controls",
            "_view_module_version": "1.5.0",
            "_view_name": "VBoxView",
            "box_style": "",
            "children": [
              "IPY_MODEL_1896b27674b940c48ea09b63fb757b0b",
              "IPY_MODEL_78985aa83d3648c1a1ef32b8c740d362"
            ],
            "layout": "IPY_MODEL_d1e540b885644f468dc6c86a47c8fc53"
          }
        },
        "1896b27674b940c48ea09b63fb757b0b": {
          "model_module": "@jupyter-widgets/controls",
          "model_name": "LabelModel",
          "model_module_version": "1.5.0",
          "state": {
            "_dom_classes": [],
            "_model_module": "@jupyter-widgets/controls",
            "_model_module_version": "1.5.0",
            "_model_name": "LabelModel",
            "_view_count": null,
            "_view_module": "@jupyter-widgets/controls",
            "_view_module_version": "1.5.0",
            "_view_name": "LabelView",
            "description": "",
            "description_tooltip": null,
            "layout": "IPY_MODEL_b607471a607e4a459472cb1617d5907a",
            "placeholder": "​",
            "style": "IPY_MODEL_01d644e34ef243a8b9ce7872214be32d",
            "value": "564.075 MB of 564.075 MB uploaded (0.000 MB deduped)\r"
          }
        },
        "78985aa83d3648c1a1ef32b8c740d362": {
          "model_module": "@jupyter-widgets/controls",
          "model_name": "FloatProgressModel",
          "model_module_version": "1.5.0",
          "state": {
            "_dom_classes": [],
            "_model_module": "@jupyter-widgets/controls",
            "_model_module_version": "1.5.0",
            "_model_name": "FloatProgressModel",
            "_view_count": null,
            "_view_module": "@jupyter-widgets/controls",
            "_view_module_version": "1.5.0",
            "_view_name": "ProgressView",
            "bar_style": "",
            "description": "",
            "description_tooltip": null,
            "layout": "IPY_MODEL_53f50d2faaa5419f9686a656e1d710e0",
            "max": 1,
            "min": 0,
            "orientation": "horizontal",
            "style": "IPY_MODEL_155a2e7b23cd4eca82ebd8c71c75b76c",
            "value": 1
          }
        },
        "d1e540b885644f468dc6c86a47c8fc53": {
          "model_module": "@jupyter-widgets/base",
          "model_name": "LayoutModel",
          "model_module_version": "1.2.0",
          "state": {
            "_model_module": "@jupyter-widgets/base",
            "_model_module_version": "1.2.0",
            "_model_name": "LayoutModel",
            "_view_count": null,
            "_view_module": "@jupyter-widgets/base",
            "_view_module_version": "1.2.0",
            "_view_name": "LayoutView",
            "align_content": null,
            "align_items": null,
            "align_self": null,
            "border": null,
            "bottom": null,
            "display": null,
            "flex": null,
            "flex_flow": null,
            "grid_area": null,
            "grid_auto_columns": null,
            "grid_auto_flow": null,
            "grid_auto_rows": null,
            "grid_column": null,
            "grid_gap": null,
            "grid_row": null,
            "grid_template_areas": null,
            "grid_template_columns": null,
            "grid_template_rows": null,
            "height": null,
            "justify_content": null,
            "justify_items": null,
            "left": null,
            "margin": null,
            "max_height": null,
            "max_width": null,
            "min_height": null,
            "min_width": null,
            "object_fit": null,
            "object_position": null,
            "order": null,
            "overflow": null,
            "overflow_x": null,
            "overflow_y": null,
            "padding": null,
            "right": null,
            "top": null,
            "visibility": null,
            "width": null
          }
        },
        "b607471a607e4a459472cb1617d5907a": {
          "model_module": "@jupyter-widgets/base",
          "model_name": "LayoutModel",
          "model_module_version": "1.2.0",
          "state": {
            "_model_module": "@jupyter-widgets/base",
            "_model_module_version": "1.2.0",
            "_model_name": "LayoutModel",
            "_view_count": null,
            "_view_module": "@jupyter-widgets/base",
            "_view_module_version": "1.2.0",
            "_view_name": "LayoutView",
            "align_content": null,
            "align_items": null,
            "align_self": null,
            "border": null,
            "bottom": null,
            "display": null,
            "flex": null,
            "flex_flow": null,
            "grid_area": null,
            "grid_auto_columns": null,
            "grid_auto_flow": null,
            "grid_auto_rows": null,
            "grid_column": null,
            "grid_gap": null,
            "grid_row": null,
            "grid_template_areas": null,
            "grid_template_columns": null,
            "grid_template_rows": null,
            "height": null,
            "justify_content": null,
            "justify_items": null,
            "left": null,
            "margin": null,
            "max_height": null,
            "max_width": null,
            "min_height": null,
            "min_width": null,
            "object_fit": null,
            "object_position": null,
            "order": null,
            "overflow": null,
            "overflow_x": null,
            "overflow_y": null,
            "padding": null,
            "right": null,
            "top": null,
            "visibility": null,
            "width": null
          }
        },
        "01d644e34ef243a8b9ce7872214be32d": {
          "model_module": "@jupyter-widgets/controls",
          "model_name": "DescriptionStyleModel",
          "model_module_version": "1.5.0",
          "state": {
            "_model_module": "@jupyter-widgets/controls",
            "_model_module_version": "1.5.0",
            "_model_name": "DescriptionStyleModel",
            "_view_count": null,
            "_view_module": "@jupyter-widgets/base",
            "_view_module_version": "1.2.0",
            "_view_name": "StyleView",
            "description_width": ""
          }
        },
        "53f50d2faaa5419f9686a656e1d710e0": {
          "model_module": "@jupyter-widgets/base",
          "model_name": "LayoutModel",
          "model_module_version": "1.2.0",
          "state": {
            "_model_module": "@jupyter-widgets/base",
            "_model_module_version": "1.2.0",
            "_model_name": "LayoutModel",
            "_view_count": null,
            "_view_module": "@jupyter-widgets/base",
            "_view_module_version": "1.2.0",
            "_view_name": "LayoutView",
            "align_content": null,
            "align_items": null,
            "align_self": null,
            "border": null,
            "bottom": null,
            "display": null,
            "flex": null,
            "flex_flow": null,
            "grid_area": null,
            "grid_auto_columns": null,
            "grid_auto_flow": null,
            "grid_auto_rows": null,
            "grid_column": null,
            "grid_gap": null,
            "grid_row": null,
            "grid_template_areas": null,
            "grid_template_columns": null,
            "grid_template_rows": null,
            "height": null,
            "justify_content": null,
            "justify_items": null,
            "left": null,
            "margin": null,
            "max_height": null,
            "max_width": null,
            "min_height": null,
            "min_width": null,
            "object_fit": null,
            "object_position": null,
            "order": null,
            "overflow": null,
            "overflow_x": null,
            "overflow_y": null,
            "padding": null,
            "right": null,
            "top": null,
            "visibility": null,
            "width": null
          }
        },
        "155a2e7b23cd4eca82ebd8c71c75b76c": {
          "model_module": "@jupyter-widgets/controls",
          "model_name": "ProgressStyleModel",
          "model_module_version": "1.5.0",
          "state": {
            "_model_module": "@jupyter-widgets/controls",
            "_model_module_version": "1.5.0",
            "_model_name": "ProgressStyleModel",
            "_view_count": null,
            "_view_module": "@jupyter-widgets/base",
            "_view_module_version": "1.2.0",
            "_view_name": "StyleView",
            "bar_color": null,
            "description_width": ""
          }
        },
        "07718c101fd24b57a684284dde738da4": {
          "model_module": "@jupyter-widgets/controls",
          "model_name": "VBoxModel",
          "model_module_version": "1.5.0",
          "state": {
            "_dom_classes": [],
            "_model_module": "@jupyter-widgets/controls",
            "_model_module_version": "1.5.0",
            "_model_name": "VBoxModel",
            "_view_count": null,
            "_view_module": "@jupyter-widgets/controls",
            "_view_module_version": "1.5.0",
            "_view_name": "VBoxView",
            "box_style": "",
            "children": [
              "IPY_MODEL_8854b0c1199345a7847692b3e8fef2b9",
              "IPY_MODEL_36943ec3e7044c56983bdda5b52ec49f"
            ],
            "layout": "IPY_MODEL_577aabd821e441acbec3d8a508b58f0d"
          }
        },
        "8854b0c1199345a7847692b3e8fef2b9": {
          "model_module": "@jupyter-widgets/controls",
          "model_name": "LabelModel",
          "model_module_version": "1.5.0",
          "state": {
            "_dom_classes": [],
            "_model_module": "@jupyter-widgets/controls",
            "_model_module_version": "1.5.0",
            "_model_name": "LabelModel",
            "_view_count": null,
            "_view_module": "@jupyter-widgets/controls",
            "_view_module_version": "1.5.0",
            "_view_name": "LabelView",
            "description": "",
            "description_tooltip": null,
            "layout": "IPY_MODEL_40de9fdc10fe4063baeda2cc33c10558",
            "placeholder": "​",
            "style": "IPY_MODEL_9a646ce1297442d7a7a64aa75833a718",
            "value": "564.074 MB of 564.074 MB uploaded (0.000 MB deduped)\r"
          }
        },
        "36943ec3e7044c56983bdda5b52ec49f": {
          "model_module": "@jupyter-widgets/controls",
          "model_name": "FloatProgressModel",
          "model_module_version": "1.5.0",
          "state": {
            "_dom_classes": [],
            "_model_module": "@jupyter-widgets/controls",
            "_model_module_version": "1.5.0",
            "_model_name": "FloatProgressModel",
            "_view_count": null,
            "_view_module": "@jupyter-widgets/controls",
            "_view_module_version": "1.5.0",
            "_view_name": "ProgressView",
            "bar_style": "",
            "description": "",
            "description_tooltip": null,
            "layout": "IPY_MODEL_de6ac4af1b0c433eb6f847a815a38e94",
            "max": 1,
            "min": 0,
            "orientation": "horizontal",
            "style": "IPY_MODEL_bc82a7ef2a754a509393de39ddc9a329",
            "value": 1
          }
        },
        "577aabd821e441acbec3d8a508b58f0d": {
          "model_module": "@jupyter-widgets/base",
          "model_name": "LayoutModel",
          "model_module_version": "1.2.0",
          "state": {
            "_model_module": "@jupyter-widgets/base",
            "_model_module_version": "1.2.0",
            "_model_name": "LayoutModel",
            "_view_count": null,
            "_view_module": "@jupyter-widgets/base",
            "_view_module_version": "1.2.0",
            "_view_name": "LayoutView",
            "align_content": null,
            "align_items": null,
            "align_self": null,
            "border": null,
            "bottom": null,
            "display": null,
            "flex": null,
            "flex_flow": null,
            "grid_area": null,
            "grid_auto_columns": null,
            "grid_auto_flow": null,
            "grid_auto_rows": null,
            "grid_column": null,
            "grid_gap": null,
            "grid_row": null,
            "grid_template_areas": null,
            "grid_template_columns": null,
            "grid_template_rows": null,
            "height": null,
            "justify_content": null,
            "justify_items": null,
            "left": null,
            "margin": null,
            "max_height": null,
            "max_width": null,
            "min_height": null,
            "min_width": null,
            "object_fit": null,
            "object_position": null,
            "order": null,
            "overflow": null,
            "overflow_x": null,
            "overflow_y": null,
            "padding": null,
            "right": null,
            "top": null,
            "visibility": null,
            "width": null
          }
        },
        "40de9fdc10fe4063baeda2cc33c10558": {
          "model_module": "@jupyter-widgets/base",
          "model_name": "LayoutModel",
          "model_module_version": "1.2.0",
          "state": {
            "_model_module": "@jupyter-widgets/base",
            "_model_module_version": "1.2.0",
            "_model_name": "LayoutModel",
            "_view_count": null,
            "_view_module": "@jupyter-widgets/base",
            "_view_module_version": "1.2.0",
            "_view_name": "LayoutView",
            "align_content": null,
            "align_items": null,
            "align_self": null,
            "border": null,
            "bottom": null,
            "display": null,
            "flex": null,
            "flex_flow": null,
            "grid_area": null,
            "grid_auto_columns": null,
            "grid_auto_flow": null,
            "grid_auto_rows": null,
            "grid_column": null,
            "grid_gap": null,
            "grid_row": null,
            "grid_template_areas": null,
            "grid_template_columns": null,
            "grid_template_rows": null,
            "height": null,
            "justify_content": null,
            "justify_items": null,
            "left": null,
            "margin": null,
            "max_height": null,
            "max_width": null,
            "min_height": null,
            "min_width": null,
            "object_fit": null,
            "object_position": null,
            "order": null,
            "overflow": null,
            "overflow_x": null,
            "overflow_y": null,
            "padding": null,
            "right": null,
            "top": null,
            "visibility": null,
            "width": null
          }
        },
        "9a646ce1297442d7a7a64aa75833a718": {
          "model_module": "@jupyter-widgets/controls",
          "model_name": "DescriptionStyleModel",
          "model_module_version": "1.5.0",
          "state": {
            "_model_module": "@jupyter-widgets/controls",
            "_model_module_version": "1.5.0",
            "_model_name": "DescriptionStyleModel",
            "_view_count": null,
            "_view_module": "@jupyter-widgets/base",
            "_view_module_version": "1.2.0",
            "_view_name": "StyleView",
            "description_width": ""
          }
        },
        "de6ac4af1b0c433eb6f847a815a38e94": {
          "model_module": "@jupyter-widgets/base",
          "model_name": "LayoutModel",
          "model_module_version": "1.2.0",
          "state": {
            "_model_module": "@jupyter-widgets/base",
            "_model_module_version": "1.2.0",
            "_model_name": "LayoutModel",
            "_view_count": null,
            "_view_module": "@jupyter-widgets/base",
            "_view_module_version": "1.2.0",
            "_view_name": "LayoutView",
            "align_content": null,
            "align_items": null,
            "align_self": null,
            "border": null,
            "bottom": null,
            "display": null,
            "flex": null,
            "flex_flow": null,
            "grid_area": null,
            "grid_auto_columns": null,
            "grid_auto_flow": null,
            "grid_auto_rows": null,
            "grid_column": null,
            "grid_gap": null,
            "grid_row": null,
            "grid_template_areas": null,
            "grid_template_columns": null,
            "grid_template_rows": null,
            "height": null,
            "justify_content": null,
            "justify_items": null,
            "left": null,
            "margin": null,
            "max_height": null,
            "max_width": null,
            "min_height": null,
            "min_width": null,
            "object_fit": null,
            "object_position": null,
            "order": null,
            "overflow": null,
            "overflow_x": null,
            "overflow_y": null,
            "padding": null,
            "right": null,
            "top": null,
            "visibility": null,
            "width": null
          }
        },
        "bc82a7ef2a754a509393de39ddc9a329": {
          "model_module": "@jupyter-widgets/controls",
          "model_name": "ProgressStyleModel",
          "model_module_version": "1.5.0",
          "state": {
            "_model_module": "@jupyter-widgets/controls",
            "_model_module_version": "1.5.0",
            "_model_name": "ProgressStyleModel",
            "_view_count": null,
            "_view_module": "@jupyter-widgets/base",
            "_view_module_version": "1.2.0",
            "_view_name": "StyleView",
            "bar_color": null,
            "description_width": ""
          }
        },
        "03f4898e605244f0b75c2fb423a37069": {
          "model_module": "@jupyter-widgets/controls",
          "model_name": "VBoxModel",
          "model_module_version": "1.5.0",
          "state": {
            "_dom_classes": [],
            "_model_module": "@jupyter-widgets/controls",
            "_model_module_version": "1.5.0",
            "_model_name": "VBoxModel",
            "_view_count": null,
            "_view_module": "@jupyter-widgets/controls",
            "_view_module_version": "1.5.0",
            "_view_name": "VBoxView",
            "box_style": "",
            "children": [
              "IPY_MODEL_01dd3dafe7864c5eb80256b9b3af97f0",
              "IPY_MODEL_10946ce9632144b0b85a8a135f9b9d68"
            ],
            "layout": "IPY_MODEL_31534a40945143c797fef89e174a4917"
          }
        },
        "01dd3dafe7864c5eb80256b9b3af97f0": {
          "model_module": "@jupyter-widgets/controls",
          "model_name": "LabelModel",
          "model_module_version": "1.5.0",
          "state": {
            "_dom_classes": [],
            "_model_module": "@jupyter-widgets/controls",
            "_model_module_version": "1.5.0",
            "_model_name": "LabelModel",
            "_view_count": null,
            "_view_module": "@jupyter-widgets/controls",
            "_view_module_version": "1.5.0",
            "_view_name": "LabelView",
            "description": "",
            "description_tooltip": null,
            "layout": "IPY_MODEL_941ef1042beb4734860d1b50e3821cd7",
            "placeholder": "​",
            "style": "IPY_MODEL_7f6f3dcf71094c9ab7cea440a123cdba",
            "value": "572.486 MB of 572.486 MB uploaded (0.000 MB deduped)\r"
          }
        },
        "10946ce9632144b0b85a8a135f9b9d68": {
          "model_module": "@jupyter-widgets/controls",
          "model_name": "FloatProgressModel",
          "model_module_version": "1.5.0",
          "state": {
            "_dom_classes": [],
            "_model_module": "@jupyter-widgets/controls",
            "_model_module_version": "1.5.0",
            "_model_name": "FloatProgressModel",
            "_view_count": null,
            "_view_module": "@jupyter-widgets/controls",
            "_view_module_version": "1.5.0",
            "_view_name": "ProgressView",
            "bar_style": "",
            "description": "",
            "description_tooltip": null,
            "layout": "IPY_MODEL_a4f6c5af2a644292b7bfee1e6b61c071",
            "max": 1,
            "min": 0,
            "orientation": "horizontal",
            "style": "IPY_MODEL_ff377a2dc89d449888872e2ff329ab90",
            "value": 1
          }
        },
        "31534a40945143c797fef89e174a4917": {
          "model_module": "@jupyter-widgets/base",
          "model_name": "LayoutModel",
          "model_module_version": "1.2.0",
          "state": {
            "_model_module": "@jupyter-widgets/base",
            "_model_module_version": "1.2.0",
            "_model_name": "LayoutModel",
            "_view_count": null,
            "_view_module": "@jupyter-widgets/base",
            "_view_module_version": "1.2.0",
            "_view_name": "LayoutView",
            "align_content": null,
            "align_items": null,
            "align_self": null,
            "border": null,
            "bottom": null,
            "display": null,
            "flex": null,
            "flex_flow": null,
            "grid_area": null,
            "grid_auto_columns": null,
            "grid_auto_flow": null,
            "grid_auto_rows": null,
            "grid_column": null,
            "grid_gap": null,
            "grid_row": null,
            "grid_template_areas": null,
            "grid_template_columns": null,
            "grid_template_rows": null,
            "height": null,
            "justify_content": null,
            "justify_items": null,
            "left": null,
            "margin": null,
            "max_height": null,
            "max_width": null,
            "min_height": null,
            "min_width": null,
            "object_fit": null,
            "object_position": null,
            "order": null,
            "overflow": null,
            "overflow_x": null,
            "overflow_y": null,
            "padding": null,
            "right": null,
            "top": null,
            "visibility": null,
            "width": null
          }
        },
        "941ef1042beb4734860d1b50e3821cd7": {
          "model_module": "@jupyter-widgets/base",
          "model_name": "LayoutModel",
          "model_module_version": "1.2.0",
          "state": {
            "_model_module": "@jupyter-widgets/base",
            "_model_module_version": "1.2.0",
            "_model_name": "LayoutModel",
            "_view_count": null,
            "_view_module": "@jupyter-widgets/base",
            "_view_module_version": "1.2.0",
            "_view_name": "LayoutView",
            "align_content": null,
            "align_items": null,
            "align_self": null,
            "border": null,
            "bottom": null,
            "display": null,
            "flex": null,
            "flex_flow": null,
            "grid_area": null,
            "grid_auto_columns": null,
            "grid_auto_flow": null,
            "grid_auto_rows": null,
            "grid_column": null,
            "grid_gap": null,
            "grid_row": null,
            "grid_template_areas": null,
            "grid_template_columns": null,
            "grid_template_rows": null,
            "height": null,
            "justify_content": null,
            "justify_items": null,
            "left": null,
            "margin": null,
            "max_height": null,
            "max_width": null,
            "min_height": null,
            "min_width": null,
            "object_fit": null,
            "object_position": null,
            "order": null,
            "overflow": null,
            "overflow_x": null,
            "overflow_y": null,
            "padding": null,
            "right": null,
            "top": null,
            "visibility": null,
            "width": null
          }
        },
        "7f6f3dcf71094c9ab7cea440a123cdba": {
          "model_module": "@jupyter-widgets/controls",
          "model_name": "DescriptionStyleModel",
          "model_module_version": "1.5.0",
          "state": {
            "_model_module": "@jupyter-widgets/controls",
            "_model_module_version": "1.5.0",
            "_model_name": "DescriptionStyleModel",
            "_view_count": null,
            "_view_module": "@jupyter-widgets/base",
            "_view_module_version": "1.2.0",
            "_view_name": "StyleView",
            "description_width": ""
          }
        },
        "a4f6c5af2a644292b7bfee1e6b61c071": {
          "model_module": "@jupyter-widgets/base",
          "model_name": "LayoutModel",
          "model_module_version": "1.2.0",
          "state": {
            "_model_module": "@jupyter-widgets/base",
            "_model_module_version": "1.2.0",
            "_model_name": "LayoutModel",
            "_view_count": null,
            "_view_module": "@jupyter-widgets/base",
            "_view_module_version": "1.2.0",
            "_view_name": "LayoutView",
            "align_content": null,
            "align_items": null,
            "align_self": null,
            "border": null,
            "bottom": null,
            "display": null,
            "flex": null,
            "flex_flow": null,
            "grid_area": null,
            "grid_auto_columns": null,
            "grid_auto_flow": null,
            "grid_auto_rows": null,
            "grid_column": null,
            "grid_gap": null,
            "grid_row": null,
            "grid_template_areas": null,
            "grid_template_columns": null,
            "grid_template_rows": null,
            "height": null,
            "justify_content": null,
            "justify_items": null,
            "left": null,
            "margin": null,
            "max_height": null,
            "max_width": null,
            "min_height": null,
            "min_width": null,
            "object_fit": null,
            "object_position": null,
            "order": null,
            "overflow": null,
            "overflow_x": null,
            "overflow_y": null,
            "padding": null,
            "right": null,
            "top": null,
            "visibility": null,
            "width": null
          }
        },
        "ff377a2dc89d449888872e2ff329ab90": {
          "model_module": "@jupyter-widgets/controls",
          "model_name": "ProgressStyleModel",
          "model_module_version": "1.5.0",
          "state": {
            "_model_module": "@jupyter-widgets/controls",
            "_model_module_version": "1.5.0",
            "_model_name": "ProgressStyleModel",
            "_view_count": null,
            "_view_module": "@jupyter-widgets/base",
            "_view_module_version": "1.2.0",
            "_view_name": "StyleView",
            "bar_color": null,
            "description_width": ""
          }
        },
        "77792a56b081420f809e845bd1de5f15": {
          "model_module": "@jupyter-widgets/controls",
          "model_name": "VBoxModel",
          "model_module_version": "1.5.0",
          "state": {
            "_dom_classes": [],
            "_model_module": "@jupyter-widgets/controls",
            "_model_module_version": "1.5.0",
            "_model_name": "VBoxModel",
            "_view_count": null,
            "_view_module": "@jupyter-widgets/controls",
            "_view_module_version": "1.5.0",
            "_view_name": "VBoxView",
            "box_style": "",
            "children": [
              "IPY_MODEL_358e0d8f88dd4723ba8882d8c259bdca",
              "IPY_MODEL_2a1f9ca9fa1b45a48cf7df136c963d19"
            ],
            "layout": "IPY_MODEL_5c7809088aa04a86b6b715bfd780091b"
          }
        },
        "358e0d8f88dd4723ba8882d8c259bdca": {
          "model_module": "@jupyter-widgets/controls",
          "model_name": "LabelModel",
          "model_module_version": "1.5.0",
          "state": {
            "_dom_classes": [],
            "_model_module": "@jupyter-widgets/controls",
            "_model_module_version": "1.5.0",
            "_model_name": "LabelModel",
            "_view_count": null,
            "_view_module": "@jupyter-widgets/controls",
            "_view_module_version": "1.5.0",
            "_view_name": "LabelView",
            "description": "",
            "description_tooltip": null,
            "layout": "IPY_MODEL_bf9e7a42d16b457faf40b1bcffd5b2fd",
            "placeholder": "​",
            "style": "IPY_MODEL_42eea30df7da443387603f7994518e89",
            "value": "903.867 MB of 903.867 MB uploaded (0.000 MB deduped)\r"
          }
        },
        "2a1f9ca9fa1b45a48cf7df136c963d19": {
          "model_module": "@jupyter-widgets/controls",
          "model_name": "FloatProgressModel",
          "model_module_version": "1.5.0",
          "state": {
            "_dom_classes": [],
            "_model_module": "@jupyter-widgets/controls",
            "_model_module_version": "1.5.0",
            "_model_name": "FloatProgressModel",
            "_view_count": null,
            "_view_module": "@jupyter-widgets/controls",
            "_view_module_version": "1.5.0",
            "_view_name": "ProgressView",
            "bar_style": "",
            "description": "",
            "description_tooltip": null,
            "layout": "IPY_MODEL_f890165165ce4278a7bb4f57f3fad537",
            "max": 1,
            "min": 0,
            "orientation": "horizontal",
            "style": "IPY_MODEL_7392548d7f6d488ab89e91b140def955",
            "value": 1
          }
        },
        "5c7809088aa04a86b6b715bfd780091b": {
          "model_module": "@jupyter-widgets/base",
          "model_name": "LayoutModel",
          "model_module_version": "1.2.0",
          "state": {
            "_model_module": "@jupyter-widgets/base",
            "_model_module_version": "1.2.0",
            "_model_name": "LayoutModel",
            "_view_count": null,
            "_view_module": "@jupyter-widgets/base",
            "_view_module_version": "1.2.0",
            "_view_name": "LayoutView",
            "align_content": null,
            "align_items": null,
            "align_self": null,
            "border": null,
            "bottom": null,
            "display": null,
            "flex": null,
            "flex_flow": null,
            "grid_area": null,
            "grid_auto_columns": null,
            "grid_auto_flow": null,
            "grid_auto_rows": null,
            "grid_column": null,
            "grid_gap": null,
            "grid_row": null,
            "grid_template_areas": null,
            "grid_template_columns": null,
            "grid_template_rows": null,
            "height": null,
            "justify_content": null,
            "justify_items": null,
            "left": null,
            "margin": null,
            "max_height": null,
            "max_width": null,
            "min_height": null,
            "min_width": null,
            "object_fit": null,
            "object_position": null,
            "order": null,
            "overflow": null,
            "overflow_x": null,
            "overflow_y": null,
            "padding": null,
            "right": null,
            "top": null,
            "visibility": null,
            "width": null
          }
        },
        "bf9e7a42d16b457faf40b1bcffd5b2fd": {
          "model_module": "@jupyter-widgets/base",
          "model_name": "LayoutModel",
          "model_module_version": "1.2.0",
          "state": {
            "_model_module": "@jupyter-widgets/base",
            "_model_module_version": "1.2.0",
            "_model_name": "LayoutModel",
            "_view_count": null,
            "_view_module": "@jupyter-widgets/base",
            "_view_module_version": "1.2.0",
            "_view_name": "LayoutView",
            "align_content": null,
            "align_items": null,
            "align_self": null,
            "border": null,
            "bottom": null,
            "display": null,
            "flex": null,
            "flex_flow": null,
            "grid_area": null,
            "grid_auto_columns": null,
            "grid_auto_flow": null,
            "grid_auto_rows": null,
            "grid_column": null,
            "grid_gap": null,
            "grid_row": null,
            "grid_template_areas": null,
            "grid_template_columns": null,
            "grid_template_rows": null,
            "height": null,
            "justify_content": null,
            "justify_items": null,
            "left": null,
            "margin": null,
            "max_height": null,
            "max_width": null,
            "min_height": null,
            "min_width": null,
            "object_fit": null,
            "object_position": null,
            "order": null,
            "overflow": null,
            "overflow_x": null,
            "overflow_y": null,
            "padding": null,
            "right": null,
            "top": null,
            "visibility": null,
            "width": null
          }
        },
        "42eea30df7da443387603f7994518e89": {
          "model_module": "@jupyter-widgets/controls",
          "model_name": "DescriptionStyleModel",
          "model_module_version": "1.5.0",
          "state": {
            "_model_module": "@jupyter-widgets/controls",
            "_model_module_version": "1.5.0",
            "_model_name": "DescriptionStyleModel",
            "_view_count": null,
            "_view_module": "@jupyter-widgets/base",
            "_view_module_version": "1.2.0",
            "_view_name": "StyleView",
            "description_width": ""
          }
        },
        "f890165165ce4278a7bb4f57f3fad537": {
          "model_module": "@jupyter-widgets/base",
          "model_name": "LayoutModel",
          "model_module_version": "1.2.0",
          "state": {
            "_model_module": "@jupyter-widgets/base",
            "_model_module_version": "1.2.0",
            "_model_name": "LayoutModel",
            "_view_count": null,
            "_view_module": "@jupyter-widgets/base",
            "_view_module_version": "1.2.0",
            "_view_name": "LayoutView",
            "align_content": null,
            "align_items": null,
            "align_self": null,
            "border": null,
            "bottom": null,
            "display": null,
            "flex": null,
            "flex_flow": null,
            "grid_area": null,
            "grid_auto_columns": null,
            "grid_auto_flow": null,
            "grid_auto_rows": null,
            "grid_column": null,
            "grid_gap": null,
            "grid_row": null,
            "grid_template_areas": null,
            "grid_template_columns": null,
            "grid_template_rows": null,
            "height": null,
            "justify_content": null,
            "justify_items": null,
            "left": null,
            "margin": null,
            "max_height": null,
            "max_width": null,
            "min_height": null,
            "min_width": null,
            "object_fit": null,
            "object_position": null,
            "order": null,
            "overflow": null,
            "overflow_x": null,
            "overflow_y": null,
            "padding": null,
            "right": null,
            "top": null,
            "visibility": null,
            "width": null
          }
        },
        "7392548d7f6d488ab89e91b140def955": {
          "model_module": "@jupyter-widgets/controls",
          "model_name": "ProgressStyleModel",
          "model_module_version": "1.5.0",
          "state": {
            "_model_module": "@jupyter-widgets/controls",
            "_model_module_version": "1.5.0",
            "_model_name": "ProgressStyleModel",
            "_view_count": null,
            "_view_module": "@jupyter-widgets/base",
            "_view_module_version": "1.2.0",
            "_view_name": "StyleView",
            "bar_color": null,
            "description_width": ""
          }
        },
        "8bd81f63ffb8433bbb6908cdeac98f56": {
          "model_module": "@jupyter-widgets/controls",
          "model_name": "VBoxModel",
          "model_module_version": "1.5.0",
          "state": {
            "_dom_classes": [],
            "_model_module": "@jupyter-widgets/controls",
            "_model_module_version": "1.5.0",
            "_model_name": "VBoxModel",
            "_view_count": null,
            "_view_module": "@jupyter-widgets/controls",
            "_view_module_version": "1.5.0",
            "_view_name": "VBoxView",
            "box_style": "",
            "children": [
              "IPY_MODEL_ef7406b2ad634e649762a8fe6c351119",
              "IPY_MODEL_c2cadf6ae4924e37a68623502c1848e1"
            ],
            "layout": "IPY_MODEL_8f38b3259d9f425384253d2f50a995ef"
          }
        },
        "ef7406b2ad634e649762a8fe6c351119": {
          "model_module": "@jupyter-widgets/controls",
          "model_name": "LabelModel",
          "model_module_version": "1.5.0",
          "state": {
            "_dom_classes": [],
            "_model_module": "@jupyter-widgets/controls",
            "_model_module_version": "1.5.0",
            "_model_name": "LabelModel",
            "_view_count": null,
            "_view_module": "@jupyter-widgets/controls",
            "_view_module_version": "1.5.0",
            "_view_name": "LabelView",
            "description": "",
            "description_tooltip": null,
            "layout": "IPY_MODEL_4bbaf674182b4f9891847e06f28a5e4c",
            "placeholder": "​",
            "style": "IPY_MODEL_93c93639ce17406b94e6c89ec430e13c",
            "value": "903.867 MB of 903.867 MB uploaded (0.000 MB deduped)\r"
          }
        },
        "c2cadf6ae4924e37a68623502c1848e1": {
          "model_module": "@jupyter-widgets/controls",
          "model_name": "FloatProgressModel",
          "model_module_version": "1.5.0",
          "state": {
            "_dom_classes": [],
            "_model_module": "@jupyter-widgets/controls",
            "_model_module_version": "1.5.0",
            "_model_name": "FloatProgressModel",
            "_view_count": null,
            "_view_module": "@jupyter-widgets/controls",
            "_view_module_version": "1.5.0",
            "_view_name": "ProgressView",
            "bar_style": "",
            "description": "",
            "description_tooltip": null,
            "layout": "IPY_MODEL_517b56f3fa574baa8c700f9610b83fd7",
            "max": 1,
            "min": 0,
            "orientation": "horizontal",
            "style": "IPY_MODEL_0201e28e89b2451e96b027024084d50c",
            "value": 1
          }
        },
        "8f38b3259d9f425384253d2f50a995ef": {
          "model_module": "@jupyter-widgets/base",
          "model_name": "LayoutModel",
          "model_module_version": "1.2.0",
          "state": {
            "_model_module": "@jupyter-widgets/base",
            "_model_module_version": "1.2.0",
            "_model_name": "LayoutModel",
            "_view_count": null,
            "_view_module": "@jupyter-widgets/base",
            "_view_module_version": "1.2.0",
            "_view_name": "LayoutView",
            "align_content": null,
            "align_items": null,
            "align_self": null,
            "border": null,
            "bottom": null,
            "display": null,
            "flex": null,
            "flex_flow": null,
            "grid_area": null,
            "grid_auto_columns": null,
            "grid_auto_flow": null,
            "grid_auto_rows": null,
            "grid_column": null,
            "grid_gap": null,
            "grid_row": null,
            "grid_template_areas": null,
            "grid_template_columns": null,
            "grid_template_rows": null,
            "height": null,
            "justify_content": null,
            "justify_items": null,
            "left": null,
            "margin": null,
            "max_height": null,
            "max_width": null,
            "min_height": null,
            "min_width": null,
            "object_fit": null,
            "object_position": null,
            "order": null,
            "overflow": null,
            "overflow_x": null,
            "overflow_y": null,
            "padding": null,
            "right": null,
            "top": null,
            "visibility": null,
            "width": null
          }
        },
        "4bbaf674182b4f9891847e06f28a5e4c": {
          "model_module": "@jupyter-widgets/base",
          "model_name": "LayoutModel",
          "model_module_version": "1.2.0",
          "state": {
            "_model_module": "@jupyter-widgets/base",
            "_model_module_version": "1.2.0",
            "_model_name": "LayoutModel",
            "_view_count": null,
            "_view_module": "@jupyter-widgets/base",
            "_view_module_version": "1.2.0",
            "_view_name": "LayoutView",
            "align_content": null,
            "align_items": null,
            "align_self": null,
            "border": null,
            "bottom": null,
            "display": null,
            "flex": null,
            "flex_flow": null,
            "grid_area": null,
            "grid_auto_columns": null,
            "grid_auto_flow": null,
            "grid_auto_rows": null,
            "grid_column": null,
            "grid_gap": null,
            "grid_row": null,
            "grid_template_areas": null,
            "grid_template_columns": null,
            "grid_template_rows": null,
            "height": null,
            "justify_content": null,
            "justify_items": null,
            "left": null,
            "margin": null,
            "max_height": null,
            "max_width": null,
            "min_height": null,
            "min_width": null,
            "object_fit": null,
            "object_position": null,
            "order": null,
            "overflow": null,
            "overflow_x": null,
            "overflow_y": null,
            "padding": null,
            "right": null,
            "top": null,
            "visibility": null,
            "width": null
          }
        },
        "93c93639ce17406b94e6c89ec430e13c": {
          "model_module": "@jupyter-widgets/controls",
          "model_name": "DescriptionStyleModel",
          "model_module_version": "1.5.0",
          "state": {
            "_model_module": "@jupyter-widgets/controls",
            "_model_module_version": "1.5.0",
            "_model_name": "DescriptionStyleModel",
            "_view_count": null,
            "_view_module": "@jupyter-widgets/base",
            "_view_module_version": "1.2.0",
            "_view_name": "StyleView",
            "description_width": ""
          }
        },
        "517b56f3fa574baa8c700f9610b83fd7": {
          "model_module": "@jupyter-widgets/base",
          "model_name": "LayoutModel",
          "model_module_version": "1.2.0",
          "state": {
            "_model_module": "@jupyter-widgets/base",
            "_model_module_version": "1.2.0",
            "_model_name": "LayoutModel",
            "_view_count": null,
            "_view_module": "@jupyter-widgets/base",
            "_view_module_version": "1.2.0",
            "_view_name": "LayoutView",
            "align_content": null,
            "align_items": null,
            "align_self": null,
            "border": null,
            "bottom": null,
            "display": null,
            "flex": null,
            "flex_flow": null,
            "grid_area": null,
            "grid_auto_columns": null,
            "grid_auto_flow": null,
            "grid_auto_rows": null,
            "grid_column": null,
            "grid_gap": null,
            "grid_row": null,
            "grid_template_areas": null,
            "grid_template_columns": null,
            "grid_template_rows": null,
            "height": null,
            "justify_content": null,
            "justify_items": null,
            "left": null,
            "margin": null,
            "max_height": null,
            "max_width": null,
            "min_height": null,
            "min_width": null,
            "object_fit": null,
            "object_position": null,
            "order": null,
            "overflow": null,
            "overflow_x": null,
            "overflow_y": null,
            "padding": null,
            "right": null,
            "top": null,
            "visibility": null,
            "width": null
          }
        },
        "0201e28e89b2451e96b027024084d50c": {
          "model_module": "@jupyter-widgets/controls",
          "model_name": "ProgressStyleModel",
          "model_module_version": "1.5.0",
          "state": {
            "_model_module": "@jupyter-widgets/controls",
            "_model_module_version": "1.5.0",
            "_model_name": "ProgressStyleModel",
            "_view_count": null,
            "_view_module": "@jupyter-widgets/base",
            "_view_module_version": "1.2.0",
            "_view_name": "StyleView",
            "bar_color": null,
            "description_width": ""
          }
        }
      }
    }
  },
  "cells": [
    {
      "cell_type": "markdown",
      "metadata": {
        "id": "view-in-github",
        "colab_type": "text"
      },
      "source": [
        "<a href=\"https://colab.research.google.com/github/moni6264/deeplearning2/blob/main/CNN_PartB_Updated_5.ipynb\" target=\"_parent\"><img src=\"https://colab.research.google.com/assets/colab-badge.svg\" alt=\"Open In Colab\"/></a>"
      ]
    },
    {
      "cell_type": "markdown",
      "source": [
        "**PART - B Fine-Tuning a Pre-Trained model**"
      ],
      "metadata": {
        "id": "wIYkswfOU1Av"
      }
    },
    {
      "cell_type": "markdown",
      "source": [
        "Import Google colab to drive "
      ],
      "metadata": {
        "id": "XOQFMPlwUUTV"
      }
    },
    {
      "cell_type": "code",
      "execution_count": 1,
      "metadata": {
        "colab": {
          "base_uri": "https://localhost:8080/"
        },
        "id": "e_r21VxChtR5",
        "outputId": "fbfd554e-c51a-4076-efa9-f5dc979d1c20"
      },
      "outputs": [
        {
          "output_type": "stream",
          "name": "stdout",
          "text": [
            "Mounted at /content/drive\n"
          ]
        }
      ],
      "source": [
        "from google.colab import drive\n",
        "drive.mount('/content/drive')"
      ]
    },
    {
      "cell_type": "markdown",
      "source": [
        "Import shutil and splitting the dataset "
      ],
      "metadata": {
        "id": "nTChDgQeVQ6C"
      }
    },
    {
      "cell_type": "code",
      "source": [
        "import shutil  # provides the ability to copy and removal of files\n",
        "import os  # provides functions for interacting with the operating system\n",
        "import random\n",
        "try:\n",
        "    shutil.rmtree(\"inaturalist_12K\")\n",
        "except:\n",
        "    pass\n",
        "\n",
        "# Unzip the natural datset     \n",
        "zip_path = \"drive/MyDrive/nature_12K.zip\"\n",
        "!cp \"{zip_path}\" .\n",
        "!unzip -q nature_12K.zip\n",
        "\n",
        "try:\n",
        "    os.remove(\"nature_12K.zip\")\n",
        "except:\n",
        "    pass\n",
        "try:\n",
        "    shutil.rmtree(\"inaturalist_12K/validation/\")\n",
        "except:\n",
        "    pass\n",
        "\n",
        "# dataset directory \n",
        "temp = os.listdir(\"inaturalist_12K/train\")\n",
        "print(\"Defining class names class names\") # print number classes in dataset\n",
        "class_names = [name for name in temp if name != \".DS_Store\"] \n",
        "\n",
        "#S  pliting valdiation dataset \n",
        "validation_split = 0.1 #splitting dataset 10%\n",
        "def spliting_train_data(validation_split = 0.1):\n",
        "  os.mkdir(\"inaturalist_12K/validation/\")\n",
        "  for each_class in class_names:\n",
        "      os.mkdir(\"inaturalist_12K/validation/\"+each_class)\n",
        "      train_images = os.listdir(\"inaturalist_12K/train/\"+each_class)\n",
        "      train_images_per_class = list(train_images)\n",
        "      print(len(train_images_per_class))\n",
        "      random.shuffle(train_images_per_class) # Shuffle the training images\n",
        "\n",
        "      validation_images_per_class = train_images_per_class[:round(validation_split*len(train_images_per_class))]\n",
        "      print(len(validation_images_per_class))\n",
        "\n",
        "      for im in validation_images_per_class:\n",
        "          shutil.move(\"inaturalist_12K/train/\"+each_class+\"/\"+im, \"inaturalist_12K/validation/\"+each_class+\"/\"+im)\n",
        "spliting_train_data(validation_split)"
      ],
      "metadata": {
        "id": "8-91XS9fi_e9",
        "colab": {
          "base_uri": "https://localhost:8080/"
        },
        "outputId": "c76b3912-0855-4f22-c0d4-5a75085eb3ee"
      },
      "execution_count": 2,
      "outputs": [
        {
          "output_type": "stream",
          "name": "stdout",
          "text": [
            "Defining class names class names\n",
            "1000\n",
            "100\n",
            "1000\n",
            "100\n",
            "1000\n",
            "100\n",
            "1000\n",
            "100\n",
            "1000\n",
            "100\n",
            "1000\n",
            "100\n",
            "1000\n",
            "100\n",
            "1000\n",
            "100\n",
            "1000\n",
            "100\n",
            "1000\n",
            "100\n"
          ]
        }
      ]
    },
    {
      "cell_type": "markdown",
      "source": [
        "Exploring the Data"
      ],
      "metadata": {
        "id": "WQVhzYffXYya"
      }
    },
    {
      "cell_type": "code",
      "source": [
        "train = 0\n",
        "val = 0\n",
        "test = 0\n",
        "\n",
        "for each_class in class_names:\n",
        "      train_images = os.listdir(\"inaturalist_12K/train/\"+each_class)\n",
        "      train+=len(list(train_images))\n",
        "\n",
        "      validation_images = os.listdir(\"inaturalist_12K/validation/\"+each_class)\n",
        "      \n",
        "      val+=len(list(validation_images))\n",
        "\n",
        "      test_images = os.listdir(\"inaturalist_12K/val/\"+each_class)\n",
        "      \n",
        "      test+=len(list(test_images))\n",
        " # print training validation test      \n",
        "print(\"training\" , train)\n",
        "print(\"validation Examples = \", val)\n",
        "print(\"test examples = \", test)"
      ],
      "metadata": {
        "id": "kqYnlBbrAfHH",
        "colab": {
          "base_uri": "https://localhost:8080/"
        },
        "outputId": "645b50bd-b2ac-4098-cf0e-bffed90a5454"
      },
      "execution_count": 3,
      "outputs": [
        {
          "output_type": "stream",
          "name": "stdout",
          "text": [
            "training 9000\n",
            "validation Examples =  1000\n",
            "test examples =  2000\n"
          ]
        }
      ]
    },
    {
      "cell_type": "markdown",
      "source": [
        "Import required libriaries for pre trained module "
      ],
      "metadata": {
        "id": "O4nfbgpxXqfU"
      }
    },
    {
      "cell_type": "code",
      "source": [
        "import os  \n",
        "import glob\n",
        "import numpy as np\n",
        "import tensorflow as tf\n",
        "from tensorflow import keras\n",
        "from keras.preprocessing.image import ImageDataGenerator\n",
        "from keras.models import Sequential, Model\n",
        "from tensorflow.keras.optimizers import Adam\n",
        "from keras.layers import Dense, Flatten, Conv2D, MaxPooling2D, Activation, Dropout, BatchNormalization\n",
        "\n",
        "\n",
        "# implement weights and biases \n",
        "\n",
        "!pip install wandb\n",
        "import wandb\n",
        "from keras.callbacks import EarlyStopping, ModelCheckpoint\n",
        "from wandb.keras import WandbCallback\n",
        "from keras.utils.vis_utils import plot_model\n",
        "from PIL import Image\n",
        "# image plotting \n",
        "%matplotlib inline\n",
        "%config InlineBackend.figure_format = 'svg'\n",
        "import matplotlib.pyplot as plt\n",
        "import matplotlib.image as mpimg"
      ],
      "metadata": {
        "colab": {
          "base_uri": "https://localhost:8080/"
        },
        "id": "jfaDSZlTi_hj",
        "outputId": "385a077f-65ae-4672-be81-ce65487d801a"
      },
      "execution_count": 4,
      "outputs": [
        {
          "output_type": "stream",
          "name": "stdout",
          "text": [
            "Collecting wandb\n",
            "  Downloading wandb-0.12.11-py2.py3-none-any.whl (1.7 MB)\n",
            "\u001b[?25l\r\u001b[K     |▏                               | 10 kB 16.5 MB/s eta 0:00:01\r\u001b[K     |▍                               | 20 kB 22.7 MB/s eta 0:00:01\r\u001b[K     |▋                               | 30 kB 26.5 MB/s eta 0:00:01\r\u001b[K     |▊                               | 40 kB 12.1 MB/s eta 0:00:01\r\u001b[K     |█                               | 51 kB 11.9 MB/s eta 0:00:01\r\u001b[K     |█▏                              | 61 kB 13.7 MB/s eta 0:00:01\r\u001b[K     |█▎                              | 71 kB 10.8 MB/s eta 0:00:01\r\u001b[K     |█▌                              | 81 kB 11.7 MB/s eta 0:00:01\r\u001b[K     |█▊                              | 92 kB 12.9 MB/s eta 0:00:01\r\u001b[K     |█▉                              | 102 kB 12.3 MB/s eta 0:00:01\r\u001b[K     |██                              | 112 kB 12.3 MB/s eta 0:00:01\r\u001b[K     |██▎                             | 122 kB 12.3 MB/s eta 0:00:01\r\u001b[K     |██▍                             | 133 kB 12.3 MB/s eta 0:00:01\r\u001b[K     |██▋                             | 143 kB 12.3 MB/s eta 0:00:01\r\u001b[K     |██▉                             | 153 kB 12.3 MB/s eta 0:00:01\r\u001b[K     |███                             | 163 kB 12.3 MB/s eta 0:00:01\r\u001b[K     |███▏                            | 174 kB 12.3 MB/s eta 0:00:01\r\u001b[K     |███▍                            | 184 kB 12.3 MB/s eta 0:00:01\r\u001b[K     |███▋                            | 194 kB 12.3 MB/s eta 0:00:01\r\u001b[K     |███▊                            | 204 kB 12.3 MB/s eta 0:00:01\r\u001b[K     |████                            | 215 kB 12.3 MB/s eta 0:00:01\r\u001b[K     |████▏                           | 225 kB 12.3 MB/s eta 0:00:01\r\u001b[K     |████▎                           | 235 kB 12.3 MB/s eta 0:00:01\r\u001b[K     |████▌                           | 245 kB 12.3 MB/s eta 0:00:01\r\u001b[K     |████▊                           | 256 kB 12.3 MB/s eta 0:00:01\r\u001b[K     |████▉                           | 266 kB 12.3 MB/s eta 0:00:01\r\u001b[K     |█████                           | 276 kB 12.3 MB/s eta 0:00:01\r\u001b[K     |█████▎                          | 286 kB 12.3 MB/s eta 0:00:01\r\u001b[K     |█████▌                          | 296 kB 12.3 MB/s eta 0:00:01\r\u001b[K     |█████▋                          | 307 kB 12.3 MB/s eta 0:00:01\r\u001b[K     |█████▉                          | 317 kB 12.3 MB/s eta 0:00:01\r\u001b[K     |██████                          | 327 kB 12.3 MB/s eta 0:00:01\r\u001b[K     |██████▏                         | 337 kB 12.3 MB/s eta 0:00:01\r\u001b[K     |██████▍                         | 348 kB 12.3 MB/s eta 0:00:01\r\u001b[K     |██████▋                         | 358 kB 12.3 MB/s eta 0:00:01\r\u001b[K     |██████▊                         | 368 kB 12.3 MB/s eta 0:00:01\r\u001b[K     |███████                         | 378 kB 12.3 MB/s eta 0:00:01\r\u001b[K     |███████▏                        | 389 kB 12.3 MB/s eta 0:00:01\r\u001b[K     |███████▎                        | 399 kB 12.3 MB/s eta 0:00:01\r\u001b[K     |███████▌                        | 409 kB 12.3 MB/s eta 0:00:01\r\u001b[K     |███████▊                        | 419 kB 12.3 MB/s eta 0:00:01\r\u001b[K     |███████▉                        | 430 kB 12.3 MB/s eta 0:00:01\r\u001b[K     |████████                        | 440 kB 12.3 MB/s eta 0:00:01\r\u001b[K     |████████▎                       | 450 kB 12.3 MB/s eta 0:00:01\r\u001b[K     |████████▌                       | 460 kB 12.3 MB/s eta 0:00:01\r\u001b[K     |████████▋                       | 471 kB 12.3 MB/s eta 0:00:01\r\u001b[K     |████████▉                       | 481 kB 12.3 MB/s eta 0:00:01\r\u001b[K     |█████████                       | 491 kB 12.3 MB/s eta 0:00:01\r\u001b[K     |█████████▏                      | 501 kB 12.3 MB/s eta 0:00:01\r\u001b[K     |█████████▍                      | 512 kB 12.3 MB/s eta 0:00:01\r\u001b[K     |█████████▋                      | 522 kB 12.3 MB/s eta 0:00:01\r\u001b[K     |█████████▊                      | 532 kB 12.3 MB/s eta 0:00:01\r\u001b[K     |██████████                      | 542 kB 12.3 MB/s eta 0:00:01\r\u001b[K     |██████████▏                     | 552 kB 12.3 MB/s eta 0:00:01\r\u001b[K     |██████████▎                     | 563 kB 12.3 MB/s eta 0:00:01\r\u001b[K     |██████████▌                     | 573 kB 12.3 MB/s eta 0:00:01\r\u001b[K     |██████████▊                     | 583 kB 12.3 MB/s eta 0:00:01\r\u001b[K     |███████████                     | 593 kB 12.3 MB/s eta 0:00:01\r\u001b[K     |███████████                     | 604 kB 12.3 MB/s eta 0:00:01\r\u001b[K     |███████████▎                    | 614 kB 12.3 MB/s eta 0:00:01\r\u001b[K     |███████████▌                    | 624 kB 12.3 MB/s eta 0:00:01\r\u001b[K     |███████████▋                    | 634 kB 12.3 MB/s eta 0:00:01\r\u001b[K     |███████████▉                    | 645 kB 12.3 MB/s eta 0:00:01\r\u001b[K     |████████████                    | 655 kB 12.3 MB/s eta 0:00:01\r\u001b[K     |████████████▏                   | 665 kB 12.3 MB/s eta 0:00:01\r\u001b[K     |████████████▍                   | 675 kB 12.3 MB/s eta 0:00:01\r\u001b[K     |████████████▋                   | 686 kB 12.3 MB/s eta 0:00:01\r\u001b[K     |████████████▊                   | 696 kB 12.3 MB/s eta 0:00:01\r\u001b[K     |█████████████                   | 706 kB 12.3 MB/s eta 0:00:01\r\u001b[K     |█████████████▏                  | 716 kB 12.3 MB/s eta 0:00:01\r\u001b[K     |█████████████▍                  | 727 kB 12.3 MB/s eta 0:00:01\r\u001b[K     |█████████████▌                  | 737 kB 12.3 MB/s eta 0:00:01\r\u001b[K     |█████████████▊                  | 747 kB 12.3 MB/s eta 0:00:01\r\u001b[K     |██████████████                  | 757 kB 12.3 MB/s eta 0:00:01\r\u001b[K     |██████████████                  | 768 kB 12.3 MB/s eta 0:00:01\r\u001b[K     |██████████████▎                 | 778 kB 12.3 MB/s eta 0:00:01\r\u001b[K     |██████████████▌                 | 788 kB 12.3 MB/s eta 0:00:01\r\u001b[K     |██████████████▋                 | 798 kB 12.3 MB/s eta 0:00:01\r\u001b[K     |██████████████▉                 | 808 kB 12.3 MB/s eta 0:00:01\r\u001b[K     |███████████████                 | 819 kB 12.3 MB/s eta 0:00:01\r\u001b[K     |███████████████▏                | 829 kB 12.3 MB/s eta 0:00:01\r\u001b[K     |███████████████▍                | 839 kB 12.3 MB/s eta 0:00:01\r\u001b[K     |███████████████▋                | 849 kB 12.3 MB/s eta 0:00:01\r\u001b[K     |███████████████▊                | 860 kB 12.3 MB/s eta 0:00:01\r\u001b[K     |████████████████                | 870 kB 12.3 MB/s eta 0:00:01\r\u001b[K     |████████████████▏               | 880 kB 12.3 MB/s eta 0:00:01\r\u001b[K     |████████████████▍               | 890 kB 12.3 MB/s eta 0:00:01\r\u001b[K     |████████████████▌               | 901 kB 12.3 MB/s eta 0:00:01\r\u001b[K     |████████████████▊               | 911 kB 12.3 MB/s eta 0:00:01\r\u001b[K     |█████████████████               | 921 kB 12.3 MB/s eta 0:00:01\r\u001b[K     |█████████████████               | 931 kB 12.3 MB/s eta 0:00:01\r\u001b[K     |█████████████████▎              | 942 kB 12.3 MB/s eta 0:00:01\r\u001b[K     |█████████████████▌              | 952 kB 12.3 MB/s eta 0:00:01\r\u001b[K     |█████████████████▋              | 962 kB 12.3 MB/s eta 0:00:01\r\u001b[K     |█████████████████▉              | 972 kB 12.3 MB/s eta 0:00:01\r\u001b[K     |██████████████████              | 983 kB 12.3 MB/s eta 0:00:01\r\u001b[K     |██████████████████▏             | 993 kB 12.3 MB/s eta 0:00:01\r\u001b[K     |██████████████████▍             | 1.0 MB 12.3 MB/s eta 0:00:01\r\u001b[K     |██████████████████▋             | 1.0 MB 12.3 MB/s eta 0:00:01\r\u001b[K     |██████████████████▉             | 1.0 MB 12.3 MB/s eta 0:00:01\r\u001b[K     |███████████████████             | 1.0 MB 12.3 MB/s eta 0:00:01\r\u001b[K     |███████████████████▏            | 1.0 MB 12.3 MB/s eta 0:00:01\r\u001b[K     |███████████████████▍            | 1.1 MB 12.3 MB/s eta 0:00:01\r\u001b[K     |███████████████████▌            | 1.1 MB 12.3 MB/s eta 0:00:01\r\u001b[K     |███████████████████▊            | 1.1 MB 12.3 MB/s eta 0:00:01\r\u001b[K     |████████████████████            | 1.1 MB 12.3 MB/s eta 0:00:01\r\u001b[K     |████████████████████            | 1.1 MB 12.3 MB/s eta 0:00:01\r\u001b[K     |████████████████████▎           | 1.1 MB 12.3 MB/s eta 0:00:01\r\u001b[K     |████████████████████▌           | 1.1 MB 12.3 MB/s eta 0:00:01\r\u001b[K     |████████████████████▋           | 1.1 MB 12.3 MB/s eta 0:00:01\r\u001b[K     |████████████████████▉           | 1.1 MB 12.3 MB/s eta 0:00:01\r\u001b[K     |█████████████████████           | 1.1 MB 12.3 MB/s eta 0:00:01\r\u001b[K     |█████████████████████▏          | 1.2 MB 12.3 MB/s eta 0:00:01\r\u001b[K     |█████████████████████▍          | 1.2 MB 12.3 MB/s eta 0:00:01\r\u001b[K     |█████████████████████▋          | 1.2 MB 12.3 MB/s eta 0:00:01\r\u001b[K     |█████████████████████▉          | 1.2 MB 12.3 MB/s eta 0:00:01\r\u001b[K     |██████████████████████          | 1.2 MB 12.3 MB/s eta 0:00:01\r\u001b[K     |██████████████████████▏         | 1.2 MB 12.3 MB/s eta 0:00:01\r\u001b[K     |██████████████████████▍         | 1.2 MB 12.3 MB/s eta 0:00:01\r\u001b[K     |██████████████████████▌         | 1.2 MB 12.3 MB/s eta 0:00:01\r\u001b[K     |██████████████████████▊         | 1.2 MB 12.3 MB/s eta 0:00:01\r\u001b[K     |███████████████████████         | 1.2 MB 12.3 MB/s eta 0:00:01\r\u001b[K     |███████████████████████         | 1.3 MB 12.3 MB/s eta 0:00:01\r\u001b[K     |███████████████████████▎        | 1.3 MB 12.3 MB/s eta 0:00:01\r\u001b[K     |███████████████████████▌        | 1.3 MB 12.3 MB/s eta 0:00:01\r\u001b[K     |███████████████████████▋        | 1.3 MB 12.3 MB/s eta 0:00:01\r\u001b[K     |███████████████████████▉        | 1.3 MB 12.3 MB/s eta 0:00:01\r\u001b[K     |████████████████████████        | 1.3 MB 12.3 MB/s eta 0:00:01\r\u001b[K     |████████████████████████▎       | 1.3 MB 12.3 MB/s eta 0:00:01\r\u001b[K     |████████████████████████▍       | 1.3 MB 12.3 MB/s eta 0:00:01\r\u001b[K     |████████████████████████▋       | 1.3 MB 12.3 MB/s eta 0:00:01\r\u001b[K     |████████████████████████▉       | 1.4 MB 12.3 MB/s eta 0:00:01\r\u001b[K     |█████████████████████████       | 1.4 MB 12.3 MB/s eta 0:00:01\r\u001b[K     |█████████████████████████▏      | 1.4 MB 12.3 MB/s eta 0:00:01\r\u001b[K     |█████████████████████████▍      | 1.4 MB 12.3 MB/s eta 0:00:01\r\u001b[K     |█████████████████████████▌      | 1.4 MB 12.3 MB/s eta 0:00:01\r\u001b[K     |█████████████████████████▊      | 1.4 MB 12.3 MB/s eta 0:00:01\r\u001b[K     |██████████████████████████      | 1.4 MB 12.3 MB/s eta 0:00:01\r\u001b[K     |██████████████████████████      | 1.4 MB 12.3 MB/s eta 0:00:01\r\u001b[K     |██████████████████████████▎     | 1.4 MB 12.3 MB/s eta 0:00:01\r\u001b[K     |██████████████████████████▌     | 1.4 MB 12.3 MB/s eta 0:00:01\r\u001b[K     |██████████████████████████▊     | 1.5 MB 12.3 MB/s eta 0:00:01\r\u001b[K     |██████████████████████████▉     | 1.5 MB 12.3 MB/s eta 0:00:01\r\u001b[K     |███████████████████████████     | 1.5 MB 12.3 MB/s eta 0:00:01\r\u001b[K     |███████████████████████████▎    | 1.5 MB 12.3 MB/s eta 0:00:01\r\u001b[K     |███████████████████████████▍    | 1.5 MB 12.3 MB/s eta 0:00:01\r\u001b[K     |███████████████████████████▋    | 1.5 MB 12.3 MB/s eta 0:00:01\r\u001b[K     |███████████████████████████▉    | 1.5 MB 12.3 MB/s eta 0:00:01\r\u001b[K     |████████████████████████████    | 1.5 MB 12.3 MB/s eta 0:00:01\r\u001b[K     |████████████████████████████▏   | 1.5 MB 12.3 MB/s eta 0:00:01\r\u001b[K     |████████████████████████████▍   | 1.5 MB 12.3 MB/s eta 0:00:01\r\u001b[K     |████████████████████████████▌   | 1.6 MB 12.3 MB/s eta 0:00:01\r\u001b[K     |████████████████████████████▊   | 1.6 MB 12.3 MB/s eta 0:00:01\r\u001b[K     |█████████████████████████████   | 1.6 MB 12.3 MB/s eta 0:00:01\r\u001b[K     |█████████████████████████████   | 1.6 MB 12.3 MB/s eta 0:00:01\r\u001b[K     |█████████████████████████████▎  | 1.6 MB 12.3 MB/s eta 0:00:01\r\u001b[K     |█████████████████████████████▌  | 1.6 MB 12.3 MB/s eta 0:00:01\r\u001b[K     |█████████████████████████████▊  | 1.6 MB 12.3 MB/s eta 0:00:01\r\u001b[K     |█████████████████████████████▉  | 1.6 MB 12.3 MB/s eta 0:00:01\r\u001b[K     |██████████████████████████████  | 1.6 MB 12.3 MB/s eta 0:00:01\r\u001b[K     |██████████████████████████████▎ | 1.6 MB 12.3 MB/s eta 0:00:01\r\u001b[K     |██████████████████████████████▍ | 1.7 MB 12.3 MB/s eta 0:00:01\r\u001b[K     |██████████████████████████████▋ | 1.7 MB 12.3 MB/s eta 0:00:01\r\u001b[K     |██████████████████████████████▉ | 1.7 MB 12.3 MB/s eta 0:00:01\r\u001b[K     |███████████████████████████████ | 1.7 MB 12.3 MB/s eta 0:00:01\r\u001b[K     |███████████████████████████████▏| 1.7 MB 12.3 MB/s eta 0:00:01\r\u001b[K     |███████████████████████████████▍| 1.7 MB 12.3 MB/s eta 0:00:01\r\u001b[K     |███████████████████████████████▌| 1.7 MB 12.3 MB/s eta 0:00:01\r\u001b[K     |███████████████████████████████▊| 1.7 MB 12.3 MB/s eta 0:00:01\r\u001b[K     |████████████████████████████████| 1.7 MB 12.3 MB/s eta 0:00:01\r\u001b[K     |████████████████████████████████| 1.7 MB 12.3 MB/s \n",
            "\u001b[?25hRequirement already satisfied: PyYAML in /usr/local/lib/python3.7/dist-packages (from wandb) (3.13)\n",
            "Collecting setproctitle\n",
            "  Downloading setproctitle-1.2.2-cp37-cp37m-manylinux1_x86_64.whl (36 kB)\n",
            "Requirement already satisfied: protobuf>=3.12.0 in /usr/local/lib/python3.7/dist-packages (from wandb) (3.17.3)\n",
            "Requirement already satisfied: requests<3,>=2.0.0 in /usr/local/lib/python3.7/dist-packages (from wandb) (2.23.0)\n",
            "Requirement already satisfied: python-dateutil>=2.6.1 in /usr/local/lib/python3.7/dist-packages (from wandb) (2.8.2)\n",
            "Requirement already satisfied: Click!=8.0.0,>=7.0 in /usr/local/lib/python3.7/dist-packages (from wandb) (7.1.2)\n",
            "Collecting GitPython>=1.0.0\n",
            "  Downloading GitPython-3.1.27-py3-none-any.whl (181 kB)\n",
            "\u001b[K     |████████████████████████████████| 181 kB 43.5 MB/s \n",
            "\u001b[?25hRequirement already satisfied: psutil>=5.0.0 in /usr/local/lib/python3.7/dist-packages (from wandb) (5.4.8)\n",
            "Requirement already satisfied: promise<3,>=2.0 in /usr/local/lib/python3.7/dist-packages (from wandb) (2.3)\n",
            "Collecting docker-pycreds>=0.4.0\n",
            "  Downloading docker_pycreds-0.4.0-py2.py3-none-any.whl (9.0 kB)\n",
            "Requirement already satisfied: six>=1.13.0 in /usr/local/lib/python3.7/dist-packages (from wandb) (1.15.0)\n",
            "Collecting yaspin>=1.0.0\n",
            "  Downloading yaspin-2.1.0-py3-none-any.whl (18 kB)\n",
            "Collecting sentry-sdk>=1.0.0\n",
            "  Downloading sentry_sdk-1.5.8-py2.py3-none-any.whl (144 kB)\n",
            "\u001b[K     |████████████████████████████████| 144 kB 44.1 MB/s \n",
            "\u001b[?25hCollecting shortuuid>=0.5.0\n",
            "  Downloading shortuuid-1.0.8-py3-none-any.whl (9.5 kB)\n",
            "Collecting pathtools\n",
            "  Downloading pathtools-0.1.2.tar.gz (11 kB)\n",
            "Requirement already satisfied: typing-extensions>=3.7.4.3 in /usr/local/lib/python3.7/dist-packages (from GitPython>=1.0.0->wandb) (3.10.0.2)\n",
            "Collecting gitdb<5,>=4.0.1\n",
            "  Downloading gitdb-4.0.9-py3-none-any.whl (63 kB)\n",
            "\u001b[K     |████████████████████████████████| 63 kB 1.7 MB/s \n",
            "\u001b[?25hCollecting smmap<6,>=3.0.1\n",
            "  Downloading smmap-5.0.0-py3-none-any.whl (24 kB)\n",
            "Requirement already satisfied: urllib3!=1.25.0,!=1.25.1,<1.26,>=1.21.1 in /usr/local/lib/python3.7/dist-packages (from requests<3,>=2.0.0->wandb) (1.24.3)\n",
            "Requirement already satisfied: certifi>=2017.4.17 in /usr/local/lib/python3.7/dist-packages (from requests<3,>=2.0.0->wandb) (2021.10.8)\n",
            "Requirement already satisfied: idna<3,>=2.5 in /usr/local/lib/python3.7/dist-packages (from requests<3,>=2.0.0->wandb) (2.10)\n",
            "Requirement already satisfied: chardet<4,>=3.0.2 in /usr/local/lib/python3.7/dist-packages (from requests<3,>=2.0.0->wandb) (3.0.4)\n",
            "Requirement already satisfied: termcolor<2.0.0,>=1.1.0 in /usr/local/lib/python3.7/dist-packages (from yaspin>=1.0.0->wandb) (1.1.0)\n",
            "Building wheels for collected packages: pathtools\n",
            "  Building wheel for pathtools (setup.py) ... \u001b[?25l\u001b[?25hdone\n",
            "  Created wheel for pathtools: filename=pathtools-0.1.2-py3-none-any.whl size=8806 sha256=0bb5339c205faac234b6598d5a8bb86867d1f1405d906f1d89d9bf8d2cc5c8a1\n",
            "  Stored in directory: /root/.cache/pip/wheels/3e/31/09/fa59cef12cdcfecc627b3d24273699f390e71828921b2cbba2\n",
            "Successfully built pathtools\n",
            "Installing collected packages: smmap, gitdb, yaspin, shortuuid, setproctitle, sentry-sdk, pathtools, GitPython, docker-pycreds, wandb\n",
            "Successfully installed GitPython-3.1.27 docker-pycreds-0.4.0 gitdb-4.0.9 pathtools-0.1.2 sentry-sdk-1.5.8 setproctitle-1.2.2 shortuuid-1.0.8 smmap-5.0.0 wandb-0.12.11 yaspin-2.1.0\n"
          ]
        }
      ]
    },
    {
      "cell_type": "markdown",
      "source": [
        "Setup the Train Test and Validation generators\n"
      ],
      "metadata": {
        "id": "wRmD-pv_X2-o"
      }
    },
    {
      "cell_type": "code",
      "source": [
        "data_dir = \"inaturalist_12K\"\n",
        "#data_augmentation = True\n",
        "# data prepartion \n",
        "def data_preparation(data_dir , data_augmentation = True , batch_size = 250):\n",
        "  train_dir = os.path.join(data_dir, \"train\")\n",
        "  val_dir = os.path.join(data_dir, \"validation\")\n",
        "  test_dir = os.path.join(data_dir, \"val\")\n",
        "  if data_augmentation == True:\n",
        "    train_datagen = ImageDataGenerator(rescale=1./255,\n",
        "                                      height_shift_range=0.2,\n",
        "                                      width_shift_range=0.2,\n",
        "                                      horizontal_flip=True,\n",
        "                                      zoom_range=0.2,\n",
        "                                      fill_mode=\"nearest\")\n",
        "  else:\n",
        "      train_datagen = ImageDataGenerator(rescale=1./255)\n",
        "  val_datagen = ImageDataGenerator(rescale=1./255)\n",
        "  test_datagen = ImageDataGenerator(rescale=1./255)\n",
        "\n",
        "\n",
        "  train_generator = train_datagen.flow_from_directory(\n",
        "          train_dir,\n",
        "          target_size=(256, 256),\n",
        "          shuffle=True,\n",
        "          color_mode=\"rgb\",\n",
        "          batch_size=batch_size,\n",
        "          class_mode='categorical')\n",
        "\n",
        "  val_generator = val_datagen.flow_from_directory(\n",
        "          val_dir,\n",
        "          target_size=(256, 256),\n",
        "          shuffle=True,\n",
        "          color_mode=\"rgb\",\n",
        "          batch_size=batch_size,\n",
        "          class_mode='categorical')\n",
        "  \n",
        "  test_generator = test_datagen.flow_from_directory(\n",
        "        test_dir,\n",
        "        target_size= (256, 256),\n",
        "        color_mode=\"rgb\",\n",
        "        batch_size=batch_size,\n",
        "        class_mode=None)\n",
        "\n",
        "  \n",
        "  \n",
        "  return train_generator , val_generator, test_generator\n"
      ],
      "metadata": {
        "id": "P5t4ApQDi_kD"
      },
      "execution_count": 5,
      "outputs": []
    },
    {
      "cell_type": "markdown",
      "source": [
        "Implement pre trained InceptionV3, InceptionResNetV2, ResNet50, Xception"
      ],
      "metadata": {
        "id": "T0nTOiOVX-u5"
      }
    },
    {
      "cell_type": "code",
      "source": [
        "def pretrain_model(pretrained_model_name, dropout, dense_layer, pre_layer_train=None):\n",
        "    \n",
        "  # keras sequential model based on a pre-trained model intended to be fine tuned\n",
        "  \n",
        "\n",
        "    # shape image size \n",
        "    shape = (256 ,256, 3)\n",
        "\n",
        "    # add a pretrained model without the top dense layer\n",
        "    if pretrained_model_name == 'ResNet50':\n",
        "      pretrained_model = tf.keras.applications.ResNet50(include_top=False,input_shape=shape, weights='imagenet')\n",
        "    elif pretrained_model_name == 'InceptionResNetV2':\n",
        "      pretrained_model = tf.keras.applications.InceptionResNetV2(include_top=False,input_shape= shape, weights='imagenet')\n",
        "    elif pretrained_model_name == 'InceptionV3':\n",
        "      pretrained_model = tf.keras.applications.InceptionV3(include_top=False,input_shape= shape, weights='imagenet')    \n",
        "    elif pretrained_model_name == 'Xception':\n",
        "      pretrained_model = tf.keras.applications.Xception(include_top=False,input_shape= shape, weights='imagenet')\n",
        "    else:\n",
        "      raise Exception('no pretrained model given')\n",
        "      \n",
        "    \n",
        "    #freeze all layers\n",
        "    for layer in pretrained_model.layers:\n",
        "        layer.trainable=False \n",
        "    \n",
        "    #setting  top layers as trainable\n",
        "    if pre_layer_train:\n",
        "      for layer in pretrained_model.layers[-pre_layer_train:]:\n",
        "        layer.trainable=True\n",
        "\n",
        "    model = tf.keras.models.Sequential()\n",
        "    model.add(pretrained_model)  #adding pretrained model\n",
        "    model.add(Flatten()) # flatten layer\n",
        "    model.add(Dense(dense_layer, activation= 'relu'))#adding a dense layer\n",
        "    model.add(Dropout(dropout)) # dropout\n",
        "    model.add(Dense(10, activation=\"softmax\"))#softmax layer\n",
        "# sum model \n",
        "    return model"
      ],
      "metadata": {
        "id": "0HWNp_Fzi_mV"
      },
      "execution_count": 6,
      "outputs": []
    },
    {
      "cell_type": "markdown",
      "source": [
        "Configuration wandb\n"
      ],
      "metadata": {
        "id": "A-Nqbud5YRoi"
      }
    },
    {
      "cell_type": "code",
      "source": [
        "pre_train_model = \"InceptionV3\"   #you can change model for wandb sweeps\n",
        "def train():\n",
        "    # Default values for hyper-parameters\n",
        "    config_defaults = {\n",
        "        \"data_augmentation\": True,\n",
        "        \"batch_size\": 250,\n",
        "        \"dropout\": 0.1,\n",
        "        \"dense_layer\": 256,\n",
        "        \"learning_rate\": 0.0001,\n",
        "        \"epochs\": 5,\n",
        "        \"pre_layer_train\": None,\n",
        "        \"pretrained_model_name\": 'InceptionV3'\n",
        "      \n",
        "\n",
        "    }\n",
        "\n",
        "    # Initialize a new wandb run\n",
        "    wandb.init(config=config_defaults)\n",
        "    \n",
        "    # Config is a variable that holds and saves hyperparameters \n",
        "    config = wandb.config\n",
        "\n",
        "    # Local variables obtained from wandb config\n",
        "    data_augmentation = config.data_augmentation\n",
        "    batch_size = config.batch_size\n",
        "    dropout = config.dropout\n",
        "    dense_layer = config.dense_layer\n",
        "    learning_rate = config.learning_rate\n",
        "    epochs = config.epochs\n",
        "    pre_layer_train = config.pre_layer_train\n",
        "    pretrained_model_name = config.pretrained_model_name\n",
        "    \n",
        "\n",
        "    \n",
        "   # show  the hyperparameters\n",
        "    run_name = \"pre_train_mdl_{}_aug_{}_bs_{}_ep_{}_dropout_{}_dense_{}\".format(pre_train_model, data_augmentation, batch_size,epochs, dropout, dense_layer)\n",
        "    print(run_name)\n",
        "\n",
        "    #data generators\n",
        "    train_generator , val_generator, test_generator = data_preparation(data_dir , data_augmentation = True , batch_size = 250)\n",
        "    \n",
        "    # calling the pretrained model \n",
        "    model = pretrain_model(pretrained_model_name = pretrained_model_name, dropout = dropout, dense_layer = dense_layer, pre_layer_train=pre_layer_train)\n",
        "    print(model.count_params())\n",
        "\n",
        "    # compile the model using optmizer  (adam)\n",
        "    model.compile(optimizer=Adam(learning_rate = learning_rate), loss = 'categorical_crossentropy', metrics = ['accuracy'])\n",
        "\n",
        "    # Early Stopping method \n",
        "    earlyStopping = EarlyStopping(monitor='val_loss', patience=10, verbose=0, mode='min')\n",
        "\n",
        "    # save the best validation accuracy\n",
        "    checkpoint = ModelCheckpoint('best_model.h5', monitor='val_accuracy', mode='max', verbose=0, save_best_only=True)\n",
        "\n",
        "# model fit \n",
        "    history = model.fit(train_generator,\n",
        "                        steps_per_epoch = train_generator.n//train_generator.batch_size,\n",
        "                        validation_data = val_generator,\n",
        "                        validation_steps = val_generator.n//val_generator.batch_size,\n",
        "                        epochs=epochs, verbose = 2, \n",
        "                        callbacks=[WandbCallback(), earlyStopping, checkpoint])\n",
        "      \n",
        "    \n",
        "\n",
        "    wandb.run.name = run_name\n",
        "    wandb.run.save()\n",
        "    wandb.run.finish()\n",
        "    return history"
      ],
      "metadata": {
        "id": "iNyI92aBo2n6"
      },
      "execution_count": 7,
      "outputs": []
    },
    {
      "cell_type": "markdown",
      "source": [
        "sweeps configuration for hyper parameters "
      ],
      "metadata": {
        "id": "6beHG2WCZI56"
      }
    },
    {
      "cell_type": "code",
      "source": [
        "\n",
        "sweep_config = {\n",
        "  \"name\": \"CNN_PartB\",\n",
        "  \"metric\": {\n",
        "      \"name\":\"val_accuracy\",\n",
        "      \"goal\": \"maximize\"\n",
        "  },\n",
        "  \"method\": \"bayes\",\n",
        "  \"parameters\": {\n",
        "        \"data_augmentation\": {\n",
        "            \"values\": [True, False]\n",
        "        },\n",
        "        \"batch_size\": {\n",
        "            \"values\": [256,512]\n",
        "        },\n",
        "        \"learning_rate\": {\n",
        "            \"values\": [0.001, 0.0001]\n",
        "        },\n",
        "        \"epochs\": {\n",
        "            \"values\": [5, 10]\n",
        "        },\n",
        "        \"dropout\": {\n",
        "            \"values\": [0, 0.2,0.4]\n",
        "        },\n",
        "        \"dense_layer\": {\n",
        "            \"values\": [128, 256, 512]\n",
        "        },\n",
        "          \"pre_layer_train\": {\n",
        "            \"values\": [None, 10, 20]\n",
        "        },\n",
        "          \"pretrained_model_name\":{\n",
        "             \"values\": ['Xception','ResNet50','InceptionV3','InceptionResNetV2'] \n",
        "          },\n",
        "\n",
        "      \n",
        "           }\n",
        "}\n",
        "\n",
        "sweep_id = \"q832m8jh\"\n",
        "wandb.agent(sweep_id,train,entity=\"moni6264\",project=\"test_part_b\",count=5)\n",
        "#sweep_id = wandb.sweep(sweep_config, entity=\"moni6264\", project=\"test_part_b\")\n",
        "#wandb.agent(sweep_id, train, count=8)"
      ],
      "metadata": {
        "colab": {
          "base_uri": "https://localhost:8080/",
          "height": 1000,
          "referenced_widgets": [
            "df721834cf354dcb9a0f95b2186743b1",
            "1896b27674b940c48ea09b63fb757b0b",
            "78985aa83d3648c1a1ef32b8c740d362",
            "d1e540b885644f468dc6c86a47c8fc53",
            "b607471a607e4a459472cb1617d5907a",
            "01d644e34ef243a8b9ce7872214be32d",
            "53f50d2faaa5419f9686a656e1d710e0",
            "155a2e7b23cd4eca82ebd8c71c75b76c",
            "07718c101fd24b57a684284dde738da4",
            "8854b0c1199345a7847692b3e8fef2b9",
            "36943ec3e7044c56983bdda5b52ec49f",
            "577aabd821e441acbec3d8a508b58f0d",
            "40de9fdc10fe4063baeda2cc33c10558",
            "9a646ce1297442d7a7a64aa75833a718",
            "de6ac4af1b0c433eb6f847a815a38e94",
            "bc82a7ef2a754a509393de39ddc9a329",
            "03f4898e605244f0b75c2fb423a37069",
            "01dd3dafe7864c5eb80256b9b3af97f0",
            "10946ce9632144b0b85a8a135f9b9d68",
            "31534a40945143c797fef89e174a4917",
            "941ef1042beb4734860d1b50e3821cd7",
            "7f6f3dcf71094c9ab7cea440a123cdba",
            "a4f6c5af2a644292b7bfee1e6b61c071",
            "ff377a2dc89d449888872e2ff329ab90",
            "77792a56b081420f809e845bd1de5f15",
            "358e0d8f88dd4723ba8882d8c259bdca",
            "2a1f9ca9fa1b45a48cf7df136c963d19",
            "5c7809088aa04a86b6b715bfd780091b",
            "bf9e7a42d16b457faf40b1bcffd5b2fd",
            "42eea30df7da443387603f7994518e89",
            "f890165165ce4278a7bb4f57f3fad537",
            "7392548d7f6d488ab89e91b140def955",
            "8bd81f63ffb8433bbb6908cdeac98f56",
            "ef7406b2ad634e649762a8fe6c351119",
            "c2cadf6ae4924e37a68623502c1848e1",
            "8f38b3259d9f425384253d2f50a995ef",
            "4bbaf674182b4f9891847e06f28a5e4c",
            "93c93639ce17406b94e6c89ec430e13c",
            "517b56f3fa574baa8c700f9610b83fd7",
            "0201e28e89b2451e96b027024084d50c"
          ]
        },
        "id": "vjKhNLrmo2qd",
        "outputId": "2c42fe7b-c119-47dc-ade0-de8e45914dba"
      },
      "execution_count": 8,
      "outputs": [
        {
          "data": {
            "application/javascript": [
              "\n",
              "        window._wandbApiKey = new Promise((resolve, reject) => {\n",
              "            function loadScript(url) {\n",
              "            return new Promise(function(resolve, reject) {\n",
              "                let newScript = document.createElement(\"script\");\n",
              "                newScript.onerror = reject;\n",
              "                newScript.onload = resolve;\n",
              "                document.body.appendChild(newScript);\n",
              "                newScript.src = url;\n",
              "            });\n",
              "            }\n",
              "            loadScript(\"https://cdn.jsdelivr.net/npm/postmate/build/postmate.min.js\").then(() => {\n",
              "            const iframe = document.createElement('iframe')\n",
              "            iframe.style.cssText = \"width:0;height:0;border:none\"\n",
              "            document.body.appendChild(iframe)\n",
              "            const handshake = new Postmate({\n",
              "                container: iframe,\n",
              "                url: 'https://wandb.ai/authorize'\n",
              "            });\n",
              "            const timeout = setTimeout(() => reject(\"Couldn't auto authenticate\"), 5000)\n",
              "            handshake.then(function(child) {\n",
              "                child.on('authorize', data => {\n",
              "                    clearTimeout(timeout)\n",
              "                    resolve(data)\n",
              "                });\n",
              "            });\n",
              "            })\n",
              "        });\n",
              "    "
            ],
            "text/plain": [
              "<IPython.core.display.Javascript object>"
            ]
          },
          "metadata": {},
          "output_type": "display_data"
        },
        {
          "metadata": {
            "tags": null
          },
          "name": "stderr",
          "output_type": "stream",
          "text": [
            "\u001b[34m\u001b[1mwandb\u001b[0m: Appending key for api.wandb.ai to your netrc file: /root/.netrc\n",
            "\u001b[34m\u001b[1mwandb\u001b[0m: Agent Starting Run: eqj40z56 with config:\n",
            "\u001b[34m\u001b[1mwandb\u001b[0m: \tbatch_size: 128\n",
            "\u001b[34m\u001b[1mwandb\u001b[0m: \tdata_augmentation: True\n",
            "\u001b[34m\u001b[1mwandb\u001b[0m: \tdense_layer: 512\n",
            "\u001b[34m\u001b[1mwandb\u001b[0m: \tdropout: 0.4\n",
            "\u001b[34m\u001b[1mwandb\u001b[0m: \tepochs: 5\n",
            "\u001b[34m\u001b[1mwandb\u001b[0m: \tlearning_rate: 0.001\n",
            "\u001b[34m\u001b[1mwandb\u001b[0m: \tpre_layer_train: 10\n",
            "\u001b[34m\u001b[1mwandb\u001b[0m: \tpretrained_model_name: InceptionResNetV2\n",
            "\u001b[34m\u001b[1mwandb\u001b[0m: Currently logged in as: \u001b[33mmoni6264\u001b[0m (use `wandb login --relogin` to force relogin)\n"
          ]
        },
        {
          "data": {
            "text/html": [
              "Tracking run with wandb version 0.12.11"
            ],
            "text/plain": [
              "<IPython.core.display.HTML object>"
            ]
          },
          "metadata": {},
          "output_type": "display_data"
        },
        {
          "data": {
            "text/html": [
              "Run data is saved locally in <code>/content/wandb/run-20220325_155731-eqj40z56</code>"
            ],
            "text/plain": [
              "<IPython.core.display.HTML object>"
            ]
          },
          "metadata": {},
          "output_type": "display_data"
        },
        {
          "data": {
            "text/html": [
              "Syncing run <strong><a href=\"https://wandb.ai/moni6264/test_part_b/runs/eqj40z56\" target=\"_blank\">wobbly-sweep-9</a></strong> to <a href=\"https://wandb.ai/moni6264/test_part_b\" target=\"_blank\">Weights & Biases</a> (<a href=\"https://wandb.me/run\" target=\"_blank\">docs</a>)<br/>Sweep page:  <a href=\"https://wandb.ai/moni6264/test_part_b/sweeps/q832m8jh\" target=\"_blank\">https://wandb.ai/moni6264/test_part_b/sweeps/q832m8jh</a>"
            ],
            "text/plain": [
              "<IPython.core.display.HTML object>"
            ]
          },
          "metadata": {},
          "output_type": "display_data"
        },
        {
          "metadata": {
            "tags": null
          },
          "name": "stdout",
          "output_type": "stream",
          "text": [
            "pre_train_mdl_InceptionV3_aug_True_bs_128_ep_5_dropout_0.4_dense_512\n",
            "Found 8999 images belonging to 10 classes.\n",
            "Found 1000 images belonging to 10 classes.\n",
            "Found 2000 images belonging to 10 classes.\n",
            "Downloading data from https://storage.googleapis.com/tensorflow/keras-applications/inception_resnet_v2/inception_resnet_v2_weights_tf_dim_ordering_tf_kernels_notop.h5\n",
            "219062272/219055592 [==============================] - 8s 0us/step\n",
            "219070464/219055592 [==============================] - 8s 0us/step\n",
            "82653930\n",
            "Epoch 1/5\n",
            "35/35 - 381s - loss: 5.8007 - accuracy: 0.5415 - val_loss: 1.0121 - val_accuracy: 0.7710 - _timestamp: 1648224262.0000 - _runtime: 411.0000 - 381s/epoch - 11s/step\n",
            "Epoch 2/5\n",
            "35/35 - 306s - loss: 0.9576 - accuracy: 0.7122 - val_loss: 0.7759 - val_accuracy: 0.7760 - _timestamp: 1648224568.0000 - _runtime: 717.0000 - 306s/epoch - 9s/step\n",
            "Epoch 3/5\n",
            "35/35 - 308s - loss: 0.8741 - accuracy: 0.7369 - val_loss: 0.6836 - val_accuracy: 0.7970 - _timestamp: 1648224889.0000 - _runtime: 1038.0000 - 308s/epoch - 9s/step\n",
            "Epoch 4/5\n",
            "35/35 - 305s - loss: 0.8145 - accuracy: 0.7532 - val_loss: 0.6674 - val_accuracy: 0.7960 - _timestamp: 1648225214.0000 - _runtime: 1363.0000 - 305s/epoch - 9s/step\n",
            "Epoch 5/5\n",
            "35/35 - 295s - loss: 0.7524 - accuracy: 0.7698 - val_loss: 0.6609 - val_accuracy: 0.7930 - _timestamp: 1648225526.0000 - _runtime: 1675.0000 - 295s/epoch - 8s/step\n"
          ]
        },
        {
          "metadata": {
            "tags": null
          },
          "name": "stderr",
          "output_type": "stream",
          "text": [
            "\u001b[34m\u001b[1mwandb\u001b[0m: \u001b[33mWARNING\u001b[0m Calling wandb.run.save without any arguments is deprecated.Changes to attributes are automatically persisted.\n"
          ]
        },
        {
          "metadata": {
            "tags": null
          },
          "name": "stdout",
          "output_type": "stream",
          "text": [
            "\n"
          ]
        },
        {
          "data": {
            "text/html": [
              "Waiting for W&B process to finish... <strong style=\"color:green\">(success).</strong>"
            ],
            "text/plain": [
              "<IPython.core.display.HTML object>"
            ]
          },
          "metadata": {},
          "output_type": "display_data"
        },
        {
          "data": {
            "application/vnd.jupyter.widget-view+json": {
              "model_id": "df721834cf354dcb9a0f95b2186743b1",
              "version_major": 2,
              "version_minor": 0
            },
            "text/plain": [
              "VBox(children=(Label(value='564.065 MB of 564.065 MB uploaded (0.000 MB deduped)\\r'), FloatProgress(value=1.0,…"
            ]
          },
          "metadata": {},
          "output_type": "display_data"
        },
        {
          "data": {
            "text/html": [
              "<style>\n",
              "    table.wandb td:nth-child(1) { padding: 0 10px; text-align: right }\n",
              "    .wandb-row { display: flex; flex-direction: row; flex-wrap: wrap; width: 100% }\n",
              "    .wandb-col { display: flex; flex-direction: column; flex-basis: 100%; flex: 1; padding: 10px; }\n",
              "    </style>\n",
              "<div class=\"wandb-row\"><div class=\"wandb-col\"><h3>Run history:</h3><br/><table class=\"wandb\"><tr><td>accuracy</td><td>▁▆▇▇█</td></tr><tr><td>epoch</td><td>▁▃▅▆█</td></tr><tr><td>loss</td><td>█▁▁▁▁</td></tr><tr><td>val_accuracy</td><td>▁▂██▇</td></tr><tr><td>val_loss</td><td>█▃▁▁▁</td></tr></table><br/></div><div class=\"wandb-col\"><h3>Run summary:</h3><br/><table class=\"wandb\"><tr><td>accuracy</td><td>0.7698</td></tr><tr><td>best_epoch</td><td>4</td></tr><tr><td>best_val_loss</td><td>0.66095</td></tr><tr><td>epoch</td><td>4</td></tr><tr><td>loss</td><td>0.75242</td></tr><tr><td>val_accuracy</td><td>0.793</td></tr><tr><td>val_loss</td><td>0.66095</td></tr></table><br/></div></div>"
            ],
            "text/plain": [
              "<IPython.core.display.HTML object>"
            ]
          },
          "metadata": {},
          "output_type": "display_data"
        },
        {
          "data": {
            "text/html": [
              "Synced <strong style=\"color:#cdcd00\">wobbly-sweep-9</strong>: <a href=\"https://wandb.ai/moni6264/test_part_b/runs/eqj40z56\" target=\"_blank\">https://wandb.ai/moni6264/test_part_b/runs/eqj40z56</a><br/>Synced 5 W&B file(s), 0 media file(s), 0 artifact file(s) and 1 other file(s)"
            ],
            "text/plain": [
              "<IPython.core.display.HTML object>"
            ]
          },
          "metadata": {},
          "output_type": "display_data"
        },
        {
          "data": {
            "text/html": [
              "Find logs at: <code>./wandb/run-20220325_155731-eqj40z56/logs</code>"
            ],
            "text/plain": [
              "<IPython.core.display.HTML object>"
            ]
          },
          "metadata": {},
          "output_type": "display_data"
        },
        {
          "metadata": {
            "tags": null
          },
          "name": "stderr",
          "output_type": "stream",
          "text": [
            "\u001b[34m\u001b[1mwandb\u001b[0m: Agent Starting Run: zw6mq0rw with config:\n",
            "\u001b[34m\u001b[1mwandb\u001b[0m: \tbatch_size: 128\n",
            "\u001b[34m\u001b[1mwandb\u001b[0m: \tdata_augmentation: True\n",
            "\u001b[34m\u001b[1mwandb\u001b[0m: \tdense_layer: 512\n",
            "\u001b[34m\u001b[1mwandb\u001b[0m: \tdropout: 0.4\n",
            "\u001b[34m\u001b[1mwandb\u001b[0m: \tepochs: 5\n",
            "\u001b[34m\u001b[1mwandb\u001b[0m: \tlearning_rate: 0.001\n",
            "\u001b[34m\u001b[1mwandb\u001b[0m: \tpre_layer_train: 10\n",
            "\u001b[34m\u001b[1mwandb\u001b[0m: \tpretrained_model_name: InceptionResNetV2\n"
          ]
        },
        {
          "data": {
            "text/html": [
              "Tracking run with wandb version 0.12.11"
            ],
            "text/plain": [
              "<IPython.core.display.HTML object>"
            ]
          },
          "metadata": {},
          "output_type": "display_data"
        },
        {
          "data": {
            "text/html": [
              "Run data is saved locally in <code>/content/wandb/run-20220325_162610-zw6mq0rw</code>"
            ],
            "text/plain": [
              "<IPython.core.display.HTML object>"
            ]
          },
          "metadata": {},
          "output_type": "display_data"
        },
        {
          "data": {
            "text/html": [
              "Syncing run <strong><a href=\"https://wandb.ai/moni6264/test_part_b/runs/zw6mq0rw\" target=\"_blank\">woven-sweep-11</a></strong> to <a href=\"https://wandb.ai/moni6264/test_part_b\" target=\"_blank\">Weights & Biases</a> (<a href=\"https://wandb.me/run\" target=\"_blank\">docs</a>)<br/>Sweep page:  <a href=\"https://wandb.ai/moni6264/test_part_b/sweeps/q832m8jh\" target=\"_blank\">https://wandb.ai/moni6264/test_part_b/sweeps/q832m8jh</a>"
            ],
            "text/plain": [
              "<IPython.core.display.HTML object>"
            ]
          },
          "metadata": {},
          "output_type": "display_data"
        },
        {
          "metadata": {
            "tags": null
          },
          "name": "stdout",
          "output_type": "stream",
          "text": [
            "pre_train_mdl_InceptionV3_aug_True_bs_128_ep_5_dropout_0.4_dense_512\n",
            "Found 8999 images belonging to 10 classes.\n",
            "Found 1000 images belonging to 10 classes.\n",
            "Found 2000 images belonging to 10 classes.\n",
            "82653930\n",
            "Epoch 1/5\n",
            "35/35 - 313s - loss: 6.5692 - accuracy: 0.5374 - val_loss: 1.0641 - val_accuracy: 0.7660 - _timestamp: 1648225902.0000 - _runtime: 331.0000 - 313s/epoch - 9s/step\n",
            "Epoch 2/5\n",
            "35/35 - 293s - loss: 0.9670 - accuracy: 0.7117 - val_loss: 0.8024 - val_accuracy: 0.7850 - _timestamp: 1648226217.0000 - _runtime: 646.0000 - 293s/epoch - 8s/step\n",
            "Epoch 3/5\n",
            "35/35 - 295s - loss: 0.8673 - accuracy: 0.7335 - val_loss: 0.7956 - val_accuracy: 0.7790 - _timestamp: 1648226541.0000 - _runtime: 970.0000 - 295s/epoch - 8s/step\n",
            "Epoch 4/5\n",
            "35/35 - 299s - loss: 0.8068 - accuracy: 0.7525 - val_loss: 0.7042 - val_accuracy: 0.7860 - _timestamp: 1648226839.0000 - _runtime: 1268.0000 - 299s/epoch - 9s/step\n",
            "Epoch 5/5\n",
            "35/35 - 293s - loss: 0.7620 - accuracy: 0.7645 - val_loss: 0.6315 - val_accuracy: 0.8160 - _timestamp: 1648227133.0000 - _runtime: 1562.0000 - 293s/epoch - 8s/step\n",
            "\n"
          ]
        },
        {
          "data": {
            "text/html": [
              "Waiting for W&B process to finish... <strong style=\"color:green\">(success).</strong>"
            ],
            "text/plain": [
              "<IPython.core.display.HTML object>"
            ]
          },
          "metadata": {},
          "output_type": "display_data"
        },
        {
          "data": {
            "application/vnd.jupyter.widget-view+json": {
              "model_id": "07718c101fd24b57a684284dde738da4",
              "version_major": 2,
              "version_minor": 0
            },
            "text/plain": [
              "VBox(children=(Label(value='564.065 MB of 564.065 MB uploaded (0.000 MB deduped)\\r'), FloatProgress(value=1.0,…"
            ]
          },
          "metadata": {},
          "output_type": "display_data"
        },
        {
          "data": {
            "text/html": [
              "<style>\n",
              "    table.wandb td:nth-child(1) { padding: 0 10px; text-align: right }\n",
              "    .wandb-row { display: flex; flex-direction: row; flex-wrap: wrap; width: 100% }\n",
              "    .wandb-col { display: flex; flex-direction: column; flex-basis: 100%; flex: 1; padding: 10px; }\n",
              "    </style>\n",
              "<div class=\"wandb-row\"><div class=\"wandb-col\"><h3>Run history:</h3><br/><table class=\"wandb\"><tr><td>accuracy</td><td>▁▆▇██</td></tr><tr><td>epoch</td><td>▁▃▅▆█</td></tr><tr><td>loss</td><td>█▁▁▁▁</td></tr><tr><td>val_accuracy</td><td>▁▄▃▄█</td></tr><tr><td>val_loss</td><td>█▄▄▂▁</td></tr></table><br/></div><div class=\"wandb-col\"><h3>Run summary:</h3><br/><table class=\"wandb\"><tr><td>accuracy</td><td>0.76454</td></tr><tr><td>best_epoch</td><td>4</td></tr><tr><td>best_val_loss</td><td>0.63149</td></tr><tr><td>epoch</td><td>4</td></tr><tr><td>loss</td><td>0.76204</td></tr><tr><td>val_accuracy</td><td>0.816</td></tr><tr><td>val_loss</td><td>0.63149</td></tr></table><br/></div></div>"
            ],
            "text/plain": [
              "<IPython.core.display.HTML object>"
            ]
          },
          "metadata": {},
          "output_type": "display_data"
        },
        {
          "data": {
            "text/html": [
              "Synced <strong style=\"color:#cdcd00\">woven-sweep-11</strong>: <a href=\"https://wandb.ai/moni6264/test_part_b/runs/zw6mq0rw\" target=\"_blank\">https://wandb.ai/moni6264/test_part_b/runs/zw6mq0rw</a><br/>Synced 5 W&B file(s), 0 media file(s), 0 artifact file(s) and 1 other file(s)"
            ],
            "text/plain": [
              "<IPython.core.display.HTML object>"
            ]
          },
          "metadata": {},
          "output_type": "display_data"
        },
        {
          "data": {
            "text/html": [
              "Find logs at: <code>./wandb/run-20220325_162610-zw6mq0rw/logs</code>"
            ],
            "text/plain": [
              "<IPython.core.display.HTML object>"
            ]
          },
          "metadata": {},
          "output_type": "display_data"
        },
        {
          "metadata": {
            "tags": null
          },
          "name": "stderr",
          "output_type": "stream",
          "text": [
            "\u001b[34m\u001b[1mwandb\u001b[0m: Agent Starting Run: 2mypannq with config:\n",
            "\u001b[34m\u001b[1mwandb\u001b[0m: \tbatch_size: 256\n",
            "\u001b[34m\u001b[1mwandb\u001b[0m: \tdata_augmentation: True\n",
            "\u001b[34m\u001b[1mwandb\u001b[0m: \tdense_layer: 512\n",
            "\u001b[34m\u001b[1mwandb\u001b[0m: \tdropout: 0.4\n",
            "\u001b[34m\u001b[1mwandb\u001b[0m: \tepochs: 5\n",
            "\u001b[34m\u001b[1mwandb\u001b[0m: \tlearning_rate: 0.001\n",
            "\u001b[34m\u001b[1mwandb\u001b[0m: \tpre_layer_train: 20\n",
            "\u001b[34m\u001b[1mwandb\u001b[0m: \tpretrained_model_name: InceptionResNetV2\n"
          ]
        },
        {
          "data": {
            "text/html": [
              "Tracking run with wandb version 0.12.11"
            ],
            "text/plain": [
              "<IPython.core.display.HTML object>"
            ]
          },
          "metadata": {},
          "output_type": "display_data"
        },
        {
          "data": {
            "text/html": [
              "Run data is saved locally in <code>/content/wandb/run-20220325_165245-2mypannq</code>"
            ],
            "text/plain": [
              "<IPython.core.display.HTML object>"
            ]
          },
          "metadata": {},
          "output_type": "display_data"
        },
        {
          "data": {
            "text/html": [
              "Syncing run <strong><a href=\"https://wandb.ai/moni6264/test_part_b/runs/2mypannq\" target=\"_blank\">ethereal-sweep-13</a></strong> to <a href=\"https://wandb.ai/moni6264/test_part_b\" target=\"_blank\">Weights & Biases</a> (<a href=\"https://wandb.me/run\" target=\"_blank\">docs</a>)<br/>Sweep page:  <a href=\"https://wandb.ai/moni6264/test_part_b/sweeps/q832m8jh\" target=\"_blank\">https://wandb.ai/moni6264/test_part_b/sweeps/q832m8jh</a>"
            ],
            "text/plain": [
              "<IPython.core.display.HTML object>"
            ]
          },
          "metadata": {},
          "output_type": "display_data"
        },
        {
          "metadata": {
            "tags": null
          },
          "name": "stdout",
          "output_type": "stream",
          "text": [
            "pre_train_mdl_InceptionV3_aug_True_bs_256_ep_5_dropout_0.4_dense_512\n",
            "Found 8999 images belonging to 10 classes.\n",
            "Found 1000 images belonging to 10 classes.\n",
            "Found 2000 images belonging to 10 classes.\n",
            "82653930\n",
            "Epoch 1/5\n",
            "35/35 - 310s - loss: 6.5017 - accuracy: 0.5489 - val_loss: 1.4849 - val_accuracy: 0.6110 - _timestamp: 1648227494.0000 - _runtime: 329.0000 - 310s/epoch - 9s/step\n",
            "Epoch 2/5\n",
            "35/35 - 294s - loss: 0.8289 - accuracy: 0.7485 - val_loss: 1.3150 - val_accuracy: 0.6780 - _timestamp: 1648227812.0000 - _runtime: 647.0000 - 294s/epoch - 8s/step\n",
            "Epoch 3/5\n",
            "35/35 - 295s - loss: 0.7272 - accuracy: 0.7786 - val_loss: 0.8087 - val_accuracy: 0.7900 - _timestamp: 1648228133.0000 - _runtime: 968.0000 - 295s/epoch - 8s/step\n",
            "Epoch 4/5\n",
            "35/35 - 287s - loss: 0.6658 - accuracy: 0.7953 - val_loss: 0.8174 - val_accuracy: 0.7890 - _timestamp: 1648228428.0000 - _runtime: 1263.0000 - 287s/epoch - 8s/step\n",
            "Epoch 5/5\n",
            "35/35 - 287s - loss: 0.6125 - accuracy: 0.8105 - val_loss: 0.8109 - val_accuracy: 0.7810 - _timestamp: 1648228751.0000 - _runtime: 1586.0000 - 287s/epoch - 8s/step\n",
            "\n"
          ]
        },
        {
          "data": {
            "text/html": [
              "Waiting for W&B process to finish... <strong style=\"color:green\">(success).</strong>"
            ],
            "text/plain": [
              "<IPython.core.display.HTML object>"
            ]
          },
          "metadata": {},
          "output_type": "display_data"
        },
        {
          "data": {
            "application/vnd.jupyter.widget-view+json": {
              "model_id": "03f4898e605244f0b75c2fb423a37069",
              "version_major": 2,
              "version_minor": 0
            },
            "text/plain": [
              "VBox(children=(Label(value='572.477 MB of 572.477 MB uploaded (0.000 MB deduped)\\r'), FloatProgress(value=1.0,…"
            ]
          },
          "metadata": {},
          "output_type": "display_data"
        },
        {
          "data": {
            "text/html": [
              "<style>\n",
              "    table.wandb td:nth-child(1) { padding: 0 10px; text-align: right }\n",
              "    .wandb-row { display: flex; flex-direction: row; flex-wrap: wrap; width: 100% }\n",
              "    .wandb-col { display: flex; flex-direction: column; flex-basis: 100%; flex: 1; padding: 10px; }\n",
              "    </style>\n",
              "<div class=\"wandb-row\"><div class=\"wandb-col\"><h3>Run history:</h3><br/><table class=\"wandb\"><tr><td>accuracy</td><td>▁▆▇██</td></tr><tr><td>epoch</td><td>▁▃▅▆█</td></tr><tr><td>loss</td><td>█▁▁▁▁</td></tr><tr><td>val_accuracy</td><td>▁▄███</td></tr><tr><td>val_loss</td><td>█▆▁▁▁</td></tr></table><br/></div><div class=\"wandb-col\"><h3>Run summary:</h3><br/><table class=\"wandb\"><tr><td>accuracy</td><td>0.81049</td></tr><tr><td>best_epoch</td><td>2</td></tr><tr><td>best_val_loss</td><td>0.80865</td></tr><tr><td>epoch</td><td>4</td></tr><tr><td>loss</td><td>0.61247</td></tr><tr><td>val_accuracy</td><td>0.781</td></tr><tr><td>val_loss</td><td>0.81088</td></tr></table><br/></div></div>"
            ],
            "text/plain": [
              "<IPython.core.display.HTML object>"
            ]
          },
          "metadata": {},
          "output_type": "display_data"
        },
        {
          "data": {
            "text/html": [
              "Synced <strong style=\"color:#cdcd00\">ethereal-sweep-13</strong>: <a href=\"https://wandb.ai/moni6264/test_part_b/runs/2mypannq\" target=\"_blank\">https://wandb.ai/moni6264/test_part_b/runs/2mypannq</a><br/>Synced 5 W&B file(s), 0 media file(s), 0 artifact file(s) and 1 other file(s)"
            ],
            "text/plain": [
              "<IPython.core.display.HTML object>"
            ]
          },
          "metadata": {},
          "output_type": "display_data"
        },
        {
          "data": {
            "text/html": [
              "Find logs at: <code>./wandb/run-20220325_165245-2mypannq/logs</code>"
            ],
            "text/plain": [
              "<IPython.core.display.HTML object>"
            ]
          },
          "metadata": {},
          "output_type": "display_data"
        },
        {
          "metadata": {
            "tags": null
          },
          "name": "stderr",
          "output_type": "stream",
          "text": [
            "\u001b[34m\u001b[1mwandb\u001b[0m: Agent Starting Run: 7m4jn21x with config:\n",
            "\u001b[34m\u001b[1mwandb\u001b[0m: \tbatch_size: 128\n",
            "\u001b[34m\u001b[1mwandb\u001b[0m: \tdata_augmentation: True\n",
            "\u001b[34m\u001b[1mwandb\u001b[0m: \tdense_layer: 512\n",
            "\u001b[34m\u001b[1mwandb\u001b[0m: \tdropout: 0.4\n",
            "\u001b[34m\u001b[1mwandb\u001b[0m: \tepochs: 5\n",
            "\u001b[34m\u001b[1mwandb\u001b[0m: \tlearning_rate: 0.0001\n",
            "\u001b[34m\u001b[1mwandb\u001b[0m: \tpre_layer_train: 20\n",
            "\u001b[34m\u001b[1mwandb\u001b[0m: \tpretrained_model_name: Xception\n"
          ]
        },
        {
          "data": {
            "text/html": [
              "Tracking run with wandb version 0.12.11"
            ],
            "text/plain": [
              "<IPython.core.display.HTML object>"
            ]
          },
          "metadata": {},
          "output_type": "display_data"
        },
        {
          "data": {
            "text/html": [
              "Run data is saved locally in <code>/content/wandb/run-20220325_172012-7m4jn21x</code>"
            ],
            "text/plain": [
              "<IPython.core.display.HTML object>"
            ]
          },
          "metadata": {},
          "output_type": "display_data"
        },
        {
          "data": {
            "text/html": [
              "Syncing run <strong><a href=\"https://wandb.ai/moni6264/test_part_b/runs/7m4jn21x\" target=\"_blank\">sweepy-sweep-14</a></strong> to <a href=\"https://wandb.ai/moni6264/test_part_b\" target=\"_blank\">Weights & Biases</a> (<a href=\"https://wandb.me/run\" target=\"_blank\">docs</a>)<br/>Sweep page:  <a href=\"https://wandb.ai/moni6264/test_part_b/sweeps/q832m8jh\" target=\"_blank\">https://wandb.ai/moni6264/test_part_b/sweeps/q832m8jh</a>"
            ],
            "text/plain": [
              "<IPython.core.display.HTML object>"
            ]
          },
          "metadata": {},
          "output_type": "display_data"
        },
        {
          "metadata": {
            "tags": null
          },
          "name": "stdout",
          "output_type": "stream",
          "text": [
            "pre_train_mdl_InceptionV3_aug_True_bs_128_ep_5_dropout_0.4_dense_512\n",
            "Found 8999 images belonging to 10 classes.\n",
            "Found 1000 images belonging to 10 classes.\n",
            "Found 2000 images belonging to 10 classes.\n",
            "Downloading data from https://storage.googleapis.com/tensorflow/keras-applications/xception/xception_weights_tf_dim_ordering_tf_kernels_notop.h5\n",
            "83689472/83683744 [==============================] - 1s 0us/step\n",
            "83697664/83683744 [==============================] - 1s 0us/step\n",
            "87975986\n",
            "Epoch 1/5\n",
            "35/35 - 310s - loss: 1.5227 - accuracy: 0.5460 - val_loss: 0.8587 - val_accuracy: 0.7560 - _timestamp: 1648229132.0000 - _runtime: 320.0000 - 310s/epoch - 9s/step\n",
            "Epoch 2/5\n",
            "35/35 - 292s - loss: 0.8271 - accuracy: 0.7292 - val_loss: 0.7144 - val_accuracy: 0.7850 - _timestamp: 1648229440.0000 - _runtime: 628.0000 - 292s/epoch - 8s/step\n",
            "Epoch 3/5\n",
            "35/35 - 302s - loss: 0.7110 - accuracy: 0.7637 - val_loss: 0.6313 - val_accuracy: 0.7910 - _timestamp: 1648229768.0000 - _runtime: 956.0000 - 302s/epoch - 9s/step\n",
            "Epoch 4/5\n",
            "35/35 - 299s - loss: 0.6191 - accuracy: 0.7905 - val_loss: 0.6724 - val_accuracy: 0.7990 - _timestamp: 1648230094.0000 - _runtime: 1282.0000 - 299s/epoch - 9s/step\n",
            "Epoch 5/5\n",
            "35/35 - 297s - loss: 0.5514 - accuracy: 0.8190 - val_loss: 0.6063 - val_accuracy: 0.8050 - _timestamp: 1648230407.0000 - _runtime: 1595.0000 - 297s/epoch - 8s/step\n",
            "\n"
          ]
        },
        {
          "data": {
            "text/html": [
              "Waiting for W&B process to finish... <strong style=\"color:green\">(success).</strong>"
            ],
            "text/plain": [
              "<IPython.core.display.HTML object>"
            ]
          },
          "metadata": {},
          "output_type": "display_data"
        },
        {
          "data": {
            "application/vnd.jupyter.widget-view+json": {
              "model_id": "77792a56b081420f809e845bd1de5f15",
              "version_major": 2,
              "version_minor": 0
            },
            "text/plain": [
              "VBox(children=(Label(value='112.204 MB of 903.858 MB uploaded (0.000 MB deduped)\\r'), FloatProgress(value=0.12…"
            ]
          },
          "metadata": {},
          "output_type": "display_data"
        },
        {
          "data": {
            "text/html": [
              "<style>\n",
              "    table.wandb td:nth-child(1) { padding: 0 10px; text-align: right }\n",
              "    .wandb-row { display: flex; flex-direction: row; flex-wrap: wrap; width: 100% }\n",
              "    .wandb-col { display: flex; flex-direction: column; flex-basis: 100%; flex: 1; padding: 10px; }\n",
              "    </style>\n",
              "<div class=\"wandb-row\"><div class=\"wandb-col\"><h3>Run history:</h3><br/><table class=\"wandb\"><tr><td>accuracy</td><td>▁▆▇▇█</td></tr><tr><td>epoch</td><td>▁▃▅▆█</td></tr><tr><td>loss</td><td>█▃▂▁▁</td></tr><tr><td>val_accuracy</td><td>▁▅▆▇█</td></tr><tr><td>val_loss</td><td>█▄▂▃▁</td></tr></table><br/></div><div class=\"wandb-col\"><h3>Run summary:</h3><br/><table class=\"wandb\"><tr><td>accuracy</td><td>0.81895</td></tr><tr><td>best_epoch</td><td>4</td></tr><tr><td>best_val_loss</td><td>0.60629</td></tr><tr><td>epoch</td><td>4</td></tr><tr><td>loss</td><td>0.55136</td></tr><tr><td>val_accuracy</td><td>0.805</td></tr><tr><td>val_loss</td><td>0.60629</td></tr></table><br/></div></div>"
            ],
            "text/plain": [
              "<IPython.core.display.HTML object>"
            ]
          },
          "metadata": {},
          "output_type": "display_data"
        },
        {
          "data": {
            "text/html": [
              "Synced <strong style=\"color:#cdcd00\">sweepy-sweep-14</strong>: <a href=\"https://wandb.ai/moni6264/test_part_b/runs/7m4jn21x\" target=\"_blank\">https://wandb.ai/moni6264/test_part_b/runs/7m4jn21x</a><br/>Synced 5 W&B file(s), 0 media file(s), 0 artifact file(s) and 1 other file(s)"
            ],
            "text/plain": [
              "<IPython.core.display.HTML object>"
            ]
          },
          "metadata": {},
          "output_type": "display_data"
        },
        {
          "data": {
            "text/html": [
              "Find logs at: <code>./wandb/run-20220325_172012-7m4jn21x/logs</code>"
            ],
            "text/plain": [
              "<IPython.core.display.HTML object>"
            ]
          },
          "metadata": {},
          "output_type": "display_data"
        },
        {
          "metadata": {
            "tags": null
          },
          "name": "stderr",
          "output_type": "stream",
          "text": [
            "\u001b[34m\u001b[1mwandb\u001b[0m: Agent Starting Run: 8jy05j4o with config:\n",
            "\u001b[34m\u001b[1mwandb\u001b[0m: \tbatch_size: 128\n",
            "\u001b[34m\u001b[1mwandb\u001b[0m: \tdata_augmentation: True\n",
            "\u001b[34m\u001b[1mwandb\u001b[0m: \tdense_layer: 512\n",
            "\u001b[34m\u001b[1mwandb\u001b[0m: \tdropout: 0.4\n",
            "\u001b[34m\u001b[1mwandb\u001b[0m: \tepochs: 5\n",
            "\u001b[34m\u001b[1mwandb\u001b[0m: \tlearning_rate: 0.001\n",
            "\u001b[34m\u001b[1mwandb\u001b[0m: \tpre_layer_train: 20\n",
            "\u001b[34m\u001b[1mwandb\u001b[0m: \tpretrained_model_name: Xception\n"
          ]
        },
        {
          "data": {
            "text/html": [
              "Tracking run with wandb version 0.12.11"
            ],
            "text/plain": [
              "<IPython.core.display.HTML object>"
            ]
          },
          "metadata": {},
          "output_type": "display_data"
        },
        {
          "data": {
            "text/html": [
              "Run data is saved locally in <code>/content/wandb/run-20220325_174755-8jy05j4o</code>"
            ],
            "text/plain": [
              "<IPython.core.display.HTML object>"
            ]
          },
          "metadata": {},
          "output_type": "display_data"
        },
        {
          "data": {
            "text/html": [
              "Syncing run <strong><a href=\"https://wandb.ai/moni6264/test_part_b/runs/8jy05j4o\" target=\"_blank\">sweet-sweep-16</a></strong> to <a href=\"https://wandb.ai/moni6264/test_part_b\" target=\"_blank\">Weights & Biases</a> (<a href=\"https://wandb.me/run\" target=\"_blank\">docs</a>)<br/>Sweep page:  <a href=\"https://wandb.ai/moni6264/test_part_b/sweeps/q832m8jh\" target=\"_blank\">https://wandb.ai/moni6264/test_part_b/sweeps/q832m8jh</a>"
            ],
            "text/plain": [
              "<IPython.core.display.HTML object>"
            ]
          },
          "metadata": {},
          "output_type": "display_data"
        },
        {
          "output_type": "stream",
          "name": "stdout",
          "text": [
            "pre_train_mdl_InceptionV3_aug_True_bs_128_ep_5_dropout_0.4_dense_512\n",
            "Found 8999 images belonging to 10 classes.\n",
            "Found 1000 images belonging to 10 classes.\n",
            "Found 2000 images belonging to 10 classes.\n",
            "87975986\n",
            "Epoch 1/5\n",
            "35/35 - 317s - loss: 2.6291 - accuracy: 0.3408 - val_loss: 2.4513 - val_accuracy: 0.5100 - _timestamp: 1648230799.0000 - _runtime: 324.0000 - 317s/epoch - 9s/step\n",
            "Epoch 2/5\n",
            "35/35 - 307s - loss: 1.2254 - accuracy: 0.6133 - val_loss: 1.3945 - val_accuracy: 0.6530 - _timestamp: 1648231108.0000 - _runtime: 633.0000 - 307s/epoch - 9s/step\n",
            "Epoch 3/5\n",
            "35/35 - 306s - loss: 0.8527 - accuracy: 0.7233 - val_loss: 0.7764 - val_accuracy: 0.7560 - _timestamp: 1648231410.0000 - _runtime: 935.0000 - 306s/epoch - 9s/step\n",
            "Epoch 4/5\n",
            "35/35 - 302s - loss: 0.6885 - accuracy: 0.7751 - val_loss: 0.7314 - val_accuracy: 0.7670 - _timestamp: 1648231715.0000 - _runtime: 1240.0000 - 302s/epoch - 9s/step\n",
            "Epoch 5/5\n",
            "35/35 - 294s - loss: 0.6036 - accuracy: 0.8069 - val_loss: 0.8000 - val_accuracy: 0.7680 - _timestamp: 1648232013.0000 - _runtime: 1538.0000 - 294s/epoch - 8s/step\n",
            "\n"
          ]
        },
        {
          "output_type": "display_data",
          "data": {
            "text/plain": [
              "<IPython.core.display.HTML object>"
            ],
            "text/html": [
              "Waiting for W&B process to finish... <strong style=\"color:green\">(success).</strong>"
            ]
          },
          "metadata": {}
        },
        {
          "output_type": "display_data",
          "data": {
            "text/plain": [
              "VBox(children=(Label(value='903.858 MB of 903.858 MB uploaded (0.000 MB deduped)\\r'), FloatProgress(value=1.0,…"
            ],
            "application/vnd.jupyter.widget-view+json": {
              "version_major": 2,
              "version_minor": 0,
              "model_id": "8bd81f63ffb8433bbb6908cdeac98f56"
            }
          },
          "metadata": {}
        },
        {
          "output_type": "display_data",
          "data": {
            "text/plain": [
              "<IPython.core.display.HTML object>"
            ],
            "text/html": [
              "<style>\n",
              "    table.wandb td:nth-child(1) { padding: 0 10px; text-align: right }\n",
              "    .wandb-row { display: flex; flex-direction: row; flex-wrap: wrap; width: 100% }\n",
              "    .wandb-col { display: flex; flex-direction: column; flex-basis: 100%; flex: 1; padding: 10px; }\n",
              "    </style>\n",
              "<div class=\"wandb-row\"><div class=\"wandb-col\"><h3>Run history:</h3><br/><table class=\"wandb\"><tr><td>accuracy</td><td>▁▅▇██</td></tr><tr><td>epoch</td><td>▁▃▅▆█</td></tr><tr><td>loss</td><td>█▃▂▁▁</td></tr><tr><td>val_accuracy</td><td>▁▅███</td></tr><tr><td>val_loss</td><td>█▄▁▁▁</td></tr></table><br/></div><div class=\"wandb-col\"><h3>Run summary:</h3><br/><table class=\"wandb\"><tr><td>accuracy</td><td>0.80695</td></tr><tr><td>best_epoch</td><td>3</td></tr><tr><td>best_val_loss</td><td>0.73145</td></tr><tr><td>epoch</td><td>4</td></tr><tr><td>loss</td><td>0.60357</td></tr><tr><td>val_accuracy</td><td>0.768</td></tr><tr><td>val_loss</td><td>0.8</td></tr></table><br/></div></div>"
            ]
          },
          "metadata": {}
        },
        {
          "output_type": "display_data",
          "data": {
            "text/plain": [
              "<IPython.core.display.HTML object>"
            ],
            "text/html": [
              "Synced <strong style=\"color:#cdcd00\">sweet-sweep-16</strong>: <a href=\"https://wandb.ai/moni6264/test_part_b/runs/8jy05j4o\" target=\"_blank\">https://wandb.ai/moni6264/test_part_b/runs/8jy05j4o</a><br/>Synced 5 W&B file(s), 0 media file(s), 0 artifact file(s) and 1 other file(s)"
            ]
          },
          "metadata": {}
        },
        {
          "output_type": "display_data",
          "data": {
            "text/plain": [
              "<IPython.core.display.HTML object>"
            ],
            "text/html": [
              "Find logs at: <code>./wandb/run-20220325_174755-8jy05j4o/logs</code>"
            ]
          },
          "metadata": {}
        }
      ]
    }
  ]
}