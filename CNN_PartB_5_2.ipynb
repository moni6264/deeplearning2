{
  "cells": [
    {
      "cell_type": "markdown",
      "metadata": {
        "id": "view-in-github",
        "colab_type": "text"
      },
      "source": [
        "<a href=\"https://colab.research.google.com/github/moni6264/deeplearning2/blob/main/CNN_PartB_5_2.ipynb\" target=\"_parent\"><img src=\"https://colab.research.google.com/assets/colab-badge.svg\" alt=\"Open In Colab\"/></a>"
      ]
    },
    {
      "cell_type": "markdown",
      "metadata": {
        "id": "wIYkswfOU1Av"
      },
      "source": [
        "**PART - B Fine-Tuning a Pre-Trained model**"
      ]
    },
    {
      "cell_type": "markdown",
      "metadata": {
        "id": "XOQFMPlwUUTV"
      },
      "source": [
        "Import Google colab to drive "
      ]
    },
    {
      "cell_type": "code",
      "execution_count": null,
      "metadata": {
        "colab": {
          "base_uri": "https://localhost:8080/"
        },
        "id": "e_r21VxChtR5",
        "outputId": "fbfd554e-c51a-4076-efa9-f5dc979d1c20"
      },
      "outputs": [
        {
          "name": "stdout",
          "output_type": "stream",
          "text": [
            "Mounted at /content/drive\n"
          ]
        }
      ],
      "source": [
        "from google.colab import drive\n",
        "drive.mount('/content/drive')"
      ]
    },
    {
      "cell_type": "markdown",
      "metadata": {
        "id": "nTChDgQeVQ6C"
      },
      "source": [
        "Import shutil and splitting the dataset "
      ]
    },
    {
      "cell_type": "code",
      "execution_count": null,
      "metadata": {
        "colab": {
          "base_uri": "https://localhost:8080/"
        },
        "id": "8-91XS9fi_e9",
        "outputId": "c76b3912-0855-4f22-c0d4-5a75085eb3ee"
      },
      "outputs": [
        {
          "name": "stdout",
          "output_type": "stream",
          "text": [
            "Defining class names class names\n",
            "1000\n",
            "100\n",
            "1000\n",
            "100\n",
            "1000\n",
            "100\n",
            "1000\n",
            "100\n",
            "1000\n",
            "100\n",
            "1000\n",
            "100\n",
            "1000\n",
            "100\n",
            "1000\n",
            "100\n",
            "1000\n",
            "100\n",
            "1000\n",
            "100\n"
          ]
        }
      ],
      "source": [
        "import shutil  # provides the ability to copy and removal of files\n",
        "import os  # provides functions for interacting with the operating system\n",
        "import random\n",
        "try:\n",
        "    shutil.rmtree(\"inaturalist_12K\")\n",
        "except:\n",
        "    pass\n",
        "\n",
        "# Unzip the natural datset     \n",
        "zip_path = \"drive/MyDrive/nature_12K.zip\"\n",
        "!cp \"{zip_path}\" .\n",
        "!unzip -q nature_12K.zip\n",
        "\n",
        "try:\n",
        "    os.remove(\"nature_12K.zip\")\n",
        "except:\n",
        "    pass\n",
        "try:\n",
        "    shutil.rmtree(\"inaturalist_12K/validation/\")\n",
        "except:\n",
        "    pass\n",
        "\n",
        "# dataset directory \n",
        "temp = os.listdir(\"inaturalist_12K/train\")\n",
        "print(\"Defining class names class names\") # print number classes in dataset\n",
        "class_names = [name for name in temp if name != \".DS_Store\"] \n",
        "\n",
        "#S  pliting valdiation dataset \n",
        "validation_split = 0.1 #splitting dataset 10%\n",
        "def spliting_train_data(validation_split = 0.1):\n",
        "  os.mkdir(\"inaturalist_12K/validation/\")\n",
        "  for each_class in class_names:\n",
        "      os.mkdir(\"inaturalist_12K/validation/\"+each_class)\n",
        "      train_images = os.listdir(\"inaturalist_12K/train/\"+each_class)\n",
        "      train_images_per_class = list(train_images)\n",
        "      print(len(train_images_per_class))\n",
        "      random.shuffle(train_images_per_class) # Shuffle the training images\n",
        "\n",
        "      validation_images_per_class = train_images_per_class[:round(validation_split*len(train_images_per_class))]\n",
        "      print(len(validation_images_per_class))\n",
        "\n",
        "      for im in validation_images_per_class:\n",
        "          shutil.move(\"inaturalist_12K/train/\"+each_class+\"/\"+im, \"inaturalist_12K/validation/\"+each_class+\"/\"+im)\n",
        "spliting_train_data(validation_split)"
      ]
    },
    {
      "cell_type": "markdown",
      "metadata": {
        "id": "WQVhzYffXYya"
      },
      "source": [
        "Exploring the Data"
      ]
    },
    {
      "cell_type": "code",
      "execution_count": null,
      "metadata": {
        "colab": {
          "base_uri": "https://localhost:8080/"
        },
        "id": "kqYnlBbrAfHH",
        "outputId": "645b50bd-b2ac-4098-cf0e-bffed90a5454"
      },
      "outputs": [
        {
          "name": "stdout",
          "output_type": "stream",
          "text": [
            "training 9000\n",
            "validation Examples =  1000\n",
            "test examples =  2000\n"
          ]
        }
      ],
      "source": [
        "train = 0\n",
        "val = 0\n",
        "test = 0\n",
        "\n",
        "for each_class in class_names:\n",
        "      train_images = os.listdir(\"inaturalist_12K/train/\"+each_class)\n",
        "      train+=len(list(train_images))\n",
        "\n",
        "      validation_images = os.listdir(\"inaturalist_12K/validation/\"+each_class)\n",
        "      \n",
        "      val+=len(list(validation_images))\n",
        "\n",
        "      test_images = os.listdir(\"inaturalist_12K/val/\"+each_class)\n",
        "      \n",
        "      test+=len(list(test_images))\n",
        " # print training validation test      \n",
        "print(\"training\" , train)\n",
        "print(\"validation Examples = \", val)\n",
        "print(\"test examples = \", test)"
      ]
    },
    {
      "cell_type": "markdown",
      "metadata": {
        "id": "O4nfbgpxXqfU"
      },
      "source": [
        "Import required libriaries for pre trained module "
      ]
    },
    {
      "cell_type": "code",
      "execution_count": null,
      "metadata": {
        "colab": {
          "base_uri": "https://localhost:8080/"
        },
        "id": "jfaDSZlTi_hj",
        "outputId": "385a077f-65ae-4672-be81-ce65487d801a"
      },
      "outputs": [
        {
          "name": "stdout",
          "output_type": "stream",
          "text": [
            "Collecting wandb\n",
            "  Downloading wandb-0.12.11-py2.py3-none-any.whl (1.7 MB)\n",
            "\u001b[?25l\r\u001b[K     |▏                               | 10 kB 16.5 MB/s eta 0:00:01\r\u001b[K     |▍                               | 20 kB 22.7 MB/s eta 0:00:01\r\u001b[K     |▋                               | 30 kB 26.5 MB/s eta 0:00:01\r\u001b[K     |▊                               | 40 kB 12.1 MB/s eta 0:00:01\r\u001b[K     |█                               | 51 kB 11.9 MB/s eta 0:00:01\r\u001b[K     |█▏                              | 61 kB 13.7 MB/s eta 0:00:01\r\u001b[K     |█▎                              | 71 kB 10.8 MB/s eta 0:00:01\r\u001b[K     |█▌                              | 81 kB 11.7 MB/s eta 0:00:01\r\u001b[K     |█▊                              | 92 kB 12.9 MB/s eta 0:00:01\r\u001b[K     |█▉                              | 102 kB 12.3 MB/s eta 0:00:01\r\u001b[K     |██                              | 112 kB 12.3 MB/s eta 0:00:01\r\u001b[K     |██▎                             | 122 kB 12.3 MB/s eta 0:00:01\r\u001b[K     |██▍                             | 133 kB 12.3 MB/s eta 0:00:01\r\u001b[K     |██▋                             | 143 kB 12.3 MB/s eta 0:00:01\r\u001b[K     |██▉                             | 153 kB 12.3 MB/s eta 0:00:01\r\u001b[K     |███                             | 163 kB 12.3 MB/s eta 0:00:01\r\u001b[K     |███▏                            | 174 kB 12.3 MB/s eta 0:00:01\r\u001b[K     |███▍                            | 184 kB 12.3 MB/s eta 0:00:01\r\u001b[K     |███▋                            | 194 kB 12.3 MB/s eta 0:00:01\r\u001b[K     |███▊                            | 204 kB 12.3 MB/s eta 0:00:01\r\u001b[K     |████                            | 215 kB 12.3 MB/s eta 0:00:01\r\u001b[K     |████▏                           | 225 kB 12.3 MB/s eta 0:00:01\r\u001b[K     |████▎                           | 235 kB 12.3 MB/s eta 0:00:01\r\u001b[K     |████▌                           | 245 kB 12.3 MB/s eta 0:00:01\r\u001b[K     |████▊                           | 256 kB 12.3 MB/s eta 0:00:01\r\u001b[K     |████▉                           | 266 kB 12.3 MB/s eta 0:00:01\r\u001b[K     |█████                           | 276 kB 12.3 MB/s eta 0:00:01\r\u001b[K     |█████▎                          | 286 kB 12.3 MB/s eta 0:00:01\r\u001b[K     |█████▌                          | 296 kB 12.3 MB/s eta 0:00:01\r\u001b[K     |█████▋                          | 307 kB 12.3 MB/s eta 0:00:01\r\u001b[K     |█████▉                          | 317 kB 12.3 MB/s eta 0:00:01\r\u001b[K     |██████                          | 327 kB 12.3 MB/s eta 0:00:01\r\u001b[K     |██████▏                         | 337 kB 12.3 MB/s eta 0:00:01\r\u001b[K     |██████▍                         | 348 kB 12.3 MB/s eta 0:00:01\r\u001b[K     |██████▋                         | 358 kB 12.3 MB/s eta 0:00:01\r\u001b[K     |██████▊                         | 368 kB 12.3 MB/s eta 0:00:01\r\u001b[K     |███████                         | 378 kB 12.3 MB/s eta 0:00:01\r\u001b[K     |███████▏                        | 389 kB 12.3 MB/s eta 0:00:01\r\u001b[K     |███████▎                        | 399 kB 12.3 MB/s eta 0:00:01\r\u001b[K     |███████▌                        | 409 kB 12.3 MB/s eta 0:00:01\r\u001b[K     |███████▊                        | 419 kB 12.3 MB/s eta 0:00:01\r\u001b[K     |███████▉                        | 430 kB 12.3 MB/s eta 0:00:01\r\u001b[K     |████████                        | 440 kB 12.3 MB/s eta 0:00:01\r\u001b[K     |████████▎                       | 450 kB 12.3 MB/s eta 0:00:01\r\u001b[K     |████████▌                       | 460 kB 12.3 MB/s eta 0:00:01\r\u001b[K     |████████▋                       | 471 kB 12.3 MB/s eta 0:00:01\r\u001b[K     |████████▉                       | 481 kB 12.3 MB/s eta 0:00:01\r\u001b[K     |█████████                       | 491 kB 12.3 MB/s eta 0:00:01\r\u001b[K     |█████████▏                      | 501 kB 12.3 MB/s eta 0:00:01\r\u001b[K     |█████████▍                      | 512 kB 12.3 MB/s eta 0:00:01\r\u001b[K     |█████████▋                      | 522 kB 12.3 MB/s eta 0:00:01\r\u001b[K     |█████████▊                      | 532 kB 12.3 MB/s eta 0:00:01\r\u001b[K     |██████████                      | 542 kB 12.3 MB/s eta 0:00:01\r\u001b[K     |██████████▏                     | 552 kB 12.3 MB/s eta 0:00:01\r\u001b[K     |██████████▎                     | 563 kB 12.3 MB/s eta 0:00:01\r\u001b[K     |██████████▌                     | 573 kB 12.3 MB/s eta 0:00:01\r\u001b[K     |██████████▊                     | 583 kB 12.3 MB/s eta 0:00:01\r\u001b[K     |███████████                     | 593 kB 12.3 MB/s eta 0:00:01\r\u001b[K     |███████████                     | 604 kB 12.3 MB/s eta 0:00:01\r\u001b[K     |███████████▎                    | 614 kB 12.3 MB/s eta 0:00:01\r\u001b[K     |███████████▌                    | 624 kB 12.3 MB/s eta 0:00:01\r\u001b[K     |███████████▋                    | 634 kB 12.3 MB/s eta 0:00:01\r\u001b[K     |███████████▉                    | 645 kB 12.3 MB/s eta 0:00:01\r\u001b[K     |████████████                    | 655 kB 12.3 MB/s eta 0:00:01\r\u001b[K     |████████████▏                   | 665 kB 12.3 MB/s eta 0:00:01\r\u001b[K     |████████████▍                   | 675 kB 12.3 MB/s eta 0:00:01\r\u001b[K     |████████████▋                   | 686 kB 12.3 MB/s eta 0:00:01\r\u001b[K     |████████████▊                   | 696 kB 12.3 MB/s eta 0:00:01\r\u001b[K     |█████████████                   | 706 kB 12.3 MB/s eta 0:00:01\r\u001b[K     |█████████████▏                  | 716 kB 12.3 MB/s eta 0:00:01\r\u001b[K     |█████████████▍                  | 727 kB 12.3 MB/s eta 0:00:01\r\u001b[K     |█████████████▌                  | 737 kB 12.3 MB/s eta 0:00:01\r\u001b[K     |█████████████▊                  | 747 kB 12.3 MB/s eta 0:00:01\r\u001b[K     |██████████████                  | 757 kB 12.3 MB/s eta 0:00:01\r\u001b[K     |██████████████                  | 768 kB 12.3 MB/s eta 0:00:01\r\u001b[K     |██████████████▎                 | 778 kB 12.3 MB/s eta 0:00:01\r\u001b[K     |██████████████▌                 | 788 kB 12.3 MB/s eta 0:00:01\r\u001b[K     |██████████████▋                 | 798 kB 12.3 MB/s eta 0:00:01\r\u001b[K     |██████████████▉                 | 808 kB 12.3 MB/s eta 0:00:01\r\u001b[K     |███████████████                 | 819 kB 12.3 MB/s eta 0:00:01\r\u001b[K     |███████████████▏                | 829 kB 12.3 MB/s eta 0:00:01\r\u001b[K     |███████████████▍                | 839 kB 12.3 MB/s eta 0:00:01\r\u001b[K     |███████████████▋                | 849 kB 12.3 MB/s eta 0:00:01\r\u001b[K     |███████████████▊                | 860 kB 12.3 MB/s eta 0:00:01\r\u001b[K     |████████████████                | 870 kB 12.3 MB/s eta 0:00:01\r\u001b[K     |████████████████▏               | 880 kB 12.3 MB/s eta 0:00:01\r\u001b[K     |████████████████▍               | 890 kB 12.3 MB/s eta 0:00:01\r\u001b[K     |████████████████▌               | 901 kB 12.3 MB/s eta 0:00:01\r\u001b[K     |████████████████▊               | 911 kB 12.3 MB/s eta 0:00:01\r\u001b[K     |█████████████████               | 921 kB 12.3 MB/s eta 0:00:01\r\u001b[K     |█████████████████               | 931 kB 12.3 MB/s eta 0:00:01\r\u001b[K     |█████████████████▎              | 942 kB 12.3 MB/s eta 0:00:01\r\u001b[K     |█████████████████▌              | 952 kB 12.3 MB/s eta 0:00:01\r\u001b[K     |█████████████████▋              | 962 kB 12.3 MB/s eta 0:00:01\r\u001b[K     |█████████████████▉              | 972 kB 12.3 MB/s eta 0:00:01\r\u001b[K     |██████████████████              | 983 kB 12.3 MB/s eta 0:00:01\r\u001b[K     |██████████████████▏             | 993 kB 12.3 MB/s eta 0:00:01\r\u001b[K     |██████████████████▍             | 1.0 MB 12.3 MB/s eta 0:00:01\r\u001b[K     |██████████████████▋             | 1.0 MB 12.3 MB/s eta 0:00:01\r\u001b[K     |██████████████████▉             | 1.0 MB 12.3 MB/s eta 0:00:01\r\u001b[K     |███████████████████             | 1.0 MB 12.3 MB/s eta 0:00:01\r\u001b[K     |███████████████████▏            | 1.0 MB 12.3 MB/s eta 0:00:01\r\u001b[K     |███████████████████▍            | 1.1 MB 12.3 MB/s eta 0:00:01\r\u001b[K     |███████████████████▌            | 1.1 MB 12.3 MB/s eta 0:00:01\r\u001b[K     |███████████████████▊            | 1.1 MB 12.3 MB/s eta 0:00:01\r\u001b[K     |████████████████████            | 1.1 MB 12.3 MB/s eta 0:00:01\r\u001b[K     |████████████████████            | 1.1 MB 12.3 MB/s eta 0:00:01\r\u001b[K     |████████████████████▎           | 1.1 MB 12.3 MB/s eta 0:00:01\r\u001b[K     |████████████████████▌           | 1.1 MB 12.3 MB/s eta 0:00:01\r\u001b[K     |████████████████████▋           | 1.1 MB 12.3 MB/s eta 0:00:01\r\u001b[K     |████████████████████▉           | 1.1 MB 12.3 MB/s eta 0:00:01\r\u001b[K     |█████████████████████           | 1.1 MB 12.3 MB/s eta 0:00:01\r\u001b[K     |█████████████████████▏          | 1.2 MB 12.3 MB/s eta 0:00:01\r\u001b[K     |█████████████████████▍          | 1.2 MB 12.3 MB/s eta 0:00:01\r\u001b[K     |█████████████████████▋          | 1.2 MB 12.3 MB/s eta 0:00:01\r\u001b[K     |█████████████████████▉          | 1.2 MB 12.3 MB/s eta 0:00:01\r\u001b[K     |██████████████████████          | 1.2 MB 12.3 MB/s eta 0:00:01\r\u001b[K     |██████████████████████▏         | 1.2 MB 12.3 MB/s eta 0:00:01\r\u001b[K     |██████████████████████▍         | 1.2 MB 12.3 MB/s eta 0:00:01\r\u001b[K     |██████████████████████▌         | 1.2 MB 12.3 MB/s eta 0:00:01\r\u001b[K     |██████████████████████▊         | 1.2 MB 12.3 MB/s eta 0:00:01\r\u001b[K     |███████████████████████         | 1.2 MB 12.3 MB/s eta 0:00:01\r\u001b[K     |███████████████████████         | 1.3 MB 12.3 MB/s eta 0:00:01\r\u001b[K     |███████████████████████▎        | 1.3 MB 12.3 MB/s eta 0:00:01\r\u001b[K     |███████████████████████▌        | 1.3 MB 12.3 MB/s eta 0:00:01\r\u001b[K     |███████████████████████▋        | 1.3 MB 12.3 MB/s eta 0:00:01\r\u001b[K     |███████████████████████▉        | 1.3 MB 12.3 MB/s eta 0:00:01\r\u001b[K     |████████████████████████        | 1.3 MB 12.3 MB/s eta 0:00:01\r\u001b[K     |████████████████████████▎       | 1.3 MB 12.3 MB/s eta 0:00:01\r\u001b[K     |████████████████████████▍       | 1.3 MB 12.3 MB/s eta 0:00:01\r\u001b[K     |████████████████████████▋       | 1.3 MB 12.3 MB/s eta 0:00:01\r\u001b[K     |████████████████████████▉       | 1.4 MB 12.3 MB/s eta 0:00:01\r\u001b[K     |█████████████████████████       | 1.4 MB 12.3 MB/s eta 0:00:01\r\u001b[K     |█████████████████████████▏      | 1.4 MB 12.3 MB/s eta 0:00:01\r\u001b[K     |█████████████████████████▍      | 1.4 MB 12.3 MB/s eta 0:00:01\r\u001b[K     |█████████████████████████▌      | 1.4 MB 12.3 MB/s eta 0:00:01\r\u001b[K     |█████████████████████████▊      | 1.4 MB 12.3 MB/s eta 0:00:01\r\u001b[K     |██████████████████████████      | 1.4 MB 12.3 MB/s eta 0:00:01\r\u001b[K     |██████████████████████████      | 1.4 MB 12.3 MB/s eta 0:00:01\r\u001b[K     |██████████████████████████▎     | 1.4 MB 12.3 MB/s eta 0:00:01\r\u001b[K     |██████████████████████████▌     | 1.4 MB 12.3 MB/s eta 0:00:01\r\u001b[K     |██████████████████████████▊     | 1.5 MB 12.3 MB/s eta 0:00:01\r\u001b[K     |██████████████████████████▉     | 1.5 MB 12.3 MB/s eta 0:00:01\r\u001b[K     |███████████████████████████     | 1.5 MB 12.3 MB/s eta 0:00:01\r\u001b[K     |███████████████████████████▎    | 1.5 MB 12.3 MB/s eta 0:00:01\r\u001b[K     |███████████████████████████▍    | 1.5 MB 12.3 MB/s eta 0:00:01\r\u001b[K     |███████████████████████████▋    | 1.5 MB 12.3 MB/s eta 0:00:01\r\u001b[K     |███████████████████████████▉    | 1.5 MB 12.3 MB/s eta 0:00:01\r\u001b[K     |████████████████████████████    | 1.5 MB 12.3 MB/s eta 0:00:01\r\u001b[K     |████████████████████████████▏   | 1.5 MB 12.3 MB/s eta 0:00:01\r\u001b[K     |████████████████████████████▍   | 1.5 MB 12.3 MB/s eta 0:00:01\r\u001b[K     |████████████████████████████▌   | 1.6 MB 12.3 MB/s eta 0:00:01\r\u001b[K     |████████████████████████████▊   | 1.6 MB 12.3 MB/s eta 0:00:01\r\u001b[K     |█████████████████████████████   | 1.6 MB 12.3 MB/s eta 0:00:01\r\u001b[K     |█████████████████████████████   | 1.6 MB 12.3 MB/s eta 0:00:01\r\u001b[K     |█████████████████████████████▎  | 1.6 MB 12.3 MB/s eta 0:00:01\r\u001b[K     |█████████████████████████████▌  | 1.6 MB 12.3 MB/s eta 0:00:01\r\u001b[K     |█████████████████████████████▊  | 1.6 MB 12.3 MB/s eta 0:00:01\r\u001b[K     |█████████████████████████████▉  | 1.6 MB 12.3 MB/s eta 0:00:01\r\u001b[K     |██████████████████████████████  | 1.6 MB 12.3 MB/s eta 0:00:01\r\u001b[K     |██████████████████████████████▎ | 1.6 MB 12.3 MB/s eta 0:00:01\r\u001b[K     |██████████████████████████████▍ | 1.7 MB 12.3 MB/s eta 0:00:01\r\u001b[K     |██████████████████████████████▋ | 1.7 MB 12.3 MB/s eta 0:00:01\r\u001b[K     |██████████████████████████████▉ | 1.7 MB 12.3 MB/s eta 0:00:01\r\u001b[K     |███████████████████████████████ | 1.7 MB 12.3 MB/s eta 0:00:01\r\u001b[K     |███████████████████████████████▏| 1.7 MB 12.3 MB/s eta 0:00:01\r\u001b[K     |███████████████████████████████▍| 1.7 MB 12.3 MB/s eta 0:00:01\r\u001b[K     |███████████████████████████████▌| 1.7 MB 12.3 MB/s eta 0:00:01\r\u001b[K     |███████████████████████████████▊| 1.7 MB 12.3 MB/s eta 0:00:01\r\u001b[K     |████████████████████████████████| 1.7 MB 12.3 MB/s eta 0:00:01\r\u001b[K     |████████████████████████████████| 1.7 MB 12.3 MB/s \n",
            "\u001b[?25hRequirement already satisfied: PyYAML in /usr/local/lib/python3.7/dist-packages (from wandb) (3.13)\n",
            "Collecting setproctitle\n",
            "  Downloading setproctitle-1.2.2-cp37-cp37m-manylinux1_x86_64.whl (36 kB)\n",
            "Requirement already satisfied: protobuf>=3.12.0 in /usr/local/lib/python3.7/dist-packages (from wandb) (3.17.3)\n",
            "Requirement already satisfied: requests<3,>=2.0.0 in /usr/local/lib/python3.7/dist-packages (from wandb) (2.23.0)\n",
            "Requirement already satisfied: python-dateutil>=2.6.1 in /usr/local/lib/python3.7/dist-packages (from wandb) (2.8.2)\n",
            "Requirement already satisfied: Click!=8.0.0,>=7.0 in /usr/local/lib/python3.7/dist-packages (from wandb) (7.1.2)\n",
            "Collecting GitPython>=1.0.0\n",
            "  Downloading GitPython-3.1.27-py3-none-any.whl (181 kB)\n",
            "\u001b[K     |████████████████████████████████| 181 kB 43.5 MB/s \n",
            "\u001b[?25hRequirement already satisfied: psutil>=5.0.0 in /usr/local/lib/python3.7/dist-packages (from wandb) (5.4.8)\n",
            "Requirement already satisfied: promise<3,>=2.0 in /usr/local/lib/python3.7/dist-packages (from wandb) (2.3)\n",
            "Collecting docker-pycreds>=0.4.0\n",
            "  Downloading docker_pycreds-0.4.0-py2.py3-none-any.whl (9.0 kB)\n",
            "Requirement already satisfied: six>=1.13.0 in /usr/local/lib/python3.7/dist-packages (from wandb) (1.15.0)\n",
            "Collecting yaspin>=1.0.0\n",
            "  Downloading yaspin-2.1.0-py3-none-any.whl (18 kB)\n",
            "Collecting sentry-sdk>=1.0.0\n",
            "  Downloading sentry_sdk-1.5.8-py2.py3-none-any.whl (144 kB)\n",
            "\u001b[K     |████████████████████████████████| 144 kB 44.1 MB/s \n",
            "\u001b[?25hCollecting shortuuid>=0.5.0\n",
            "  Downloading shortuuid-1.0.8-py3-none-any.whl (9.5 kB)\n",
            "Collecting pathtools\n",
            "  Downloading pathtools-0.1.2.tar.gz (11 kB)\n",
            "Requirement already satisfied: typing-extensions>=3.7.4.3 in /usr/local/lib/python3.7/dist-packages (from GitPython>=1.0.0->wandb) (3.10.0.2)\n",
            "Collecting gitdb<5,>=4.0.1\n",
            "  Downloading gitdb-4.0.9-py3-none-any.whl (63 kB)\n",
            "\u001b[K     |████████████████████████████████| 63 kB 1.7 MB/s \n",
            "\u001b[?25hCollecting smmap<6,>=3.0.1\n",
            "  Downloading smmap-5.0.0-py3-none-any.whl (24 kB)\n",
            "Requirement already satisfied: urllib3!=1.25.0,!=1.25.1,<1.26,>=1.21.1 in /usr/local/lib/python3.7/dist-packages (from requests<3,>=2.0.0->wandb) (1.24.3)\n",
            "Requirement already satisfied: certifi>=2017.4.17 in /usr/local/lib/python3.7/dist-packages (from requests<3,>=2.0.0->wandb) (2021.10.8)\n",
            "Requirement already satisfied: idna<3,>=2.5 in /usr/local/lib/python3.7/dist-packages (from requests<3,>=2.0.0->wandb) (2.10)\n",
            "Requirement already satisfied: chardet<4,>=3.0.2 in /usr/local/lib/python3.7/dist-packages (from requests<3,>=2.0.0->wandb) (3.0.4)\n",
            "Requirement already satisfied: termcolor<2.0.0,>=1.1.0 in /usr/local/lib/python3.7/dist-packages (from yaspin>=1.0.0->wandb) (1.1.0)\n",
            "Building wheels for collected packages: pathtools\n",
            "  Building wheel for pathtools (setup.py) ... \u001b[?25l\u001b[?25hdone\n",
            "  Created wheel for pathtools: filename=pathtools-0.1.2-py3-none-any.whl size=8806 sha256=0bb5339c205faac234b6598d5a8bb86867d1f1405d906f1d89d9bf8d2cc5c8a1\n",
            "  Stored in directory: /root/.cache/pip/wheels/3e/31/09/fa59cef12cdcfecc627b3d24273699f390e71828921b2cbba2\n",
            "Successfully built pathtools\n",
            "Installing collected packages: smmap, gitdb, yaspin, shortuuid, setproctitle, sentry-sdk, pathtools, GitPython, docker-pycreds, wandb\n",
            "Successfully installed GitPython-3.1.27 docker-pycreds-0.4.0 gitdb-4.0.9 pathtools-0.1.2 sentry-sdk-1.5.8 setproctitle-1.2.2 shortuuid-1.0.8 smmap-5.0.0 wandb-0.12.11 yaspin-2.1.0\n"
          ]
        }
      ],
      "source": [
        "import os  \n",
        "import glob\n",
        "import numpy as np\n",
        "import tensorflow as tf\n",
        "from tensorflow import keras\n",
        "from keras.preprocessing.image import ImageDataGenerator\n",
        "from keras.models import Sequential, Model\n",
        "from tensorflow.keras.optimizers import Adam\n",
        "from keras.layers import Dense, Flatten, Conv2D, MaxPooling2D, Activation, Dropout, BatchNormalization\n",
        "\n",
        "\n",
        "# implement weights and biases \n",
        "\n",
        "!pip install wandb\n",
        "import wandb\n",
        "from keras.callbacks import EarlyStopping, ModelCheckpoint\n",
        "from wandb.keras import WandbCallback\n",
        "from keras.utils.vis_utils import plot_model\n",
        "from PIL import Image\n",
        "# image plotting \n",
        "%matplotlib inline\n",
        "%config InlineBackend.figure_format = 'svg'\n",
        "import matplotlib.pyplot as plt\n",
        "import matplotlib.image as mpimg"
      ]
    },
    {
      "cell_type": "markdown",
      "metadata": {
        "id": "wRmD-pv_X2-o"
      },
      "source": [
        "Setup the Train Test and Validation generators\n"
      ]
    },
    {
      "cell_type": "code",
      "execution_count": null,
      "metadata": {
        "id": "P5t4ApQDi_kD"
      },
      "outputs": [],
      "source": [
        "data_dir = \"inaturalist_12K\"\n",
        "#data_augmentation = True\n",
        "# data prepartion \n",
        "def data_preparation(data_dir , data_augmentation = True , batch_size = 250):\n",
        "  train_dir = os.path.join(data_dir, \"train\")\n",
        "  val_dir = os.path.join(data_dir, \"validation\")\n",
        "  test_dir = os.path.join(data_dir, \"val\")\n",
        "  if data_augmentation == True:\n",
        "    train_datagen = ImageDataGenerator(rescale=1./255,\n",
        "                                      height_shift_range=0.2,\n",
        "                                      width_shift_range=0.2,\n",
        "                                      horizontal_flip=True,\n",
        "                                      zoom_range=0.2,\n",
        "                                      fill_mode=\"nearest\")\n",
        "  else:\n",
        "      train_datagen = ImageDataGenerator(rescale=1./255)\n",
        "  val_datagen = ImageDataGenerator(rescale=1./255)\n",
        "  test_datagen = ImageDataGenerator(rescale=1./255)\n",
        "\n",
        "\n",
        "  train_generator = train_datagen.flow_from_directory(\n",
        "          train_dir,\n",
        "          target_size=(256, 256),\n",
        "          shuffle=True,\n",
        "          color_mode=\"rgb\",\n",
        "          batch_size=batch_size,\n",
        "          class_mode='categorical')\n",
        "\n",
        "  val_generator = val_datagen.flow_from_directory(\n",
        "          val_dir,\n",
        "          target_size=(256, 256),\n",
        "          shuffle=True,\n",
        "          color_mode=\"rgb\",\n",
        "          batch_size=batch_size,\n",
        "          class_mode='categorical')\n",
        "  \n",
        "  test_generator = test_datagen.flow_from_directory(\n",
        "        test_dir,\n",
        "        target_size= (256, 256),\n",
        "        color_mode=\"rgb\",\n",
        "        batch_size=batch_size,\n",
        "        class_mode=None)\n",
        "\n",
        "  \n",
        "  \n",
        "  return train_generator , val_generator, test_generator\n"
      ]
    },
    {
      "cell_type": "markdown",
      "metadata": {
        "id": "T0nTOiOVX-u5"
      },
      "source": [
        "Implement pre trained InceptionV3, InceptionResNetV2, ResNet50, Xception"
      ]
    },
    {
      "cell_type": "code",
      "execution_count": null,
      "metadata": {
        "id": "0HWNp_Fzi_mV"
      },
      "outputs": [],
      "source": [
        "def pretrain_model(pretrained_model_name, dropout, dense_layer, pre_layer_train=None):\n",
        "    \n",
        "  # keras sequential model based on a pre-trained model intended to be fine tuned\n",
        "  \n",
        "\n",
        "    # shape image size \n",
        "    shape = (256 ,256, 3)\n",
        "\n",
        "    # add a pretrained model without the top dense layer\n",
        "    if pretrained_model_name == 'ResNet50':\n",
        "      pretrained_model = tf.keras.applications.ResNet50(include_top=False,input_shape=shape, weights='imagenet')\n",
        "    elif pretrained_model_name == 'InceptionResNetV2':\n",
        "      pretrained_model = tf.keras.applications.InceptionResNetV2(include_top=False,input_shape= shape, weights='imagenet')\n",
        "    elif pretrained_model_name == 'InceptionV3':\n",
        "      pretrained_model = tf.keras.applications.InceptionV3(include_top=False,input_shape= shape, weights='imagenet')    \n",
        "    elif pretrained_model_name == 'Xception':\n",
        "      pretrained_model = tf.keras.applications.Xception(include_top=False,input_shape= shape, weights='imagenet')\n",
        "    else:\n",
        "      raise Exception('no pretrained model given')\n",
        "      \n",
        "    \n",
        "    #freeze all layers\n",
        "    for layer in pretrained_model.layers:\n",
        "        layer.trainable=False \n",
        "    \n",
        "    #setting  top layers as trainable\n",
        "    if pre_layer_train:\n",
        "      for layer in pretrained_model.layers[-pre_layer_train:]:\n",
        "        layer.trainable=True\n",
        "\n",
        "    model = tf.keras.models.Sequential()\n",
        "    model.add(pretrained_model)  #adding pretrained model\n",
        "    model.add(Flatten()) # flatten layer\n",
        "    model.add(Dense(dense_layer, activation= 'relu'))#adding a dense layer\n",
        "    model.add(Dropout(dropout)) # dropout\n",
        "    model.add(Dense(10, activation=\"softmax\"))#softmax layer\n",
        "# sum model \n",
        "    return model"
      ]
    },
    {
      "cell_type": "markdown",
      "metadata": {
        "id": "A-Nqbud5YRoi"
      },
      "source": [
        "Configuration wandb\n"
      ]
    },
    {
      "cell_type": "code",
      "execution_count": null,
      "metadata": {
        "id": "iNyI92aBo2n6"
      },
      "outputs": [],
      "source": [
        "pre_train_model = \"InceptionV3\"   #you can change model for wandb sweeps\n",
        "def train():\n",
        "    # Default values for hyper-parameters\n",
        "    config_defaults = {\n",
        "        \"data_augmentation\": True,\n",
        "        \"batch_size\": 250,\n",
        "        \"dropout\": 0.1,\n",
        "        \"dense_layer\": 256,\n",
        "        \"learning_rate\": 0.0001,\n",
        "        \"epochs\": 5,\n",
        "        \"pre_layer_train\": None,\n",
        "        \"pretrained_model_name\": 'InceptionV3'\n",
        "      \n",
        "\n",
        "    }\n",
        "\n",
        "    # Initialize a new wandb run\n",
        "    wandb.init(config=config_defaults)\n",
        "    \n",
        "    # Config is a variable that holds and saves hyperparameters \n",
        "    config = wandb.config\n",
        "\n",
        "    # Local variables obtained from wandb config\n",
        "    data_augmentation = config.data_augmentation\n",
        "    batch_size = config.batch_size\n",
        "    dropout = config.dropout\n",
        "    dense_layer = config.dense_layer\n",
        "    learning_rate = config.learning_rate\n",
        "    epochs = config.epochs\n",
        "    pre_layer_train = config.pre_layer_train\n",
        "    pretrained_model_name = config.pretrained_model_name\n",
        "    \n",
        "\n",
        "    \n",
        "   # show  the hyperparameters\n",
        "    run_name = \"pre_train_mdl_{}_aug_{}_bs_{}_ep_{}_dropout_{}_dense_{}\".format(pre_train_model, data_augmentation, batch_size,epochs, dropout, dense_layer)\n",
        "    print(run_name)\n",
        "\n",
        "    #data generators\n",
        "    train_generator , val_generator, test_generator = data_preparation(data_dir , data_augmentation = True , batch_size = 250)\n",
        "    \n",
        "    # calling the pretrained model \n",
        "    model = pretrain_model(pretrained_model_name = pretrained_model_name, dropout = dropout, dense_layer = dense_layer, pre_layer_train=pre_layer_train)\n",
        "    print(model.count_params())\n",
        "\n",
        "    # compile the model using optmizer  (adam)\n",
        "    model.compile(optimizer=Adam(learning_rate = learning_rate), loss = 'categorical_crossentropy', metrics = ['accuracy'])\n",
        "\n",
        "    # Early Stopping method \n",
        "    earlyStopping = EarlyStopping(monitor='val_loss', patience=10, verbose=0, mode='min')\n",
        "\n",
        "    # save the best validation accuracy\n",
        "    checkpoint = ModelCheckpoint('best_model.h5', monitor='val_accuracy', mode='max', verbose=0, save_best_only=True)\n",
        "\n",
        "# model fit \n",
        "    history = model.fit(train_generator,\n",
        "                        steps_per_epoch = train_generator.n//train_generator.batch_size,\n",
        "                        validation_data = val_generator,\n",
        "                        validation_steps = val_generator.n//val_generator.batch_size,\n",
        "                        epochs=epochs, verbose = 2, \n",
        "                        callbacks=[WandbCallback(), earlyStopping, checkpoint])\n",
        "      \n",
        "    \n",
        "\n",
        "    wandb.run.name = run_name\n",
        "    wandb.run.save()\n",
        "    wandb.run.finish()\n",
        "    return history"
      ]
    },
    {
      "cell_type": "markdown",
      "metadata": {
        "id": "6beHG2WCZI56"
      },
      "source": [
        "sweeps configuration for hyper parameters "
      ]
    },
    {
      "cell_type": "code",
      "execution_count": null,
      "metadata": {
        "colab": {
          "background_save": true,
          "base_uri": "https://localhost:8080/",
          "height": 1000,
          "referenced_widgets": [
            "ea15c864cf4348298e92ad511d3cb60f",
            "fd7189d615e64b98adb6da421eae3aff",
            "560992ccdeba4023a6e5c69255ac58fd",
            "b8991f622d514f88befec7088c62bc54",
            "f205605fefb9484c9eaaca000da19402",
            "a41e420f7ae14c2f95610e49a2d37705",
            "0735c8a4f6e94057b77719c9d22190d3",
            "9ac7128e71b347c48ce631fb12bc2d90",
            "9642fa27a7a04c4d98393e424afb83f9",
            "7b7d2153c9bc492eb8cebf88195480a2",
            "fb489c0e32cf40a8be72fe09c5b51535",
            "d0f1973af76a4b928b1695fe8d1ea846",
            "5a47a0e665fb4feca4049819f59ebf4e",
            "30dfff0897f145fab1ba7fa69d92c912",
            "8daa31aeefb54124b2f733fd633e154c",
            "891c3b6ee0ac4591bae5452573668322",
            "7a4238d815e7428fabb4e4ca76c212d2",
            "1791c1b0ea564ff3a73fa17328943a53",
            "fe37d60e4f404611a2c73e9e42052e36",
            "444f1204d06648d1bf8742f009483b78",
            "f02fd5d4f23d46399fc02841d3913bb8",
            "6564ef7200b44f41941d0837fba339d0",
            "f9cbfec38ee34a079276d77740fc9eb7",
            "03c5c1af59ff4263814f750ca99b773d",
            "280818b88a644b88a3155c2ff9d2f035"
          ]
        },
        "id": "vjKhNLrmo2qd",
        "outputId": "6c934182-c3a2-48c8-9f7c-406ccca1e1e2"
      },
      "outputs": [
        {
          "name": "stderr",
          "output_type": "stream",
          "text": [
            "\u001b[34m\u001b[1mwandb\u001b[0m: Agent Starting Run: zjck0iou with config:\n",
            "\u001b[34m\u001b[1mwandb\u001b[0m: \tbatch_size: 256\n",
            "\u001b[34m\u001b[1mwandb\u001b[0m: \tdata_augmentation: True\n",
            "\u001b[34m\u001b[1mwandb\u001b[0m: \tdense_layer: 512\n",
            "\u001b[34m\u001b[1mwandb\u001b[0m: \tdropout: 0.4\n",
            "\u001b[34m\u001b[1mwandb\u001b[0m: \tepochs: 5\n",
            "\u001b[34m\u001b[1mwandb\u001b[0m: \tlearning_rate: 0.001\n",
            "\u001b[34m\u001b[1mwandb\u001b[0m: \tpre_layer_train: 20\n",
            "\u001b[34m\u001b[1mwandb\u001b[0m: \tpretrained_model_name: InceptionResNetV2\n"
          ]
        },
        {
          "data": {
            "text/html": [
              "Tracking run with wandb version 0.12.11"
            ],
            "text/plain": [
              "<IPython.core.display.HTML object>"
            ]
          },
          "metadata": {},
          "output_type": "display_data"
        },
        {
          "data": {
            "text/html": [
              "Run data is saved locally in <code>/content/wandb/run-20220325_181651-zjck0iou</code>"
            ],
            "text/plain": [
              "<IPython.core.display.HTML object>"
            ]
          },
          "metadata": {},
          "output_type": "display_data"
        },
        {
          "data": {
            "text/html": [
              "Syncing run <strong><a href=\"https://wandb.ai/moni6264/test_part_b/runs/zjck0iou\" target=\"_blank\">mild-sweep-18</a></strong> to <a href=\"https://wandb.ai/moni6264/test_part_b\" target=\"_blank\">Weights & Biases</a> (<a href=\"https://wandb.me/run\" target=\"_blank\">docs</a>)<br/>Sweep page:  <a href=\"https://wandb.ai/moni6264/test_part_b/sweeps/q832m8jh\" target=\"_blank\">https://wandb.ai/moni6264/test_part_b/sweeps/q832m8jh</a>"
            ],
            "text/plain": [
              "<IPython.core.display.HTML object>"
            ]
          },
          "metadata": {},
          "output_type": "display_data"
        },
        {
          "name": "stdout",
          "output_type": "stream",
          "text": [
            "pre_train_mdl_InceptionV3_aug_True_bs_256_ep_5_dropout_0.4_dense_512\n",
            "Found 8999 images belonging to 10 classes.\n",
            "Found 1000 images belonging to 10 classes.\n",
            "Found 2000 images belonging to 10 classes.\n",
            "82653930\n",
            "Epoch 1/5\n",
            "35/35 - 327s - loss: 5.2170 - accuracy: 0.5514 - val_loss: 8.0180 - val_accuracy: 0.4780 - _timestamp: 1648232557.0000 - _runtime: 346.0000 - 327s/epoch - 9s/step\n",
            "Epoch 2/5\n",
            "35/35 - 303s - loss: 0.8854 - accuracy: 0.7209 - val_loss: 1.0944 - val_accuracy: 0.7350 - _timestamp: 1648232868.0000 - _runtime: 657.0000 - 303s/epoch - 9s/step\n",
            "Epoch 3/5\n",
            "35/35 - 299s - loss: 0.7466 - accuracy: 0.7693 - val_loss: 0.8767 - val_accuracy: 0.7800 - _timestamp: 1648233184.0000 - _runtime: 973.0000 - 299s/epoch - 9s/step\n",
            "Epoch 4/5\n",
            "35/35 - 293s - loss: 0.6782 - accuracy: 0.7865 - val_loss: 0.6983 - val_accuracy: 0.7840 - _timestamp: 1648233502.0000 - _runtime: 1291.0000 - 293s/epoch - 8s/step\n",
            "Epoch 5/5\n",
            "35/35 - 288s - loss: 0.6258 - accuracy: 0.8036 - val_loss: 0.9619 - val_accuracy: 0.7700 - _timestamp: 1648233796.0000 - _runtime: 1585.0000 - 288s/epoch - 8s/step\n",
            "\n"
          ]
        },
        {
          "data": {
            "text/html": [
              "Waiting for W&B process to finish... <strong style=\"color:green\">(success).</strong>"
            ],
            "text/plain": [
              "<IPython.core.display.HTML object>"
            ]
          },
          "metadata": {},
          "output_type": "display_data"
        },
        {
          "data": {
            "application/vnd.jupyter.widget-view+json": {
              "model_id": "ea15c864cf4348298e92ad511d3cb60f",
              "version_major": 2,
              "version_minor": 0
            },
            "text/plain": [
              "VBox(children=(Label(value='572.477 MB of 572.477 MB uploaded (0.000 MB deduped)\\r'), FloatProgress(value=1.0,…"
            ]
          },
          "metadata": {},
          "output_type": "display_data"
        },
        {
          "data": {
            "text/html": [
              "<style>\n",
              "    table.wandb td:nth-child(1) { padding: 0 10px; text-align: right }\n",
              "    .wandb-row { display: flex; flex-direction: row; flex-wrap: wrap; width: 100% }\n",
              "    .wandb-col { display: flex; flex-direction: column; flex-basis: 100%; flex: 1; padding: 10px; }\n",
              "    </style>\n",
              "<div class=\"wandb-row\"><div class=\"wandb-col\"><h3>Run history:</h3><br/><table class=\"wandb\"><tr><td>accuracy</td><td>▁▆▇██</td></tr><tr><td>epoch</td><td>▁▃▅▆█</td></tr><tr><td>loss</td><td>█▁▁▁▁</td></tr><tr><td>val_accuracy</td><td>▁▇███</td></tr><tr><td>val_loss</td><td>█▁▁▁▁</td></tr></table><br/></div><div class=\"wandb-col\"><h3>Run summary:</h3><br/><table class=\"wandb\"><tr><td>accuracy</td><td>0.80363</td></tr><tr><td>best_epoch</td><td>3</td></tr><tr><td>best_val_loss</td><td>0.69828</td></tr><tr><td>epoch</td><td>4</td></tr><tr><td>loss</td><td>0.62577</td></tr><tr><td>val_accuracy</td><td>0.77</td></tr><tr><td>val_loss</td><td>0.96186</td></tr></table><br/></div></div>"
            ],
            "text/plain": [
              "<IPython.core.display.HTML object>"
            ]
          },
          "metadata": {},
          "output_type": "display_data"
        },
        {
          "data": {
            "text/html": [
              "Synced <strong style=\"color:#cdcd00\">mild-sweep-18</strong>: <a href=\"https://wandb.ai/moni6264/test_part_b/runs/zjck0iou\" target=\"_blank\">https://wandb.ai/moni6264/test_part_b/runs/zjck0iou</a><br/>Synced 5 W&B file(s), 0 media file(s), 0 artifact file(s) and 1 other file(s)"
            ],
            "text/plain": [
              "<IPython.core.display.HTML object>"
            ]
          },
          "metadata": {},
          "output_type": "display_data"
        },
        {
          "data": {
            "text/html": [
              "Find logs at: <code>./wandb/run-20220325_181651-zjck0iou/logs</code>"
            ],
            "text/plain": [
              "<IPython.core.display.HTML object>"
            ]
          },
          "metadata": {},
          "output_type": "display_data"
        },
        {
          "name": "stderr",
          "output_type": "stream",
          "text": [
            "\u001b[34m\u001b[1mwandb\u001b[0m: Sweep Agent: Waiting for job.\n",
            "\u001b[34m\u001b[1mwandb\u001b[0m: Job received.\n",
            "\u001b[34m\u001b[1mwandb\u001b[0m: Agent Starting Run: ljgbgo3p with config:\n",
            "\u001b[34m\u001b[1mwandb\u001b[0m: \tbatch_size: 128\n",
            "\u001b[34m\u001b[1mwandb\u001b[0m: \tdata_augmentation: True\n",
            "\u001b[34m\u001b[1mwandb\u001b[0m: \tdense_layer: 512\n",
            "\u001b[34m\u001b[1mwandb\u001b[0m: \tdropout: 0.4\n",
            "\u001b[34m\u001b[1mwandb\u001b[0m: \tepochs: 5\n",
            "\u001b[34m\u001b[1mwandb\u001b[0m: \tlearning_rate: 0.0001\n",
            "\u001b[34m\u001b[1mwandb\u001b[0m: \tpre_layer_train: 20\n",
            "\u001b[34m\u001b[1mwandb\u001b[0m: \tpretrained_model_name: InceptionResNetV2\n"
          ]
        },
        {
          "data": {
            "text/html": [
              "Tracking run with wandb version 0.12.11"
            ],
            "text/plain": [
              "<IPython.core.display.HTML object>"
            ]
          },
          "metadata": {},
          "output_type": "display_data"
        },
        {
          "data": {
            "text/html": [
              "Run data is saved locally in <code>/content/wandb/run-20220325_184428-ljgbgo3p</code>"
            ],
            "text/plain": [
              "<IPython.core.display.HTML object>"
            ]
          },
          "metadata": {},
          "output_type": "display_data"
        },
        {
          "data": {
            "text/html": [
              "Syncing run <strong><a href=\"https://wandb.ai/moni6264/test_part_b/runs/ljgbgo3p\" target=\"_blank\">vocal-sweep-20</a></strong> to <a href=\"https://wandb.ai/moni6264/test_part_b\" target=\"_blank\">Weights & Biases</a> (<a href=\"https://wandb.me/run\" target=\"_blank\">docs</a>)<br/>Sweep page:  <a href=\"https://wandb.ai/moni6264/test_part_b/sweeps/q832m8jh\" target=\"_blank\">https://wandb.ai/moni6264/test_part_b/sweeps/q832m8jh</a>"
            ],
            "text/plain": [
              "<IPython.core.display.HTML object>"
            ]
          },
          "metadata": {},
          "output_type": "display_data"
        },
        {
          "name": "stdout",
          "output_type": "stream",
          "text": [
            "pre_train_mdl_InceptionV3_aug_True_bs_128_ep_5_dropout_0.4_dense_512\n",
            "Found 8999 images belonging to 10 classes.\n",
            "Found 1000 images belonging to 10 classes.\n",
            "Found 2000 images belonging to 10 classes.\n",
            "82653930\n",
            "Epoch 1/5\n",
            "35/35 - 312s - loss: 1.3342 - accuracy: 0.6244 - val_loss: 0.7448 - val_accuracy: 0.7720 - _timestamp: 1648234198.0000 - _runtime: 330.0000 - 312s/epoch - 9s/step\n",
            "Epoch 2/5\n",
            "35/35 - 289s - loss: 0.7811 - accuracy: 0.7527 - val_loss: 0.6418 - val_accuracy: 0.7950 - _timestamp: 1648234487.0000 - _runtime: 619.0000 - 289s/epoch - 8s/step\n",
            "Epoch 3/5\n",
            "35/35 - 290s - loss: 0.6961 - accuracy: 0.7733 - val_loss: 0.5932 - val_accuracy: 0.8070 - _timestamp: 1648234810.0000 - _runtime: 942.0000 - 290s/epoch - 8s/step\n",
            "Epoch 4/5\n",
            "35/35 - 285s - loss: 0.6492 - accuracy: 0.7826 - val_loss: 0.5921 - val_accuracy: 0.8010 - _timestamp: 1648235129.0000 - _runtime: 1261.0000 - 285s/epoch - 8s/step\n",
            "Epoch 5/5\n",
            "35/35 - 285s - loss: 0.5911 - accuracy: 0.8059 - val_loss: 0.5854 - val_accuracy: 0.8070 - _timestamp: 1648235451.0000 - _runtime: 1583.0000 - 285s/epoch - 8s/step\n",
            "\n"
          ]
        },
        {
          "data": {
            "text/html": [
              "Waiting for W&B process to finish... <strong style=\"color:green\">(success).</strong>"
            ],
            "text/plain": [
              "<IPython.core.display.HTML object>"
            ]
          },
          "metadata": {},
          "output_type": "display_data"
        },
        {
          "data": {
            "application/vnd.jupyter.widget-view+json": {
              "model_id": "9642fa27a7a04c4d98393e424afb83f9",
              "version_major": 2,
              "version_minor": 0
            },
            "text/plain": [
              "VBox(children=(Label(value='572.477 MB of 572.477 MB uploaded (0.000 MB deduped)\\r'), FloatProgress(value=1.0,…"
            ]
          },
          "metadata": {},
          "output_type": "display_data"
        },
        {
          "data": {
            "text/html": [
              "<style>\n",
              "    table.wandb td:nth-child(1) { padding: 0 10px; text-align: right }\n",
              "    .wandb-row { display: flex; flex-direction: row; flex-wrap: wrap; width: 100% }\n",
              "    .wandb-col { display: flex; flex-direction: column; flex-basis: 100%; flex: 1; padding: 10px; }\n",
              "    </style>\n",
              "<div class=\"wandb-row\"><div class=\"wandb-col\"><h3>Run history:</h3><br/><table class=\"wandb\"><tr><td>accuracy</td><td>▁▆▇▇█</td></tr><tr><td>epoch</td><td>▁▃▅▆█</td></tr><tr><td>loss</td><td>█▃▂▂▁</td></tr><tr><td>val_accuracy</td><td>▁▆█▇█</td></tr><tr><td>val_loss</td><td>█▃▁▁▁</td></tr></table><br/></div><div class=\"wandb-col\"><h3>Run summary:</h3><br/><table class=\"wandb\"><tr><td>accuracy</td><td>0.80592</td></tr><tr><td>best_epoch</td><td>4</td></tr><tr><td>best_val_loss</td><td>0.58536</td></tr><tr><td>epoch</td><td>4</td></tr><tr><td>loss</td><td>0.59115</td></tr><tr><td>val_accuracy</td><td>0.807</td></tr><tr><td>val_loss</td><td>0.58536</td></tr></table><br/></div></div>"
            ],
            "text/plain": [
              "<IPython.core.display.HTML object>"
            ]
          },
          "metadata": {},
          "output_type": "display_data"
        },
        {
          "data": {
            "text/html": [
              "Synced <strong style=\"color:#cdcd00\">vocal-sweep-20</strong>: <a href=\"https://wandb.ai/moni6264/test_part_b/runs/ljgbgo3p\" target=\"_blank\">https://wandb.ai/moni6264/test_part_b/runs/ljgbgo3p</a><br/>Synced 5 W&B file(s), 0 media file(s), 0 artifact file(s) and 1 other file(s)"
            ],
            "text/plain": [
              "<IPython.core.display.HTML object>"
            ]
          },
          "metadata": {},
          "output_type": "display_data"
        },
        {
          "data": {
            "text/html": [
              "Find logs at: <code>./wandb/run-20220325_184428-ljgbgo3p/logs</code>"
            ],
            "text/plain": [
              "<IPython.core.display.HTML object>"
            ]
          },
          "metadata": {},
          "output_type": "display_data"
        },
        {
          "name": "stderr",
          "output_type": "stream",
          "text": [
            "\u001b[34m\u001b[1mwandb\u001b[0m: Agent Starting Run: rac4vbaf with config:\n",
            "\u001b[34m\u001b[1mwandb\u001b[0m: \tbatch_size: 256\n",
            "\u001b[34m\u001b[1mwandb\u001b[0m: \tdata_augmentation: True\n",
            "\u001b[34m\u001b[1mwandb\u001b[0m: \tdense_layer: 512\n",
            "\u001b[34m\u001b[1mwandb\u001b[0m: \tdropout: 0.4\n",
            "\u001b[34m\u001b[1mwandb\u001b[0m: \tepochs: 5\n",
            "\u001b[34m\u001b[1mwandb\u001b[0m: \tlearning_rate: 0.001\n",
            "\u001b[34m\u001b[1mwandb\u001b[0m: \tpre_layer_train: 20\n",
            "\u001b[34m\u001b[1mwandb\u001b[0m: \tpretrained_model_name: Xception\n"
          ]
        },
        {
          "data": {
            "text/html": [
              "Tracking run with wandb version 0.12.11"
            ],
            "text/plain": [
              "<IPython.core.display.HTML object>"
            ]
          },
          "metadata": {},
          "output_type": "display_data"
        },
        {
          "data": {
            "text/html": [
              "Run data is saved locally in <code>/content/wandb/run-20220325_191158-rac4vbaf</code>"
            ],
            "text/plain": [
              "<IPython.core.display.HTML object>"
            ]
          },
          "metadata": {},
          "output_type": "display_data"
        },
        {
          "data": {
            "text/html": [
              "Syncing run <strong><a href=\"https://wandb.ai/moni6264/test_part_b/runs/rac4vbaf\" target=\"_blank\">northern-sweep-22</a></strong> to <a href=\"https://wandb.ai/moni6264/test_part_b\" target=\"_blank\">Weights & Biases</a> (<a href=\"https://wandb.me/run\" target=\"_blank\">docs</a>)<br/>Sweep page:  <a href=\"https://wandb.ai/moni6264/test_part_b/sweeps/q832m8jh\" target=\"_blank\">https://wandb.ai/moni6264/test_part_b/sweeps/q832m8jh</a>"
            ],
            "text/plain": [
              "<IPython.core.display.HTML object>"
            ]
          },
          "metadata": {},
          "output_type": "display_data"
        },
        {
          "name": "stdout",
          "output_type": "stream",
          "text": [
            "pre_train_mdl_InceptionV3_aug_True_bs_256_ep_5_dropout_0.4_dense_512\n",
            "Found 8999 images belonging to 10 classes.\n",
            "Found 1000 images belonging to 10 classes.\n",
            "Found 2000 images belonging to 10 classes.\n",
            "87975986\n",
            "Epoch 1/5\n",
            "35/35 - 297s - loss: 2.8044 - accuracy: 0.2829 - val_loss: 1.9190 - val_accuracy: 0.4380 - _timestamp: 1648235822.0000 - _runtime: 304.0000 - 297s/epoch - 8s/step\n",
            "Epoch 2/5\n",
            "35/35 - 302s - loss: 1.2097 - accuracy: 0.6070 - val_loss: 1.6167 - val_accuracy: 0.6170 - _timestamp: 1648236125.0000 - _runtime: 607.0000 - 302s/epoch - 9s/step\n",
            "Epoch 3/5\n",
            "35/35 - 307s - loss: 0.8622 - accuracy: 0.7225 - val_loss: 0.7893 - val_accuracy: 0.7620 - _timestamp: 1648236448.0000 - _runtime: 930.0000 - 307s/epoch - 9s/step\n",
            "Epoch 4/5\n",
            "35/35 - 297s - loss: 0.7207 - accuracy: 0.7744 - val_loss: 0.7238 - val_accuracy: 0.7690 - _timestamp: 1648236749.0000 - _runtime: 1231.0000 - 297s/epoch - 8s/step\n",
            "Epoch 5/5\n",
            "35/35 - 303s - loss: 0.6043 - accuracy: 0.8019 - val_loss: 0.7103 - val_accuracy: 0.7960 - _timestamp: 1648237073.0000 - _runtime: 1555.0000 - 303s/epoch - 9s/step\n",
            "\n"
          ]
        },
        {
          "data": {
            "text/html": [
              "Waiting for W&B process to finish... <strong style=\"color:green\">(success).</strong>"
            ],
            "text/plain": [
              "<IPython.core.display.HTML object>"
            ]
          },
          "metadata": {},
          "output_type": "display_data"
        },
        {
          "data": {
            "application/vnd.jupyter.widget-view+json": {
              "model_id": "7a4238d815e7428fabb4e4ca76c212d2",
              "version_major": 2,
              "version_minor": 0
            },
            "text/plain": [
              "VBox(children=(Label(value='70.157 MB of 903.858 MB uploaded (0.000 MB deduped)\\r'), FloatProgress(value=0.077…"
            ]
          },
          "metadata": {},
          "output_type": "display_data"
        },
        {
          "data": {
            "text/html": [
              "<style>\n",
              "    table.wandb td:nth-child(1) { padding: 0 10px; text-align: right }\n",
              "    .wandb-row { display: flex; flex-direction: row; flex-wrap: wrap; width: 100% }\n",
              "    .wandb-col { display: flex; flex-direction: column; flex-basis: 100%; flex: 1; padding: 10px; }\n",
              "    </style>\n",
              "<div class=\"wandb-row\"><div class=\"wandb-col\"><h3>Run history:</h3><br/><table class=\"wandb\"><tr><td>accuracy</td><td>▁▅▇██</td></tr><tr><td>epoch</td><td>▁▃▅▆█</td></tr><tr><td>loss</td><td>█▃▂▁▁</td></tr><tr><td>val_accuracy</td><td>▁▄▇▇█</td></tr><tr><td>val_loss</td><td>█▆▁▁▁</td></tr></table><br/></div><div class=\"wandb-col\"><h3>Run summary:</h3><br/><table class=\"wandb\"><tr><td>accuracy</td><td>0.80192</td></tr><tr><td>best_epoch</td><td>4</td></tr><tr><td>best_val_loss</td><td>0.71029</td></tr><tr><td>epoch</td><td>4</td></tr><tr><td>loss</td><td>0.60434</td></tr><tr><td>val_accuracy</td><td>0.796</td></tr><tr><td>val_loss</td><td>0.71029</td></tr></table><br/></div></div>"
            ],
            "text/plain": [
              "<IPython.core.display.HTML object>"
            ]
          },
          "metadata": {},
          "output_type": "display_data"
        },
        {
          "data": {
            "text/html": [
              "Synced <strong style=\"color:#cdcd00\">northern-sweep-22</strong>: <a href=\"https://wandb.ai/moni6264/test_part_b/runs/rac4vbaf\" target=\"_blank\">https://wandb.ai/moni6264/test_part_b/runs/rac4vbaf</a><br/>Synced 5 W&B file(s), 0 media file(s), 0 artifact file(s) and 1 other file(s)"
            ],
            "text/plain": [
              "<IPython.core.display.HTML object>"
            ]
          },
          "metadata": {},
          "output_type": "display_data"
        },
        {
          "data": {
            "text/html": [
              "Find logs at: <code>./wandb/run-20220325_191158-rac4vbaf/logs</code>"
            ],
            "text/plain": [
              "<IPython.core.display.HTML object>"
            ]
          },
          "metadata": {},
          "output_type": "display_data"
        },
        {
          "name": "stderr",
          "output_type": "stream",
          "text": [
            "\u001b[34m\u001b[1mwandb\u001b[0m: Sweep Agent: Waiting for job.\n",
            "\u001b[34m\u001b[1mwandb\u001b[0m: Job received.\n",
            "\u001b[34m\u001b[1mwandb\u001b[0m: Agent Starting Run: s9yqnq3b with config:\n",
            "\u001b[34m\u001b[1mwandb\u001b[0m: \tbatch_size: 256\n",
            "\u001b[34m\u001b[1mwandb\u001b[0m: \tdata_augmentation: True\n",
            "\u001b[34m\u001b[1mwandb\u001b[0m: \tdense_layer: 512\n",
            "\u001b[34m\u001b[1mwandb\u001b[0m: \tdropout: 0.4\n",
            "\u001b[34m\u001b[1mwandb\u001b[0m: \tepochs: 5\n",
            "\u001b[34m\u001b[1mwandb\u001b[0m: \tlearning_rate: 0.001\n",
            "\u001b[34m\u001b[1mwandb\u001b[0m: \tpre_layer_train: 20\n",
            "\u001b[34m\u001b[1mwandb\u001b[0m: \tpretrained_model_name: InceptionResNetV2\n"
          ]
        },
        {
          "data": {
            "text/html": [
              "Tracking run with wandb version 0.12.11"
            ],
            "text/plain": [
              "<IPython.core.display.HTML object>"
            ]
          },
          "metadata": {},
          "output_type": "display_data"
        },
        {
          "data": {
            "text/html": [
              "Run data is saved locally in <code>/content/wandb/run-20220325_193911-s9yqnq3b</code>"
            ],
            "text/plain": [
              "<IPython.core.display.HTML object>"
            ]
          },
          "metadata": {},
          "output_type": "display_data"
        },
        {
          "data": {
            "text/html": [
              "Syncing run <strong><a href=\"https://wandb.ai/moni6264/test_part_b/runs/s9yqnq3b\" target=\"_blank\">comfy-sweep-24</a></strong> to <a href=\"https://wandb.ai/moni6264/test_part_b\" target=\"_blank\">Weights & Biases</a> (<a href=\"https://wandb.me/run\" target=\"_blank\">docs</a>)<br/>Sweep page:  <a href=\"https://wandb.ai/moni6264/test_part_b/sweeps/q832m8jh\" target=\"_blank\">https://wandb.ai/moni6264/test_part_b/sweeps/q832m8jh</a>"
            ],
            "text/plain": [
              "<IPython.core.display.HTML object>"
            ]
          },
          "metadata": {},
          "output_type": "display_data"
        },
        {
          "name": "stdout",
          "output_type": "stream",
          "text": [
            "pre_train_mdl_InceptionV3_aug_True_bs_256_ep_5_dropout_0.4_dense_512\n",
            "Found 8999 images belonging to 10 classes.\n",
            "Found 1000 images belonging to 10 classes.\n",
            "Found 2000 images belonging to 10 classes.\n",
            "82653930\n",
            "Epoch 1/5\n",
            "35/35 - 326s - loss: 5.3042 - accuracy: 0.5715 - val_loss: 2.7916 - val_accuracy: 0.6420 - _timestamp: 1648237497.0000 - _runtime: 346.0000 - 326s/epoch - 9s/step\n",
            "Epoch 2/5\n",
            "35/35 - 304s - loss: 0.8318 - accuracy: 0.7482 - val_loss: 0.9754 - val_accuracy: 0.7490 - _timestamp: 1648237810.0000 - _runtime: 659.0000 - 304s/epoch - 9s/step\n",
            "Epoch 3/5\n",
            "35/35 - 297s - loss: 0.7322 - accuracy: 0.7720 - val_loss: 0.7643 - val_accuracy: 0.7920 - _timestamp: 1648238106.0000 - _runtime: 955.0000 - 297s/epoch - 8s/step\n",
            "Epoch 4/5\n",
            "35/35 - 291s - loss: 0.6676 - accuracy: 0.7961 - val_loss: 0.7754 - val_accuracy: 0.8050 - _timestamp: 1648238401.0000 - _runtime: 1250.0000 - 291s/epoch - 8s/step\n",
            "Epoch 5/5\n",
            "35/35 - 292s - loss: 0.5924 - accuracy: 0.8179 - val_loss: 0.7514 - val_accuracy: 0.7930 - _timestamp: 1648238721.0000 - _runtime: 1570.0000 - 292s/epoch - 8s/step\n",
            "\n"
          ]
        },
        {
          "data": {
            "text/html": [
              "Waiting for W&B process to finish... <strong style=\"color:green\">(success).</strong>"
            ],
            "text/plain": [
              "<IPython.core.display.HTML object>"
            ]
          },
          "metadata": {},
          "output_type": "display_data"
        },
        {
          "data": {
            "application/vnd.jupyter.widget-view+json": {
              "model_id": "280818b88a644b88a3155c2ff9d2f035",
              "version_major": 2,
              "version_minor": 0
            },
            "text/plain": [
              "VBox(children=(Label(value='49.852 MB of 572.477 MB uploaded (0.000 MB deduped)\\r'), FloatProgress(value=0.087…"
            ]
          },
          "metadata": {},
          "output_type": "display_data"
        },
        {
          "data": {
            "text/html": [
              "<style>\n",
              "    table.wandb td:nth-child(1) { padding: 0 10px; text-align: right }\n",
              "    .wandb-row { display: flex; flex-direction: row; flex-wrap: wrap; width: 100% }\n",
              "    .wandb-col { display: flex; flex-direction: column; flex-basis: 100%; flex: 1; padding: 10px; }\n",
              "    </style>\n",
              "<div class=\"wandb-row\"><div class=\"wandb-col\"><h3>Run history:</h3><br/><table class=\"wandb\"><tr><td>accuracy</td><td>▁▆▇▇█</td></tr><tr><td>epoch</td><td>▁▃▅▆█</td></tr><tr><td>loss</td><td>█▁▁▁▁</td></tr><tr><td>val_accuracy</td><td>▁▆▇█▇</td></tr><tr><td>val_loss</td><td>█▂▁▁▁</td></tr></table><br/></div><div class=\"wandb-col\"><h3>Run summary:</h3><br/><table class=\"wandb\"><tr><td>accuracy</td><td>0.81792</td></tr><tr><td>best_epoch</td><td>4</td></tr><tr><td>best_val_loss</td><td>0.75143</td></tr><tr><td>epoch</td><td>4</td></tr><tr><td>loss</td><td>0.5924</td></tr><tr><td>val_accuracy</td><td>0.793</td></tr><tr><td>val_loss</td><td>0.75143</td></tr></table><br/></div></div>"
            ],
            "text/plain": [
              "<IPython.core.display.HTML object>"
            ]
          },
          "metadata": {},
          "output_type": "display_data"
        },
        {
          "data": {
            "text/html": [
              "Synced <strong style=\"color:#cdcd00\">comfy-sweep-24</strong>: <a href=\"https://wandb.ai/moni6264/test_part_b/runs/s9yqnq3b\" target=\"_blank\">https://wandb.ai/moni6264/test_part_b/runs/s9yqnq3b</a><br/>Synced 5 W&B file(s), 0 media file(s), 0 artifact file(s) and 1 other file(s)"
            ],
            "text/plain": [
              "<IPython.core.display.HTML object>"
            ]
          },
          "metadata": {},
          "output_type": "display_data"
        },
        {
          "data": {
            "text/html": [
              "Find logs at: <code>./wandb/run-20220325_193911-s9yqnq3b/logs</code>"
            ],
            "text/plain": [
              "<IPython.core.display.HTML object>"
            ]
          },
          "metadata": {},
          "output_type": "display_data"
        },
        {
          "name": "stderr",
          "output_type": "stream",
          "text": [
            "\u001b[34m\u001b[1mwandb\u001b[0m: Agent Starting Run: f5pcjcr7 with config:\n",
            "\u001b[34m\u001b[1mwandb\u001b[0m: \tbatch_size: 128\n",
            "\u001b[34m\u001b[1mwandb\u001b[0m: \tdata_augmentation: True\n",
            "\u001b[34m\u001b[1mwandb\u001b[0m: \tdense_layer: 512\n",
            "\u001b[34m\u001b[1mwandb\u001b[0m: \tdropout: 0.4\n",
            "\u001b[34m\u001b[1mwandb\u001b[0m: \tepochs: 5\n",
            "\u001b[34m\u001b[1mwandb\u001b[0m: \tlearning_rate: 0.0001\n",
            "\u001b[34m\u001b[1mwandb\u001b[0m: \tpre_layer_train: 20\n",
            "\u001b[34m\u001b[1mwandb\u001b[0m: \tpretrained_model_name: InceptionResNetV2\n"
          ]
        },
        {
          "data": {
            "text/html": [
              "Tracking run with wandb version 0.12.11"
            ],
            "text/plain": [
              "<IPython.core.display.HTML object>"
            ]
          },
          "metadata": {},
          "output_type": "display_data"
        },
        {
          "data": {
            "text/html": [
              "Run data is saved locally in <code>/content/wandb/run-20220325_200610-f5pcjcr7</code>"
            ],
            "text/plain": [
              "<IPython.core.display.HTML object>"
            ]
          },
          "metadata": {},
          "output_type": "display_data"
        },
        {
          "data": {
            "text/html": [
              "Syncing run <strong><a href=\"https://wandb.ai/moni6264/test_part_b/runs/f5pcjcr7\" target=\"_blank\">rare-sweep-26</a></strong> to <a href=\"https://wandb.ai/moni6264/test_part_b\" target=\"_blank\">Weights & Biases</a> (<a href=\"https://wandb.me/run\" target=\"_blank\">docs</a>)<br/>Sweep page:  <a href=\"https://wandb.ai/moni6264/test_part_b/sweeps/q832m8jh\" target=\"_blank\">https://wandb.ai/moni6264/test_part_b/sweeps/q832m8jh</a>"
            ],
            "text/plain": [
              "<IPython.core.display.HTML object>"
            ]
          },
          "metadata": {},
          "output_type": "display_data"
        },
        {
          "name": "stdout",
          "output_type": "stream",
          "text": [
            "pre_train_mdl_InceptionV3_aug_True_bs_128_ep_5_dropout_0.4_dense_512\n",
            "Found 8999 images belonging to 10 classes.\n",
            "Found 1000 images belonging to 10 classes.\n",
            "Found 2000 images belonging to 10 classes.\n",
            "82653930\n",
            "Epoch 1/5\n",
            "35/35 - 314s - loss: 1.2517 - accuracy: 0.6376 - val_loss: 0.7836 - val_accuracy: 0.7580 - _timestamp: 1648239105.0000 - _runtime: 335.0000 - 314s/epoch - 9s/step\n",
            "Epoch 2/5\n"
          ]
        }
      ],
      "source": [
        "\n",
        "sweep_config = {\n",
        "  \"name\": \"CNN_PartB\",\n",
        "  \"metric\": {\n",
        "      \"name\":\"val_accuracy\",\n",
        "      \"goal\": \"maximize\"\n",
        "  },\n",
        "  \"method\": \"bayes\",\n",
        "  \"parameters\": {\n",
        "        \"data_augmentation\": {\n",
        "            \"values\": [True, False]\n",
        "        },\n",
        "        \"batch_size\": {\n",
        "            \"values\": [256,512]\n",
        "        },\n",
        "        \"learning_rate\": {\n",
        "            \"values\": [0.001, 0.0001]\n",
        "        },\n",
        "        \"epochs\": {\n",
        "            \"values\": [5, 10]\n",
        "        },\n",
        "        \"dropout\": {\n",
        "            \"values\": [0, 0.2,0.4]\n",
        "        },\n",
        "        \"dense_layer\": {\n",
        "            \"values\": [128, 256, 512]\n",
        "        },\n",
        "          \"pre_layer_train\": {\n",
        "            \"values\": [None, 10, 20]\n",
        "        },\n",
        "          \"pretrained_model_name\":{\n",
        "             \"values\": ['Xception','ResNet50','InceptionV3','InceptionResNetV2'] \n",
        "          },\n",
        "\n",
        "      \n",
        "           }\n",
        "}\n",
        "\n",
        "sweep_id = \"q832m8jh\"\n",
        "wandb.agent(sweep_id,train,entity=\"moni6264\",project=\"test_part_b\",count=5)\n",
        "#sweep_id = wandb.sweep(sweep_config, entity=\"moni6264\", project=\"test_part_b\")\n",
        "#wandb.agent(sweep_id, train, count=8)"
      ]
    }
  ],
  "metadata": {
    "accelerator": "GPU",
    "colab": {
      "collapsed_sections": [],
      "name": "CNN_PartB_5.2.ipynb",
      "provenance": [],
      "include_colab_link": true
    },
    "kernelspec": {
      "display_name": "Python 3",
      "name": "python3"
    },
    "language_info": {
      "name": "python"
    },
    "widgets": {
      "application/vnd.jupyter.widget-state+json": {
        "03c5c1af59ff4263814f750ca99b773d": {
          "model_module": "@jupyter-widgets/controls",
          "model_module_version": "1.5.0",
          "model_name": "ProgressStyleModel",
          "state": {
            "_model_module": "@jupyter-widgets/controls",
            "_model_module_version": "1.5.0",
            "_model_name": "ProgressStyleModel",
            "_view_count": null,
            "_view_module": "@jupyter-widgets/base",
            "_view_module_version": "1.2.0",
            "_view_name": "StyleView",
            "bar_color": null,
            "description_width": ""
          }
        },
        "0735c8a4f6e94057b77719c9d22190d3": {
          "model_module": "@jupyter-widgets/base",
          "model_module_version": "1.2.0",
          "model_name": "LayoutModel",
          "state": {
            "_model_module": "@jupyter-widgets/base",
            "_model_module_version": "1.2.0",
            "_model_name": "LayoutModel",
            "_view_count": null,
            "_view_module": "@jupyter-widgets/base",
            "_view_module_version": "1.2.0",
            "_view_name": "LayoutView",
            "align_content": null,
            "align_items": null,
            "align_self": null,
            "border": null,
            "bottom": null,
            "display": null,
            "flex": null,
            "flex_flow": null,
            "grid_area": null,
            "grid_auto_columns": null,
            "grid_auto_flow": null,
            "grid_auto_rows": null,
            "grid_column": null,
            "grid_gap": null,
            "grid_row": null,
            "grid_template_areas": null,
            "grid_template_columns": null,
            "grid_template_rows": null,
            "height": null,
            "justify_content": null,
            "justify_items": null,
            "left": null,
            "margin": null,
            "max_height": null,
            "max_width": null,
            "min_height": null,
            "min_width": null,
            "object_fit": null,
            "object_position": null,
            "order": null,
            "overflow": null,
            "overflow_x": null,
            "overflow_y": null,
            "padding": null,
            "right": null,
            "top": null,
            "visibility": null,
            "width": null
          }
        },
        "1791c1b0ea564ff3a73fa17328943a53": {
          "model_module": "@jupyter-widgets/controls",
          "model_module_version": "1.5.0",
          "model_name": "LabelModel",
          "state": {
            "_dom_classes": [],
            "_model_module": "@jupyter-widgets/controls",
            "_model_module_version": "1.5.0",
            "_model_name": "LabelModel",
            "_view_count": null,
            "_view_module": "@jupyter-widgets/controls",
            "_view_module_version": "1.5.0",
            "_view_name": "LabelView",
            "description": "",
            "description_tooltip": null,
            "layout": "IPY_MODEL_f02fd5d4f23d46399fc02841d3913bb8",
            "placeholder": "​",
            "style": "IPY_MODEL_6564ef7200b44f41941d0837fba339d0",
            "value": "903.867 MB of 903.867 MB uploaded (0.000 MB deduped)\r"
          }
        },
        "30dfff0897f145fab1ba7fa69d92c912": {
          "model_module": "@jupyter-widgets/controls",
          "model_module_version": "1.5.0",
          "model_name": "DescriptionStyleModel",
          "state": {
            "_model_module": "@jupyter-widgets/controls",
            "_model_module_version": "1.5.0",
            "_model_name": "DescriptionStyleModel",
            "_view_count": null,
            "_view_module": "@jupyter-widgets/base",
            "_view_module_version": "1.2.0",
            "_view_name": "StyleView",
            "description_width": ""
          }
        },
        "444f1204d06648d1bf8742f009483b78": {
          "model_module": "@jupyter-widgets/base",
          "model_module_version": "1.2.0",
          "model_name": "LayoutModel",
          "state": {
            "_model_module": "@jupyter-widgets/base",
            "_model_module_version": "1.2.0",
            "_model_name": "LayoutModel",
            "_view_count": null,
            "_view_module": "@jupyter-widgets/base",
            "_view_module_version": "1.2.0",
            "_view_name": "LayoutView",
            "align_content": null,
            "align_items": null,
            "align_self": null,
            "border": null,
            "bottom": null,
            "display": null,
            "flex": null,
            "flex_flow": null,
            "grid_area": null,
            "grid_auto_columns": null,
            "grid_auto_flow": null,
            "grid_auto_rows": null,
            "grid_column": null,
            "grid_gap": null,
            "grid_row": null,
            "grid_template_areas": null,
            "grid_template_columns": null,
            "grid_template_rows": null,
            "height": null,
            "justify_content": null,
            "justify_items": null,
            "left": null,
            "margin": null,
            "max_height": null,
            "max_width": null,
            "min_height": null,
            "min_width": null,
            "object_fit": null,
            "object_position": null,
            "order": null,
            "overflow": null,
            "overflow_x": null,
            "overflow_y": null,
            "padding": null,
            "right": null,
            "top": null,
            "visibility": null,
            "width": null
          }
        },
        "560992ccdeba4023a6e5c69255ac58fd": {
          "model_module": "@jupyter-widgets/controls",
          "model_module_version": "1.5.0",
          "model_name": "FloatProgressModel",
          "state": {
            "_dom_classes": [],
            "_model_module": "@jupyter-widgets/controls",
            "_model_module_version": "1.5.0",
            "_model_name": "FloatProgressModel",
            "_view_count": null,
            "_view_module": "@jupyter-widgets/controls",
            "_view_module_version": "1.5.0",
            "_view_name": "ProgressView",
            "bar_style": "",
            "description": "",
            "description_tooltip": null,
            "layout": "IPY_MODEL_0735c8a4f6e94057b77719c9d22190d3",
            "max": 1,
            "min": 0,
            "orientation": "horizontal",
            "style": "IPY_MODEL_9ac7128e71b347c48ce631fb12bc2d90",
            "value": 1
          }
        },
        "5a47a0e665fb4feca4049819f59ebf4e": {
          "model_module": "@jupyter-widgets/base",
          "model_module_version": "1.2.0",
          "model_name": "LayoutModel",
          "state": {
            "_model_module": "@jupyter-widgets/base",
            "_model_module_version": "1.2.0",
            "_model_name": "LayoutModel",
            "_view_count": null,
            "_view_module": "@jupyter-widgets/base",
            "_view_module_version": "1.2.0",
            "_view_name": "LayoutView",
            "align_content": null,
            "align_items": null,
            "align_self": null,
            "border": null,
            "bottom": null,
            "display": null,
            "flex": null,
            "flex_flow": null,
            "grid_area": null,
            "grid_auto_columns": null,
            "grid_auto_flow": null,
            "grid_auto_rows": null,
            "grid_column": null,
            "grid_gap": null,
            "grid_row": null,
            "grid_template_areas": null,
            "grid_template_columns": null,
            "grid_template_rows": null,
            "height": null,
            "justify_content": null,
            "justify_items": null,
            "left": null,
            "margin": null,
            "max_height": null,
            "max_width": null,
            "min_height": null,
            "min_width": null,
            "object_fit": null,
            "object_position": null,
            "order": null,
            "overflow": null,
            "overflow_x": null,
            "overflow_y": null,
            "padding": null,
            "right": null,
            "top": null,
            "visibility": null,
            "width": null
          }
        },
        "6564ef7200b44f41941d0837fba339d0": {
          "model_module": "@jupyter-widgets/controls",
          "model_module_version": "1.5.0",
          "model_name": "DescriptionStyleModel",
          "state": {
            "_model_module": "@jupyter-widgets/controls",
            "_model_module_version": "1.5.0",
            "_model_name": "DescriptionStyleModel",
            "_view_count": null,
            "_view_module": "@jupyter-widgets/base",
            "_view_module_version": "1.2.0",
            "_view_name": "StyleView",
            "description_width": ""
          }
        },
        "7a4238d815e7428fabb4e4ca76c212d2": {
          "model_module": "@jupyter-widgets/controls",
          "model_module_version": "1.5.0",
          "model_name": "VBoxModel",
          "state": {
            "_dom_classes": [],
            "_model_module": "@jupyter-widgets/controls",
            "_model_module_version": "1.5.0",
            "_model_name": "VBoxModel",
            "_view_count": null,
            "_view_module": "@jupyter-widgets/controls",
            "_view_module_version": "1.5.0",
            "_view_name": "VBoxView",
            "box_style": "",
            "children": [
              "IPY_MODEL_1791c1b0ea564ff3a73fa17328943a53",
              "IPY_MODEL_fe37d60e4f404611a2c73e9e42052e36"
            ],
            "layout": "IPY_MODEL_444f1204d06648d1bf8742f009483b78"
          }
        },
        "7b7d2153c9bc492eb8cebf88195480a2": {
          "model_module": "@jupyter-widgets/controls",
          "model_module_version": "1.5.0",
          "model_name": "LabelModel",
          "state": {
            "_dom_classes": [],
            "_model_module": "@jupyter-widgets/controls",
            "_model_module_version": "1.5.0",
            "_model_name": "LabelModel",
            "_view_count": null,
            "_view_module": "@jupyter-widgets/controls",
            "_view_module_version": "1.5.0",
            "_view_name": "LabelView",
            "description": "",
            "description_tooltip": null,
            "layout": "IPY_MODEL_5a47a0e665fb4feca4049819f59ebf4e",
            "placeholder": "​",
            "style": "IPY_MODEL_30dfff0897f145fab1ba7fa69d92c912",
            "value": "572.486 MB of 572.486 MB uploaded (0.000 MB deduped)\r"
          }
        },
        "891c3b6ee0ac4591bae5452573668322": {
          "model_module": "@jupyter-widgets/controls",
          "model_module_version": "1.5.0",
          "model_name": "ProgressStyleModel",
          "state": {
            "_model_module": "@jupyter-widgets/controls",
            "_model_module_version": "1.5.0",
            "_model_name": "ProgressStyleModel",
            "_view_count": null,
            "_view_module": "@jupyter-widgets/base",
            "_view_module_version": "1.2.0",
            "_view_name": "StyleView",
            "bar_color": null,
            "description_width": ""
          }
        },
        "8daa31aeefb54124b2f733fd633e154c": {
          "model_module": "@jupyter-widgets/base",
          "model_module_version": "1.2.0",
          "model_name": "LayoutModel",
          "state": {
            "_model_module": "@jupyter-widgets/base",
            "_model_module_version": "1.2.0",
            "_model_name": "LayoutModel",
            "_view_count": null,
            "_view_module": "@jupyter-widgets/base",
            "_view_module_version": "1.2.0",
            "_view_name": "LayoutView",
            "align_content": null,
            "align_items": null,
            "align_self": null,
            "border": null,
            "bottom": null,
            "display": null,
            "flex": null,
            "flex_flow": null,
            "grid_area": null,
            "grid_auto_columns": null,
            "grid_auto_flow": null,
            "grid_auto_rows": null,
            "grid_column": null,
            "grid_gap": null,
            "grid_row": null,
            "grid_template_areas": null,
            "grid_template_columns": null,
            "grid_template_rows": null,
            "height": null,
            "justify_content": null,
            "justify_items": null,
            "left": null,
            "margin": null,
            "max_height": null,
            "max_width": null,
            "min_height": null,
            "min_width": null,
            "object_fit": null,
            "object_position": null,
            "order": null,
            "overflow": null,
            "overflow_x": null,
            "overflow_y": null,
            "padding": null,
            "right": null,
            "top": null,
            "visibility": null,
            "width": null
          }
        },
        "9642fa27a7a04c4d98393e424afb83f9": {
          "model_module": "@jupyter-widgets/controls",
          "model_module_version": "1.5.0",
          "model_name": "VBoxModel",
          "state": {
            "_dom_classes": [],
            "_model_module": "@jupyter-widgets/controls",
            "_model_module_version": "1.5.0",
            "_model_name": "VBoxModel",
            "_view_count": null,
            "_view_module": "@jupyter-widgets/controls",
            "_view_module_version": "1.5.0",
            "_view_name": "VBoxView",
            "box_style": "",
            "children": [
              "IPY_MODEL_7b7d2153c9bc492eb8cebf88195480a2",
              "IPY_MODEL_fb489c0e32cf40a8be72fe09c5b51535"
            ],
            "layout": "IPY_MODEL_d0f1973af76a4b928b1695fe8d1ea846"
          }
        },
        "9ac7128e71b347c48ce631fb12bc2d90": {
          "model_module": "@jupyter-widgets/controls",
          "model_module_version": "1.5.0",
          "model_name": "ProgressStyleModel",
          "state": {
            "_model_module": "@jupyter-widgets/controls",
            "_model_module_version": "1.5.0",
            "_model_name": "ProgressStyleModel",
            "_view_count": null,
            "_view_module": "@jupyter-widgets/base",
            "_view_module_version": "1.2.0",
            "_view_name": "StyleView",
            "bar_color": null,
            "description_width": ""
          }
        },
        "a41e420f7ae14c2f95610e49a2d37705": {
          "model_module": "@jupyter-widgets/controls",
          "model_module_version": "1.5.0",
          "model_name": "DescriptionStyleModel",
          "state": {
            "_model_module": "@jupyter-widgets/controls",
            "_model_module_version": "1.5.0",
            "_model_name": "DescriptionStyleModel",
            "_view_count": null,
            "_view_module": "@jupyter-widgets/base",
            "_view_module_version": "1.2.0",
            "_view_name": "StyleView",
            "description_width": ""
          }
        },
        "b8991f622d514f88befec7088c62bc54": {
          "model_module": "@jupyter-widgets/base",
          "model_module_version": "1.2.0",
          "model_name": "LayoutModel",
          "state": {
            "_model_module": "@jupyter-widgets/base",
            "_model_module_version": "1.2.0",
            "_model_name": "LayoutModel",
            "_view_count": null,
            "_view_module": "@jupyter-widgets/base",
            "_view_module_version": "1.2.0",
            "_view_name": "LayoutView",
            "align_content": null,
            "align_items": null,
            "align_self": null,
            "border": null,
            "bottom": null,
            "display": null,
            "flex": null,
            "flex_flow": null,
            "grid_area": null,
            "grid_auto_columns": null,
            "grid_auto_flow": null,
            "grid_auto_rows": null,
            "grid_column": null,
            "grid_gap": null,
            "grid_row": null,
            "grid_template_areas": null,
            "grid_template_columns": null,
            "grid_template_rows": null,
            "height": null,
            "justify_content": null,
            "justify_items": null,
            "left": null,
            "margin": null,
            "max_height": null,
            "max_width": null,
            "min_height": null,
            "min_width": null,
            "object_fit": null,
            "object_position": null,
            "order": null,
            "overflow": null,
            "overflow_x": null,
            "overflow_y": null,
            "padding": null,
            "right": null,
            "top": null,
            "visibility": null,
            "width": null
          }
        },
        "d0f1973af76a4b928b1695fe8d1ea846": {
          "model_module": "@jupyter-widgets/base",
          "model_module_version": "1.2.0",
          "model_name": "LayoutModel",
          "state": {
            "_model_module": "@jupyter-widgets/base",
            "_model_module_version": "1.2.0",
            "_model_name": "LayoutModel",
            "_view_count": null,
            "_view_module": "@jupyter-widgets/base",
            "_view_module_version": "1.2.0",
            "_view_name": "LayoutView",
            "align_content": null,
            "align_items": null,
            "align_self": null,
            "border": null,
            "bottom": null,
            "display": null,
            "flex": null,
            "flex_flow": null,
            "grid_area": null,
            "grid_auto_columns": null,
            "grid_auto_flow": null,
            "grid_auto_rows": null,
            "grid_column": null,
            "grid_gap": null,
            "grid_row": null,
            "grid_template_areas": null,
            "grid_template_columns": null,
            "grid_template_rows": null,
            "height": null,
            "justify_content": null,
            "justify_items": null,
            "left": null,
            "margin": null,
            "max_height": null,
            "max_width": null,
            "min_height": null,
            "min_width": null,
            "object_fit": null,
            "object_position": null,
            "order": null,
            "overflow": null,
            "overflow_x": null,
            "overflow_y": null,
            "padding": null,
            "right": null,
            "top": null,
            "visibility": null,
            "width": null
          }
        },
        "ea15c864cf4348298e92ad511d3cb60f": {
          "model_module": "@jupyter-widgets/controls",
          "model_module_version": "1.5.0",
          "model_name": "VBoxModel",
          "state": {
            "_dom_classes": [],
            "_model_module": "@jupyter-widgets/controls",
            "_model_module_version": "1.5.0",
            "_model_name": "VBoxModel",
            "_view_count": null,
            "_view_module": "@jupyter-widgets/controls",
            "_view_module_version": "1.5.0",
            "_view_name": "VBoxView",
            "box_style": "",
            "children": [
              "IPY_MODEL_fd7189d615e64b98adb6da421eae3aff",
              "IPY_MODEL_560992ccdeba4023a6e5c69255ac58fd"
            ],
            "layout": "IPY_MODEL_b8991f622d514f88befec7088c62bc54"
          }
        },
        "f02fd5d4f23d46399fc02841d3913bb8": {
          "model_module": "@jupyter-widgets/base",
          "model_module_version": "1.2.0",
          "model_name": "LayoutModel",
          "state": {
            "_model_module": "@jupyter-widgets/base",
            "_model_module_version": "1.2.0",
            "_model_name": "LayoutModel",
            "_view_count": null,
            "_view_module": "@jupyter-widgets/base",
            "_view_module_version": "1.2.0",
            "_view_name": "LayoutView",
            "align_content": null,
            "align_items": null,
            "align_self": null,
            "border": null,
            "bottom": null,
            "display": null,
            "flex": null,
            "flex_flow": null,
            "grid_area": null,
            "grid_auto_columns": null,
            "grid_auto_flow": null,
            "grid_auto_rows": null,
            "grid_column": null,
            "grid_gap": null,
            "grid_row": null,
            "grid_template_areas": null,
            "grid_template_columns": null,
            "grid_template_rows": null,
            "height": null,
            "justify_content": null,
            "justify_items": null,
            "left": null,
            "margin": null,
            "max_height": null,
            "max_width": null,
            "min_height": null,
            "min_width": null,
            "object_fit": null,
            "object_position": null,
            "order": null,
            "overflow": null,
            "overflow_x": null,
            "overflow_y": null,
            "padding": null,
            "right": null,
            "top": null,
            "visibility": null,
            "width": null
          }
        },
        "f205605fefb9484c9eaaca000da19402": {
          "model_module": "@jupyter-widgets/base",
          "model_module_version": "1.2.0",
          "model_name": "LayoutModel",
          "state": {
            "_model_module": "@jupyter-widgets/base",
            "_model_module_version": "1.2.0",
            "_model_name": "LayoutModel",
            "_view_count": null,
            "_view_module": "@jupyter-widgets/base",
            "_view_module_version": "1.2.0",
            "_view_name": "LayoutView",
            "align_content": null,
            "align_items": null,
            "align_self": null,
            "border": null,
            "bottom": null,
            "display": null,
            "flex": null,
            "flex_flow": null,
            "grid_area": null,
            "grid_auto_columns": null,
            "grid_auto_flow": null,
            "grid_auto_rows": null,
            "grid_column": null,
            "grid_gap": null,
            "grid_row": null,
            "grid_template_areas": null,
            "grid_template_columns": null,
            "grid_template_rows": null,
            "height": null,
            "justify_content": null,
            "justify_items": null,
            "left": null,
            "margin": null,
            "max_height": null,
            "max_width": null,
            "min_height": null,
            "min_width": null,
            "object_fit": null,
            "object_position": null,
            "order": null,
            "overflow": null,
            "overflow_x": null,
            "overflow_y": null,
            "padding": null,
            "right": null,
            "top": null,
            "visibility": null,
            "width": null
          }
        },
        "f9cbfec38ee34a079276d77740fc9eb7": {
          "model_module": "@jupyter-widgets/base",
          "model_module_version": "1.2.0",
          "model_name": "LayoutModel",
          "state": {
            "_model_module": "@jupyter-widgets/base",
            "_model_module_version": "1.2.0",
            "_model_name": "LayoutModel",
            "_view_count": null,
            "_view_module": "@jupyter-widgets/base",
            "_view_module_version": "1.2.0",
            "_view_name": "LayoutView",
            "align_content": null,
            "align_items": null,
            "align_self": null,
            "border": null,
            "bottom": null,
            "display": null,
            "flex": null,
            "flex_flow": null,
            "grid_area": null,
            "grid_auto_columns": null,
            "grid_auto_flow": null,
            "grid_auto_rows": null,
            "grid_column": null,
            "grid_gap": null,
            "grid_row": null,
            "grid_template_areas": null,
            "grid_template_columns": null,
            "grid_template_rows": null,
            "height": null,
            "justify_content": null,
            "justify_items": null,
            "left": null,
            "margin": null,
            "max_height": null,
            "max_width": null,
            "min_height": null,
            "min_width": null,
            "object_fit": null,
            "object_position": null,
            "order": null,
            "overflow": null,
            "overflow_x": null,
            "overflow_y": null,
            "padding": null,
            "right": null,
            "top": null,
            "visibility": null,
            "width": null
          }
        },
        "fb489c0e32cf40a8be72fe09c5b51535": {
          "model_module": "@jupyter-widgets/controls",
          "model_module_version": "1.5.0",
          "model_name": "FloatProgressModel",
          "state": {
            "_dom_classes": [],
            "_model_module": "@jupyter-widgets/controls",
            "_model_module_version": "1.5.0",
            "_model_name": "FloatProgressModel",
            "_view_count": null,
            "_view_module": "@jupyter-widgets/controls",
            "_view_module_version": "1.5.0",
            "_view_name": "ProgressView",
            "bar_style": "",
            "description": "",
            "description_tooltip": null,
            "layout": "IPY_MODEL_8daa31aeefb54124b2f733fd633e154c",
            "max": 1,
            "min": 0,
            "orientation": "horizontal",
            "style": "IPY_MODEL_891c3b6ee0ac4591bae5452573668322",
            "value": 1
          }
        },
        "fd7189d615e64b98adb6da421eae3aff": {
          "model_module": "@jupyter-widgets/controls",
          "model_module_version": "1.5.0",
          "model_name": "LabelModel",
          "state": {
            "_dom_classes": [],
            "_model_module": "@jupyter-widgets/controls",
            "_model_module_version": "1.5.0",
            "_model_name": "LabelModel",
            "_view_count": null,
            "_view_module": "@jupyter-widgets/controls",
            "_view_module_version": "1.5.0",
            "_view_name": "LabelView",
            "description": "",
            "description_tooltip": null,
            "layout": "IPY_MODEL_f205605fefb9484c9eaaca000da19402",
            "placeholder": "​",
            "style": "IPY_MODEL_a41e420f7ae14c2f95610e49a2d37705",
            "value": "572.486 MB of 572.486 MB uploaded (0.000 MB deduped)\r"
          }
        },
        "fe37d60e4f404611a2c73e9e42052e36": {
          "model_module": "@jupyter-widgets/controls",
          "model_module_version": "1.5.0",
          "model_name": "FloatProgressModel",
          "state": {
            "_dom_classes": [],
            "_model_module": "@jupyter-widgets/controls",
            "_model_module_version": "1.5.0",
            "_model_name": "FloatProgressModel",
            "_view_count": null,
            "_view_module": "@jupyter-widgets/controls",
            "_view_module_version": "1.5.0",
            "_view_name": "ProgressView",
            "bar_style": "",
            "description": "",
            "description_tooltip": null,
            "layout": "IPY_MODEL_f9cbfec38ee34a079276d77740fc9eb7",
            "max": 1,
            "min": 0,
            "orientation": "horizontal",
            "style": "IPY_MODEL_03c5c1af59ff4263814f750ca99b773d",
            "value": 1
          }
        }
      }
    }
  },
  "nbformat": 4,
  "nbformat_minor": 0
}