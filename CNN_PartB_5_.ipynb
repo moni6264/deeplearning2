{
  "nbformat": 4,
  "nbformat_minor": 0,
  "metadata": {
    "colab": {
      "name": "CNN_PartB_5_.ipynb",
      "provenance": [],
      "collapsed_sections": [],
      "include_colab_link": true
    },
    "kernelspec": {
      "name": "python3",
      "display_name": "Python 3"
    },
    "language_info": {
      "name": "python"
    },
    "accelerator": "GPU",
    "widgets": {
      "application/vnd.jupyter.widget-state+json": {
        "648b61ff7c4a492190197a8877e9fcf6": {
          "model_module": "@jupyter-widgets/controls",
          "model_name": "VBoxModel",
          "model_module_version": "1.5.0",
          "state": {
            "_dom_classes": [],
            "_model_module": "@jupyter-widgets/controls",
            "_model_module_version": "1.5.0",
            "_model_name": "VBoxModel",
            "_view_count": null,
            "_view_module": "@jupyter-widgets/controls",
            "_view_module_version": "1.5.0",
            "_view_name": "VBoxView",
            "box_style": "",
            "children": [
              "IPY_MODEL_ca0516e6d63e498ab961ca949f1a8e5a",
              "IPY_MODEL_413c5792a0364cb9a2ab0d20e01917dd"
            ],
            "layout": "IPY_MODEL_c4da9e93898244a5aca3c065a03314b7"
          }
        },
        "ca0516e6d63e498ab961ca949f1a8e5a": {
          "model_module": "@jupyter-widgets/controls",
          "model_name": "LabelModel",
          "model_module_version": "1.5.0",
          "state": {
            "_dom_classes": [],
            "_model_module": "@jupyter-widgets/controls",
            "_model_module_version": "1.5.0",
            "_model_name": "LabelModel",
            "_view_count": null,
            "_view_module": "@jupyter-widgets/controls",
            "_view_module_version": "1.5.0",
            "_view_name": "LabelView",
            "description": "",
            "description_tooltip": null,
            "layout": "IPY_MODEL_6cbb86988fc14821ba01ff40fc04cbd1",
            "placeholder": "​",
            "style": "IPY_MODEL_2636e243c9b94e58bc68c9c5071a3d93",
            "value": "572.487 MB of 572.487 MB uploaded (0.000 MB deduped)\r"
          }
        },
        "413c5792a0364cb9a2ab0d20e01917dd": {
          "model_module": "@jupyter-widgets/controls",
          "model_name": "FloatProgressModel",
          "model_module_version": "1.5.0",
          "state": {
            "_dom_classes": [],
            "_model_module": "@jupyter-widgets/controls",
            "_model_module_version": "1.5.0",
            "_model_name": "FloatProgressModel",
            "_view_count": null,
            "_view_module": "@jupyter-widgets/controls",
            "_view_module_version": "1.5.0",
            "_view_name": "ProgressView",
            "bar_style": "",
            "description": "",
            "description_tooltip": null,
            "layout": "IPY_MODEL_1a108037822d4a2a9adda37c104a4081",
            "max": 1,
            "min": 0,
            "orientation": "horizontal",
            "style": "IPY_MODEL_32df150ef29940608b1cf948636f35bd",
            "value": 1
          }
        },
        "c4da9e93898244a5aca3c065a03314b7": {
          "model_module": "@jupyter-widgets/base",
          "model_name": "LayoutModel",
          "model_module_version": "1.2.0",
          "state": {
            "_model_module": "@jupyter-widgets/base",
            "_model_module_version": "1.2.0",
            "_model_name": "LayoutModel",
            "_view_count": null,
            "_view_module": "@jupyter-widgets/base",
            "_view_module_version": "1.2.0",
            "_view_name": "LayoutView",
            "align_content": null,
            "align_items": null,
            "align_self": null,
            "border": null,
            "bottom": null,
            "display": null,
            "flex": null,
            "flex_flow": null,
            "grid_area": null,
            "grid_auto_columns": null,
            "grid_auto_flow": null,
            "grid_auto_rows": null,
            "grid_column": null,
            "grid_gap": null,
            "grid_row": null,
            "grid_template_areas": null,
            "grid_template_columns": null,
            "grid_template_rows": null,
            "height": null,
            "justify_content": null,
            "justify_items": null,
            "left": null,
            "margin": null,
            "max_height": null,
            "max_width": null,
            "min_height": null,
            "min_width": null,
            "object_fit": null,
            "object_position": null,
            "order": null,
            "overflow": null,
            "overflow_x": null,
            "overflow_y": null,
            "padding": null,
            "right": null,
            "top": null,
            "visibility": null,
            "width": null
          }
        },
        "6cbb86988fc14821ba01ff40fc04cbd1": {
          "model_module": "@jupyter-widgets/base",
          "model_name": "LayoutModel",
          "model_module_version": "1.2.0",
          "state": {
            "_model_module": "@jupyter-widgets/base",
            "_model_module_version": "1.2.0",
            "_model_name": "LayoutModel",
            "_view_count": null,
            "_view_module": "@jupyter-widgets/base",
            "_view_module_version": "1.2.0",
            "_view_name": "LayoutView",
            "align_content": null,
            "align_items": null,
            "align_self": null,
            "border": null,
            "bottom": null,
            "display": null,
            "flex": null,
            "flex_flow": null,
            "grid_area": null,
            "grid_auto_columns": null,
            "grid_auto_flow": null,
            "grid_auto_rows": null,
            "grid_column": null,
            "grid_gap": null,
            "grid_row": null,
            "grid_template_areas": null,
            "grid_template_columns": null,
            "grid_template_rows": null,
            "height": null,
            "justify_content": null,
            "justify_items": null,
            "left": null,
            "margin": null,
            "max_height": null,
            "max_width": null,
            "min_height": null,
            "min_width": null,
            "object_fit": null,
            "object_position": null,
            "order": null,
            "overflow": null,
            "overflow_x": null,
            "overflow_y": null,
            "padding": null,
            "right": null,
            "top": null,
            "visibility": null,
            "width": null
          }
        },
        "2636e243c9b94e58bc68c9c5071a3d93": {
          "model_module": "@jupyter-widgets/controls",
          "model_name": "DescriptionStyleModel",
          "model_module_version": "1.5.0",
          "state": {
            "_model_module": "@jupyter-widgets/controls",
            "_model_module_version": "1.5.0",
            "_model_name": "DescriptionStyleModel",
            "_view_count": null,
            "_view_module": "@jupyter-widgets/base",
            "_view_module_version": "1.2.0",
            "_view_name": "StyleView",
            "description_width": ""
          }
        },
        "1a108037822d4a2a9adda37c104a4081": {
          "model_module": "@jupyter-widgets/base",
          "model_name": "LayoutModel",
          "model_module_version": "1.2.0",
          "state": {
            "_model_module": "@jupyter-widgets/base",
            "_model_module_version": "1.2.0",
            "_model_name": "LayoutModel",
            "_view_count": null,
            "_view_module": "@jupyter-widgets/base",
            "_view_module_version": "1.2.0",
            "_view_name": "LayoutView",
            "align_content": null,
            "align_items": null,
            "align_self": null,
            "border": null,
            "bottom": null,
            "display": null,
            "flex": null,
            "flex_flow": null,
            "grid_area": null,
            "grid_auto_columns": null,
            "grid_auto_flow": null,
            "grid_auto_rows": null,
            "grid_column": null,
            "grid_gap": null,
            "grid_row": null,
            "grid_template_areas": null,
            "grid_template_columns": null,
            "grid_template_rows": null,
            "height": null,
            "justify_content": null,
            "justify_items": null,
            "left": null,
            "margin": null,
            "max_height": null,
            "max_width": null,
            "min_height": null,
            "min_width": null,
            "object_fit": null,
            "object_position": null,
            "order": null,
            "overflow": null,
            "overflow_x": null,
            "overflow_y": null,
            "padding": null,
            "right": null,
            "top": null,
            "visibility": null,
            "width": null
          }
        },
        "32df150ef29940608b1cf948636f35bd": {
          "model_module": "@jupyter-widgets/controls",
          "model_name": "ProgressStyleModel",
          "model_module_version": "1.5.0",
          "state": {
            "_model_module": "@jupyter-widgets/controls",
            "_model_module_version": "1.5.0",
            "_model_name": "ProgressStyleModel",
            "_view_count": null,
            "_view_module": "@jupyter-widgets/base",
            "_view_module_version": "1.2.0",
            "_view_name": "StyleView",
            "bar_color": null,
            "description_width": ""
          }
        },
        "a21540063dd941d2b8c97c5b66381d3a": {
          "model_module": "@jupyter-widgets/controls",
          "model_name": "VBoxModel",
          "model_module_version": "1.5.0",
          "state": {
            "_dom_classes": [],
            "_model_module": "@jupyter-widgets/controls",
            "_model_module_version": "1.5.0",
            "_model_name": "VBoxModel",
            "_view_count": null,
            "_view_module": "@jupyter-widgets/controls",
            "_view_module_version": "1.5.0",
            "_view_name": "VBoxView",
            "box_style": "",
            "children": [
              "IPY_MODEL_fd533185a730467091b22e9848387862",
              "IPY_MODEL_7b77e420203a4f5eb08d1876e89849f0"
            ],
            "layout": "IPY_MODEL_1043ce7cdc56436e8b8f49e10a69d880"
          }
        },
        "fd533185a730467091b22e9848387862": {
          "model_module": "@jupyter-widgets/controls",
          "model_name": "LabelModel",
          "model_module_version": "1.5.0",
          "state": {
            "_dom_classes": [],
            "_model_module": "@jupyter-widgets/controls",
            "_model_module_version": "1.5.0",
            "_model_name": "LabelModel",
            "_view_count": null,
            "_view_module": "@jupyter-widgets/controls",
            "_view_module_version": "1.5.0",
            "_view_name": "LabelView",
            "description": "",
            "description_tooltip": null,
            "layout": "IPY_MODEL_c3255ff98d8b479caa8b63ed4bb97b01",
            "placeholder": "​",
            "style": "IPY_MODEL_cc6d5c632e6f4ec7ba9fda7d48fca13b",
            "value": "903.867 MB of 903.867 MB uploaded (0.000 MB deduped)\r"
          }
        },
        "7b77e420203a4f5eb08d1876e89849f0": {
          "model_module": "@jupyter-widgets/controls",
          "model_name": "FloatProgressModel",
          "model_module_version": "1.5.0",
          "state": {
            "_dom_classes": [],
            "_model_module": "@jupyter-widgets/controls",
            "_model_module_version": "1.5.0",
            "_model_name": "FloatProgressModel",
            "_view_count": null,
            "_view_module": "@jupyter-widgets/controls",
            "_view_module_version": "1.5.0",
            "_view_name": "ProgressView",
            "bar_style": "",
            "description": "",
            "description_tooltip": null,
            "layout": "IPY_MODEL_65f6b5057f2545a694abc03bad16cda6",
            "max": 1,
            "min": 0,
            "orientation": "horizontal",
            "style": "IPY_MODEL_2c6240d3bbec4c0e8517ed0ed1b88940",
            "value": 1
          }
        },
        "1043ce7cdc56436e8b8f49e10a69d880": {
          "model_module": "@jupyter-widgets/base",
          "model_name": "LayoutModel",
          "model_module_version": "1.2.0",
          "state": {
            "_model_module": "@jupyter-widgets/base",
            "_model_module_version": "1.2.0",
            "_model_name": "LayoutModel",
            "_view_count": null,
            "_view_module": "@jupyter-widgets/base",
            "_view_module_version": "1.2.0",
            "_view_name": "LayoutView",
            "align_content": null,
            "align_items": null,
            "align_self": null,
            "border": null,
            "bottom": null,
            "display": null,
            "flex": null,
            "flex_flow": null,
            "grid_area": null,
            "grid_auto_columns": null,
            "grid_auto_flow": null,
            "grid_auto_rows": null,
            "grid_column": null,
            "grid_gap": null,
            "grid_row": null,
            "grid_template_areas": null,
            "grid_template_columns": null,
            "grid_template_rows": null,
            "height": null,
            "justify_content": null,
            "justify_items": null,
            "left": null,
            "margin": null,
            "max_height": null,
            "max_width": null,
            "min_height": null,
            "min_width": null,
            "object_fit": null,
            "object_position": null,
            "order": null,
            "overflow": null,
            "overflow_x": null,
            "overflow_y": null,
            "padding": null,
            "right": null,
            "top": null,
            "visibility": null,
            "width": null
          }
        },
        "c3255ff98d8b479caa8b63ed4bb97b01": {
          "model_module": "@jupyter-widgets/base",
          "model_name": "LayoutModel",
          "model_module_version": "1.2.0",
          "state": {
            "_model_module": "@jupyter-widgets/base",
            "_model_module_version": "1.2.0",
            "_model_name": "LayoutModel",
            "_view_count": null,
            "_view_module": "@jupyter-widgets/base",
            "_view_module_version": "1.2.0",
            "_view_name": "LayoutView",
            "align_content": null,
            "align_items": null,
            "align_self": null,
            "border": null,
            "bottom": null,
            "display": null,
            "flex": null,
            "flex_flow": null,
            "grid_area": null,
            "grid_auto_columns": null,
            "grid_auto_flow": null,
            "grid_auto_rows": null,
            "grid_column": null,
            "grid_gap": null,
            "grid_row": null,
            "grid_template_areas": null,
            "grid_template_columns": null,
            "grid_template_rows": null,
            "height": null,
            "justify_content": null,
            "justify_items": null,
            "left": null,
            "margin": null,
            "max_height": null,
            "max_width": null,
            "min_height": null,
            "min_width": null,
            "object_fit": null,
            "object_position": null,
            "order": null,
            "overflow": null,
            "overflow_x": null,
            "overflow_y": null,
            "padding": null,
            "right": null,
            "top": null,
            "visibility": null,
            "width": null
          }
        },
        "cc6d5c632e6f4ec7ba9fda7d48fca13b": {
          "model_module": "@jupyter-widgets/controls",
          "model_name": "DescriptionStyleModel",
          "model_module_version": "1.5.0",
          "state": {
            "_model_module": "@jupyter-widgets/controls",
            "_model_module_version": "1.5.0",
            "_model_name": "DescriptionStyleModel",
            "_view_count": null,
            "_view_module": "@jupyter-widgets/base",
            "_view_module_version": "1.2.0",
            "_view_name": "StyleView",
            "description_width": ""
          }
        },
        "65f6b5057f2545a694abc03bad16cda6": {
          "model_module": "@jupyter-widgets/base",
          "model_name": "LayoutModel",
          "model_module_version": "1.2.0",
          "state": {
            "_model_module": "@jupyter-widgets/base",
            "_model_module_version": "1.2.0",
            "_model_name": "LayoutModel",
            "_view_count": null,
            "_view_module": "@jupyter-widgets/base",
            "_view_module_version": "1.2.0",
            "_view_name": "LayoutView",
            "align_content": null,
            "align_items": null,
            "align_self": null,
            "border": null,
            "bottom": null,
            "display": null,
            "flex": null,
            "flex_flow": null,
            "grid_area": null,
            "grid_auto_columns": null,
            "grid_auto_flow": null,
            "grid_auto_rows": null,
            "grid_column": null,
            "grid_gap": null,
            "grid_row": null,
            "grid_template_areas": null,
            "grid_template_columns": null,
            "grid_template_rows": null,
            "height": null,
            "justify_content": null,
            "justify_items": null,
            "left": null,
            "margin": null,
            "max_height": null,
            "max_width": null,
            "min_height": null,
            "min_width": null,
            "object_fit": null,
            "object_position": null,
            "order": null,
            "overflow": null,
            "overflow_x": null,
            "overflow_y": null,
            "padding": null,
            "right": null,
            "top": null,
            "visibility": null,
            "width": null
          }
        },
        "2c6240d3bbec4c0e8517ed0ed1b88940": {
          "model_module": "@jupyter-widgets/controls",
          "model_name": "ProgressStyleModel",
          "model_module_version": "1.5.0",
          "state": {
            "_model_module": "@jupyter-widgets/controls",
            "_model_module_version": "1.5.0",
            "_model_name": "ProgressStyleModel",
            "_view_count": null,
            "_view_module": "@jupyter-widgets/base",
            "_view_module_version": "1.2.0",
            "_view_name": "StyleView",
            "bar_color": null,
            "description_width": ""
          }
        },
        "9765eb1bf89748a8870308cdeae1fd4b": {
          "model_module": "@jupyter-widgets/controls",
          "model_name": "VBoxModel",
          "model_module_version": "1.5.0",
          "state": {
            "_dom_classes": [],
            "_model_module": "@jupyter-widgets/controls",
            "_model_module_version": "1.5.0",
            "_model_name": "VBoxModel",
            "_view_count": null,
            "_view_module": "@jupyter-widgets/controls",
            "_view_module_version": "1.5.0",
            "_view_name": "VBoxView",
            "box_style": "",
            "children": [
              "IPY_MODEL_c1d55909e2294f74a8b2f1cab8246001",
              "IPY_MODEL_77dc61fad2894f0daaea3740f32bc5bc"
            ],
            "layout": "IPY_MODEL_049eb952a9ee43038820a75e10529473"
          }
        },
        "c1d55909e2294f74a8b2f1cab8246001": {
          "model_module": "@jupyter-widgets/controls",
          "model_name": "LabelModel",
          "model_module_version": "1.5.0",
          "state": {
            "_dom_classes": [],
            "_model_module": "@jupyter-widgets/controls",
            "_model_module_version": "1.5.0",
            "_model_name": "LabelModel",
            "_view_count": null,
            "_view_module": "@jupyter-widgets/controls",
            "_view_module_version": "1.5.0",
            "_view_name": "LabelView",
            "description": "",
            "description_tooltip": null,
            "layout": "IPY_MODEL_e9338c17637340849ca4aa43e5cd2bd6",
            "placeholder": "​",
            "style": "IPY_MODEL_cc2c3335ce1a4b1f8fa35e33ee13303b",
            "value": "519.834 MB of 519.834 MB uploaded (0.000 MB deduped)\r"
          }
        },
        "77dc61fad2894f0daaea3740f32bc5bc": {
          "model_module": "@jupyter-widgets/controls",
          "model_name": "FloatProgressModel",
          "model_module_version": "1.5.0",
          "state": {
            "_dom_classes": [],
            "_model_module": "@jupyter-widgets/controls",
            "_model_module_version": "1.5.0",
            "_model_name": "FloatProgressModel",
            "_view_count": null,
            "_view_module": "@jupyter-widgets/controls",
            "_view_module_version": "1.5.0",
            "_view_name": "ProgressView",
            "bar_style": "",
            "description": "",
            "description_tooltip": null,
            "layout": "IPY_MODEL_012600f7911e4f35ab56eabd09399e26",
            "max": 1,
            "min": 0,
            "orientation": "horizontal",
            "style": "IPY_MODEL_0a27ff5bf294406aacf69af3cf61e81c",
            "value": 1
          }
        },
        "049eb952a9ee43038820a75e10529473": {
          "model_module": "@jupyter-widgets/base",
          "model_name": "LayoutModel",
          "model_module_version": "1.2.0",
          "state": {
            "_model_module": "@jupyter-widgets/base",
            "_model_module_version": "1.2.0",
            "_model_name": "LayoutModel",
            "_view_count": null,
            "_view_module": "@jupyter-widgets/base",
            "_view_module_version": "1.2.0",
            "_view_name": "LayoutView",
            "align_content": null,
            "align_items": null,
            "align_self": null,
            "border": null,
            "bottom": null,
            "display": null,
            "flex": null,
            "flex_flow": null,
            "grid_area": null,
            "grid_auto_columns": null,
            "grid_auto_flow": null,
            "grid_auto_rows": null,
            "grid_column": null,
            "grid_gap": null,
            "grid_row": null,
            "grid_template_areas": null,
            "grid_template_columns": null,
            "grid_template_rows": null,
            "height": null,
            "justify_content": null,
            "justify_items": null,
            "left": null,
            "margin": null,
            "max_height": null,
            "max_width": null,
            "min_height": null,
            "min_width": null,
            "object_fit": null,
            "object_position": null,
            "order": null,
            "overflow": null,
            "overflow_x": null,
            "overflow_y": null,
            "padding": null,
            "right": null,
            "top": null,
            "visibility": null,
            "width": null
          }
        },
        "e9338c17637340849ca4aa43e5cd2bd6": {
          "model_module": "@jupyter-widgets/base",
          "model_name": "LayoutModel",
          "model_module_version": "1.2.0",
          "state": {
            "_model_module": "@jupyter-widgets/base",
            "_model_module_version": "1.2.0",
            "_model_name": "LayoutModel",
            "_view_count": null,
            "_view_module": "@jupyter-widgets/base",
            "_view_module_version": "1.2.0",
            "_view_name": "LayoutView",
            "align_content": null,
            "align_items": null,
            "align_self": null,
            "border": null,
            "bottom": null,
            "display": null,
            "flex": null,
            "flex_flow": null,
            "grid_area": null,
            "grid_auto_columns": null,
            "grid_auto_flow": null,
            "grid_auto_rows": null,
            "grid_column": null,
            "grid_gap": null,
            "grid_row": null,
            "grid_template_areas": null,
            "grid_template_columns": null,
            "grid_template_rows": null,
            "height": null,
            "justify_content": null,
            "justify_items": null,
            "left": null,
            "margin": null,
            "max_height": null,
            "max_width": null,
            "min_height": null,
            "min_width": null,
            "object_fit": null,
            "object_position": null,
            "order": null,
            "overflow": null,
            "overflow_x": null,
            "overflow_y": null,
            "padding": null,
            "right": null,
            "top": null,
            "visibility": null,
            "width": null
          }
        },
        "cc2c3335ce1a4b1f8fa35e33ee13303b": {
          "model_module": "@jupyter-widgets/controls",
          "model_name": "DescriptionStyleModel",
          "model_module_version": "1.5.0",
          "state": {
            "_model_module": "@jupyter-widgets/controls",
            "_model_module_version": "1.5.0",
            "_model_name": "DescriptionStyleModel",
            "_view_count": null,
            "_view_module": "@jupyter-widgets/base",
            "_view_module_version": "1.2.0",
            "_view_name": "StyleView",
            "description_width": ""
          }
        },
        "012600f7911e4f35ab56eabd09399e26": {
          "model_module": "@jupyter-widgets/base",
          "model_name": "LayoutModel",
          "model_module_version": "1.2.0",
          "state": {
            "_model_module": "@jupyter-widgets/base",
            "_model_module_version": "1.2.0",
            "_model_name": "LayoutModel",
            "_view_count": null,
            "_view_module": "@jupyter-widgets/base",
            "_view_module_version": "1.2.0",
            "_view_name": "LayoutView",
            "align_content": null,
            "align_items": null,
            "align_self": null,
            "border": null,
            "bottom": null,
            "display": null,
            "flex": null,
            "flex_flow": null,
            "grid_area": null,
            "grid_auto_columns": null,
            "grid_auto_flow": null,
            "grid_auto_rows": null,
            "grid_column": null,
            "grid_gap": null,
            "grid_row": null,
            "grid_template_areas": null,
            "grid_template_columns": null,
            "grid_template_rows": null,
            "height": null,
            "justify_content": null,
            "justify_items": null,
            "left": null,
            "margin": null,
            "max_height": null,
            "max_width": null,
            "min_height": null,
            "min_width": null,
            "object_fit": null,
            "object_position": null,
            "order": null,
            "overflow": null,
            "overflow_x": null,
            "overflow_y": null,
            "padding": null,
            "right": null,
            "top": null,
            "visibility": null,
            "width": null
          }
        },
        "0a27ff5bf294406aacf69af3cf61e81c": {
          "model_module": "@jupyter-widgets/controls",
          "model_name": "ProgressStyleModel",
          "model_module_version": "1.5.0",
          "state": {
            "_model_module": "@jupyter-widgets/controls",
            "_model_module_version": "1.5.0",
            "_model_name": "ProgressStyleModel",
            "_view_count": null,
            "_view_module": "@jupyter-widgets/base",
            "_view_module_version": "1.2.0",
            "_view_name": "StyleView",
            "bar_color": null,
            "description_width": ""
          }
        },
        "e5982c14cc324c3fb23cb2793ca53104": {
          "model_module": "@jupyter-widgets/controls",
          "model_name": "VBoxModel",
          "model_module_version": "1.5.0",
          "state": {
            "_dom_classes": [],
            "_model_module": "@jupyter-widgets/controls",
            "_model_module_version": "1.5.0",
            "_model_name": "VBoxModel",
            "_view_count": null,
            "_view_module": "@jupyter-widgets/controls",
            "_view_module_version": "1.5.0",
            "_view_name": "VBoxView",
            "box_style": "",
            "children": [
              "IPY_MODEL_73687bf6ce1840cb922cc552c50f691f",
              "IPY_MODEL_44d7750ea6ba46cab25a45bbac4c455a"
            ],
            "layout": "IPY_MODEL_c3a7ba23cd9840b0a809884bb4a50707"
          }
        },
        "73687bf6ce1840cb922cc552c50f691f": {
          "model_module": "@jupyter-widgets/controls",
          "model_name": "LabelModel",
          "model_module_version": "1.5.0",
          "state": {
            "_dom_classes": [],
            "_model_module": "@jupyter-widgets/controls",
            "_model_module_version": "1.5.0",
            "_model_name": "LabelModel",
            "_view_count": null,
            "_view_module": "@jupyter-widgets/controls",
            "_view_module_version": "1.5.0",
            "_view_name": "LabelView",
            "description": "",
            "description_tooltip": null,
            "layout": "IPY_MODEL_a94ca4e1174643f6962264087a7d3de3",
            "placeholder": "​",
            "style": "IPY_MODEL_0bd0b49cdb794a09aa06f2d148b021bf",
            "value": "903.867 MB of 903.867 MB uploaded (0.000 MB deduped)\r"
          }
        },
        "44d7750ea6ba46cab25a45bbac4c455a": {
          "model_module": "@jupyter-widgets/controls",
          "model_name": "FloatProgressModel",
          "model_module_version": "1.5.0",
          "state": {
            "_dom_classes": [],
            "_model_module": "@jupyter-widgets/controls",
            "_model_module_version": "1.5.0",
            "_model_name": "FloatProgressModel",
            "_view_count": null,
            "_view_module": "@jupyter-widgets/controls",
            "_view_module_version": "1.5.0",
            "_view_name": "ProgressView",
            "bar_style": "",
            "description": "",
            "description_tooltip": null,
            "layout": "IPY_MODEL_047578f3da06475fb00a51ee6ba3dd28",
            "max": 1,
            "min": 0,
            "orientation": "horizontal",
            "style": "IPY_MODEL_c979698d8cb349ad8504c00984976940",
            "value": 1
          }
        },
        "c3a7ba23cd9840b0a809884bb4a50707": {
          "model_module": "@jupyter-widgets/base",
          "model_name": "LayoutModel",
          "model_module_version": "1.2.0",
          "state": {
            "_model_module": "@jupyter-widgets/base",
            "_model_module_version": "1.2.0",
            "_model_name": "LayoutModel",
            "_view_count": null,
            "_view_module": "@jupyter-widgets/base",
            "_view_module_version": "1.2.0",
            "_view_name": "LayoutView",
            "align_content": null,
            "align_items": null,
            "align_self": null,
            "border": null,
            "bottom": null,
            "display": null,
            "flex": null,
            "flex_flow": null,
            "grid_area": null,
            "grid_auto_columns": null,
            "grid_auto_flow": null,
            "grid_auto_rows": null,
            "grid_column": null,
            "grid_gap": null,
            "grid_row": null,
            "grid_template_areas": null,
            "grid_template_columns": null,
            "grid_template_rows": null,
            "height": null,
            "justify_content": null,
            "justify_items": null,
            "left": null,
            "margin": null,
            "max_height": null,
            "max_width": null,
            "min_height": null,
            "min_width": null,
            "object_fit": null,
            "object_position": null,
            "order": null,
            "overflow": null,
            "overflow_x": null,
            "overflow_y": null,
            "padding": null,
            "right": null,
            "top": null,
            "visibility": null,
            "width": null
          }
        },
        "a94ca4e1174643f6962264087a7d3de3": {
          "model_module": "@jupyter-widgets/base",
          "model_name": "LayoutModel",
          "model_module_version": "1.2.0",
          "state": {
            "_model_module": "@jupyter-widgets/base",
            "_model_module_version": "1.2.0",
            "_model_name": "LayoutModel",
            "_view_count": null,
            "_view_module": "@jupyter-widgets/base",
            "_view_module_version": "1.2.0",
            "_view_name": "LayoutView",
            "align_content": null,
            "align_items": null,
            "align_self": null,
            "border": null,
            "bottom": null,
            "display": null,
            "flex": null,
            "flex_flow": null,
            "grid_area": null,
            "grid_auto_columns": null,
            "grid_auto_flow": null,
            "grid_auto_rows": null,
            "grid_column": null,
            "grid_gap": null,
            "grid_row": null,
            "grid_template_areas": null,
            "grid_template_columns": null,
            "grid_template_rows": null,
            "height": null,
            "justify_content": null,
            "justify_items": null,
            "left": null,
            "margin": null,
            "max_height": null,
            "max_width": null,
            "min_height": null,
            "min_width": null,
            "object_fit": null,
            "object_position": null,
            "order": null,
            "overflow": null,
            "overflow_x": null,
            "overflow_y": null,
            "padding": null,
            "right": null,
            "top": null,
            "visibility": null,
            "width": null
          }
        },
        "0bd0b49cdb794a09aa06f2d148b021bf": {
          "model_module": "@jupyter-widgets/controls",
          "model_name": "DescriptionStyleModel",
          "model_module_version": "1.5.0",
          "state": {
            "_model_module": "@jupyter-widgets/controls",
            "_model_module_version": "1.5.0",
            "_model_name": "DescriptionStyleModel",
            "_view_count": null,
            "_view_module": "@jupyter-widgets/base",
            "_view_module_version": "1.2.0",
            "_view_name": "StyleView",
            "description_width": ""
          }
        },
        "047578f3da06475fb00a51ee6ba3dd28": {
          "model_module": "@jupyter-widgets/base",
          "model_name": "LayoutModel",
          "model_module_version": "1.2.0",
          "state": {
            "_model_module": "@jupyter-widgets/base",
            "_model_module_version": "1.2.0",
            "_model_name": "LayoutModel",
            "_view_count": null,
            "_view_module": "@jupyter-widgets/base",
            "_view_module_version": "1.2.0",
            "_view_name": "LayoutView",
            "align_content": null,
            "align_items": null,
            "align_self": null,
            "border": null,
            "bottom": null,
            "display": null,
            "flex": null,
            "flex_flow": null,
            "grid_area": null,
            "grid_auto_columns": null,
            "grid_auto_flow": null,
            "grid_auto_rows": null,
            "grid_column": null,
            "grid_gap": null,
            "grid_row": null,
            "grid_template_areas": null,
            "grid_template_columns": null,
            "grid_template_rows": null,
            "height": null,
            "justify_content": null,
            "justify_items": null,
            "left": null,
            "margin": null,
            "max_height": null,
            "max_width": null,
            "min_height": null,
            "min_width": null,
            "object_fit": null,
            "object_position": null,
            "order": null,
            "overflow": null,
            "overflow_x": null,
            "overflow_y": null,
            "padding": null,
            "right": null,
            "top": null,
            "visibility": null,
            "width": null
          }
        },
        "c979698d8cb349ad8504c00984976940": {
          "model_module": "@jupyter-widgets/controls",
          "model_name": "ProgressStyleModel",
          "model_module_version": "1.5.0",
          "state": {
            "_model_module": "@jupyter-widgets/controls",
            "_model_module_version": "1.5.0",
            "_model_name": "ProgressStyleModel",
            "_view_count": null,
            "_view_module": "@jupyter-widgets/base",
            "_view_module_version": "1.2.0",
            "_view_name": "StyleView",
            "bar_color": null,
            "description_width": ""
          }
        },
        "3f4c5c69771b4992976edee777cf973e": {
          "model_module": "@jupyter-widgets/controls",
          "model_name": "VBoxModel",
          "model_module_version": "1.5.0",
          "state": {
            "_dom_classes": [],
            "_model_module": "@jupyter-widgets/controls",
            "_model_module_version": "1.5.0",
            "_model_name": "VBoxModel",
            "_view_count": null,
            "_view_module": "@jupyter-widgets/controls",
            "_view_module_version": "1.5.0",
            "_view_name": "VBoxView",
            "box_style": "",
            "children": [
              "IPY_MODEL_77904fcf6ba441e2a6fde3db47158c48",
              "IPY_MODEL_01617477fd634ac390fc87cd24bd0968"
            ],
            "layout": "IPY_MODEL_725d264a639e41d0b429f691669d5620"
          }
        },
        "77904fcf6ba441e2a6fde3db47158c48": {
          "model_module": "@jupyter-widgets/controls",
          "model_name": "LabelModel",
          "model_module_version": "1.5.0",
          "state": {
            "_dom_classes": [],
            "_model_module": "@jupyter-widgets/controls",
            "_model_module_version": "1.5.0",
            "_model_name": "LabelModel",
            "_view_count": null,
            "_view_module": "@jupyter-widgets/controls",
            "_view_module_version": "1.5.0",
            "_view_name": "LabelView",
            "description": "",
            "description_tooltip": null,
            "layout": "IPY_MODEL_6c6cabb29aac460b9c83b2ae81e1c7c2",
            "placeholder": "​",
            "style": "IPY_MODEL_1786ebf1fea54368a2acef114a609f5d",
            "value": "903.867 MB of 903.867 MB uploaded (0.000 MB deduped)\r"
          }
        },
        "01617477fd634ac390fc87cd24bd0968": {
          "model_module": "@jupyter-widgets/controls",
          "model_name": "FloatProgressModel",
          "model_module_version": "1.5.0",
          "state": {
            "_dom_classes": [],
            "_model_module": "@jupyter-widgets/controls",
            "_model_module_version": "1.5.0",
            "_model_name": "FloatProgressModel",
            "_view_count": null,
            "_view_module": "@jupyter-widgets/controls",
            "_view_module_version": "1.5.0",
            "_view_name": "ProgressView",
            "bar_style": "",
            "description": "",
            "description_tooltip": null,
            "layout": "IPY_MODEL_24a3debd467c4a24a95599b2ab617400",
            "max": 1,
            "min": 0,
            "orientation": "horizontal",
            "style": "IPY_MODEL_f1e70af5e58d4defaac1404e3164919b",
            "value": 1
          }
        },
        "725d264a639e41d0b429f691669d5620": {
          "model_module": "@jupyter-widgets/base",
          "model_name": "LayoutModel",
          "model_module_version": "1.2.0",
          "state": {
            "_model_module": "@jupyter-widgets/base",
            "_model_module_version": "1.2.0",
            "_model_name": "LayoutModel",
            "_view_count": null,
            "_view_module": "@jupyter-widgets/base",
            "_view_module_version": "1.2.0",
            "_view_name": "LayoutView",
            "align_content": null,
            "align_items": null,
            "align_self": null,
            "border": null,
            "bottom": null,
            "display": null,
            "flex": null,
            "flex_flow": null,
            "grid_area": null,
            "grid_auto_columns": null,
            "grid_auto_flow": null,
            "grid_auto_rows": null,
            "grid_column": null,
            "grid_gap": null,
            "grid_row": null,
            "grid_template_areas": null,
            "grid_template_columns": null,
            "grid_template_rows": null,
            "height": null,
            "justify_content": null,
            "justify_items": null,
            "left": null,
            "margin": null,
            "max_height": null,
            "max_width": null,
            "min_height": null,
            "min_width": null,
            "object_fit": null,
            "object_position": null,
            "order": null,
            "overflow": null,
            "overflow_x": null,
            "overflow_y": null,
            "padding": null,
            "right": null,
            "top": null,
            "visibility": null,
            "width": null
          }
        },
        "6c6cabb29aac460b9c83b2ae81e1c7c2": {
          "model_module": "@jupyter-widgets/base",
          "model_name": "LayoutModel",
          "model_module_version": "1.2.0",
          "state": {
            "_model_module": "@jupyter-widgets/base",
            "_model_module_version": "1.2.0",
            "_model_name": "LayoutModel",
            "_view_count": null,
            "_view_module": "@jupyter-widgets/base",
            "_view_module_version": "1.2.0",
            "_view_name": "LayoutView",
            "align_content": null,
            "align_items": null,
            "align_self": null,
            "border": null,
            "bottom": null,
            "display": null,
            "flex": null,
            "flex_flow": null,
            "grid_area": null,
            "grid_auto_columns": null,
            "grid_auto_flow": null,
            "grid_auto_rows": null,
            "grid_column": null,
            "grid_gap": null,
            "grid_row": null,
            "grid_template_areas": null,
            "grid_template_columns": null,
            "grid_template_rows": null,
            "height": null,
            "justify_content": null,
            "justify_items": null,
            "left": null,
            "margin": null,
            "max_height": null,
            "max_width": null,
            "min_height": null,
            "min_width": null,
            "object_fit": null,
            "object_position": null,
            "order": null,
            "overflow": null,
            "overflow_x": null,
            "overflow_y": null,
            "padding": null,
            "right": null,
            "top": null,
            "visibility": null,
            "width": null
          }
        },
        "1786ebf1fea54368a2acef114a609f5d": {
          "model_module": "@jupyter-widgets/controls",
          "model_name": "DescriptionStyleModel",
          "model_module_version": "1.5.0",
          "state": {
            "_model_module": "@jupyter-widgets/controls",
            "_model_module_version": "1.5.0",
            "_model_name": "DescriptionStyleModel",
            "_view_count": null,
            "_view_module": "@jupyter-widgets/base",
            "_view_module_version": "1.2.0",
            "_view_name": "StyleView",
            "description_width": ""
          }
        },
        "24a3debd467c4a24a95599b2ab617400": {
          "model_module": "@jupyter-widgets/base",
          "model_name": "LayoutModel",
          "model_module_version": "1.2.0",
          "state": {
            "_model_module": "@jupyter-widgets/base",
            "_model_module_version": "1.2.0",
            "_model_name": "LayoutModel",
            "_view_count": null,
            "_view_module": "@jupyter-widgets/base",
            "_view_module_version": "1.2.0",
            "_view_name": "LayoutView",
            "align_content": null,
            "align_items": null,
            "align_self": null,
            "border": null,
            "bottom": null,
            "display": null,
            "flex": null,
            "flex_flow": null,
            "grid_area": null,
            "grid_auto_columns": null,
            "grid_auto_flow": null,
            "grid_auto_rows": null,
            "grid_column": null,
            "grid_gap": null,
            "grid_row": null,
            "grid_template_areas": null,
            "grid_template_columns": null,
            "grid_template_rows": null,
            "height": null,
            "justify_content": null,
            "justify_items": null,
            "left": null,
            "margin": null,
            "max_height": null,
            "max_width": null,
            "min_height": null,
            "min_width": null,
            "object_fit": null,
            "object_position": null,
            "order": null,
            "overflow": null,
            "overflow_x": null,
            "overflow_y": null,
            "padding": null,
            "right": null,
            "top": null,
            "visibility": null,
            "width": null
          }
        },
        "f1e70af5e58d4defaac1404e3164919b": {
          "model_module": "@jupyter-widgets/controls",
          "model_name": "ProgressStyleModel",
          "model_module_version": "1.5.0",
          "state": {
            "_model_module": "@jupyter-widgets/controls",
            "_model_module_version": "1.5.0",
            "_model_name": "ProgressStyleModel",
            "_view_count": null,
            "_view_module": "@jupyter-widgets/base",
            "_view_module_version": "1.2.0",
            "_view_name": "StyleView",
            "bar_color": null,
            "description_width": ""
          }
        }
      }
    }
  },
  "cells": [
    {
      "cell_type": "markdown",
      "metadata": {
        "id": "view-in-github",
        "colab_type": "text"
      },
      "source": [
        "<a href=\"https://colab.research.google.com/github/moni6264/deeplearning2/blob/main/CNN_PartB_5_.ipynb\" target=\"_parent\"><img src=\"https://colab.research.google.com/assets/colab-badge.svg\" alt=\"Open In Colab\"/></a>"
      ]
    },
    {
      "cell_type": "markdown",
      "source": [
        "**PART - B Fine-Tuning a Pre-Trained model**"
      ],
      "metadata": {
        "id": "wIYkswfOU1Av"
      }
    },
    {
      "cell_type": "markdown",
      "source": [
        "Import Google colab to drive "
      ],
      "metadata": {
        "id": "XOQFMPlwUUTV"
      }
    },
    {
      "cell_type": "code",
      "execution_count": 2,
      "metadata": {
        "colab": {
          "base_uri": "https://localhost:8080/"
        },
        "id": "e_r21VxChtR5",
        "outputId": "add07ecf-bf38-492f-ee81-0f4a1ebc8c2f"
      },
      "outputs": [
        {
          "output_type": "stream",
          "name": "stdout",
          "text": [
            "Mounted at /content/drive\n"
          ]
        }
      ],
      "source": [
        "from google.colab import drive\n",
        "drive.mount('/content/drive')"
      ]
    },
    {
      "cell_type": "markdown",
      "source": [
        "Import shutil and splitting the dataset "
      ],
      "metadata": {
        "id": "nTChDgQeVQ6C"
      }
    },
    {
      "cell_type": "code",
      "source": [
        "import shutil  # provides the ability to copy and removal of files\n",
        "import os  # provides functions for interacting with the operating system\n",
        "import random\n",
        "try:\n",
        "    shutil.rmtree(\"inaturalist_12K\")\n",
        "except:\n",
        "    pass\n",
        "\n",
        "# Unzip the natural datset     \n",
        "zip_path = \"drive/MyDrive/nature_12K.zip\"\n",
        "!cp \"{zip_path}\" .\n",
        "!unzip -q nature_12K.zip\n",
        "\n",
        "try:\n",
        "    os.remove(\"nature_12K.zip\")\n",
        "except:\n",
        "    pass\n",
        "try:\n",
        "    shutil.rmtree(\"inaturalist_12K/validation/\")\n",
        "except:\n",
        "    pass\n",
        "\n",
        "# dataset directory \n",
        "temp = os.listdir(\"inaturalist_12K/train\")\n",
        "print(\"Defining class names class names\") # print number classes in dataset\n",
        "class_names = [name for name in temp if name != \".DS_Store\"] \n",
        "\n",
        "#Spliting valdiation dataset \n",
        "validation_split = 0.1 #splitting dataset 10%\n",
        "def spliting_train_data(validation_split = 0.1):\n",
        "  os.mkdir(\"inaturalist_12K/validation/\")\n",
        "  for each_class in class_names:\n",
        "      os.mkdir(\"inaturalist_12K/validation/\"+each_class)\n",
        "      train_images = os.listdir(\"inaturalist_12K/train/\"+each_class)\n",
        "      train_images_per_class = list(train_images)\n",
        "      print(len(train_images_per_class))\n",
        "      random.shuffle(train_images_per_class) # Shuffle the training images\n",
        "\n",
        "      validation_images_per_class = train_images_per_class[:round(validation_split*len(train_images_per_class))]\n",
        "      print(len(validation_images_per_class))\n",
        "\n",
        "      for im in validation_images_per_class:\n",
        "          shutil.move(\"inaturalist_12K/train/\"+each_class+\"/\"+im, \"inaturalist_12K/validation/\"+each_class+\"/\"+im)\n",
        "spliting_train_data(validation_split)"
      ],
      "metadata": {
        "id": "8-91XS9fi_e9",
        "colab": {
          "base_uri": "https://localhost:8080/"
        },
        "outputId": "2bdeecb8-82e6-4e6d-9e28-cbfacdaf3bac"
      },
      "execution_count": 3,
      "outputs": [
        {
          "output_type": "stream",
          "name": "stdout",
          "text": [
            "Defining class names class names\n",
            "1000\n",
            "100\n",
            "1000\n",
            "100\n",
            "1000\n",
            "100\n",
            "1000\n",
            "100\n",
            "1000\n",
            "100\n",
            "1000\n",
            "100\n",
            "1000\n",
            "100\n",
            "1000\n",
            "100\n",
            "1000\n",
            "100\n",
            "1000\n",
            "100\n"
          ]
        }
      ]
    },
    {
      "cell_type": "markdown",
      "source": [
        "Exploring the Data"
      ],
      "metadata": {
        "id": "WQVhzYffXYya"
      }
    },
    {
      "cell_type": "code",
      "source": [
        "train = 0\n",
        "val = 0\n",
        "test = 0\n",
        "\n",
        "for each_class in class_names:\n",
        "      train_images = os.listdir(\"inaturalist_12K/train/\"+each_class)\n",
        "      train+=len(list(train_images))\n",
        "\n",
        "      validation_images = os.listdir(\"inaturalist_12K/validation/\"+each_class)\n",
        "      \n",
        "      val+=len(list(validation_images))\n",
        "\n",
        "      test_images = os.listdir(\"inaturalist_12K/val/\"+each_class)\n",
        "      \n",
        "      test+=len(list(test_images))\n",
        " # print training validation test      \n",
        "print(\"training\" , train)\n",
        "print(\"validation Examples = \", val)\n",
        "print(\"test examples = \", test)"
      ],
      "metadata": {
        "id": "kqYnlBbrAfHH",
        "colab": {
          "base_uri": "https://localhost:8080/"
        },
        "outputId": "a12c92c1-c687-4f8c-f802-4b924c356cf0"
      },
      "execution_count": 4,
      "outputs": [
        {
          "output_type": "stream",
          "name": "stdout",
          "text": [
            "training 9000\n",
            "validation Examples =  1000\n",
            "test examples =  2000\n"
          ]
        }
      ]
    },
    {
      "cell_type": "markdown",
      "source": [
        "Import required libriaries for pre trained module "
      ],
      "metadata": {
        "id": "O4nfbgpxXqfU"
      }
    },
    {
      "cell_type": "code",
      "source": [
        "import os  \n",
        "import glob\n",
        "import numpy as np\n",
        "import tensorflow as tf\n",
        "from tensorflow import keras\n",
        "from keras.preprocessing.image import ImageDataGenerator\n",
        "from keras.models import Sequential, Model\n",
        "from tensorflow.keras.optimizers import Adam\n",
        "from keras.layers import Dense, Flatten, Conv2D, MaxPooling2D, Activation, Dropout, BatchNormalization\n",
        "\n",
        "\n",
        "# implement weights and biases \n",
        "\n",
        "!pip install wandb\n",
        "import wandb\n",
        "from keras.callbacks import EarlyStopping, ModelCheckpoint\n",
        "from wandb.keras import WandbCallback\n",
        "from keras.utils.vis_utils import plot_model\n",
        "from PIL import Image\n",
        "# image plotting \n",
        "%matplotlib inline\n",
        "%config InlineBackend.figure_format = 'svg'\n",
        "import matplotlib.pyplot as plt\n",
        "import matplotlib.image as mpimg"
      ],
      "metadata": {
        "colab": {
          "base_uri": "https://localhost:8080/"
        },
        "id": "jfaDSZlTi_hj",
        "outputId": "60cb8590-fe7f-46e0-ef8a-478850fbb990"
      },
      "execution_count": 5,
      "outputs": [
        {
          "output_type": "stream",
          "name": "stdout",
          "text": [
            "Collecting wandb\n",
            "  Downloading wandb-0.12.11-py2.py3-none-any.whl (1.7 MB)\n",
            "\u001b[K     |████████████████████████████████| 1.7 MB 5.3 MB/s \n",
            "\u001b[?25hCollecting sentry-sdk>=1.0.0\n",
            "  Downloading sentry_sdk-1.5.8-py2.py3-none-any.whl (144 kB)\n",
            "\u001b[K     |████████████████████████████████| 144 kB 37.9 MB/s \n",
            "\u001b[?25hRequirement already satisfied: python-dateutil>=2.6.1 in /usr/local/lib/python3.7/dist-packages (from wandb) (2.8.2)\n",
            "Collecting docker-pycreds>=0.4.0\n",
            "  Downloading docker_pycreds-0.4.0-py2.py3-none-any.whl (9.0 kB)\n",
            "Requirement already satisfied: psutil>=5.0.0 in /usr/local/lib/python3.7/dist-packages (from wandb) (5.4.8)\n",
            "Collecting yaspin>=1.0.0\n",
            "  Downloading yaspin-2.1.0-py3-none-any.whl (18 kB)\n",
            "Collecting GitPython>=1.0.0\n",
            "  Downloading GitPython-3.1.27-py3-none-any.whl (181 kB)\n",
            "\u001b[K     |████████████████████████████████| 181 kB 43.9 MB/s \n",
            "\u001b[?25hRequirement already satisfied: protobuf>=3.12.0 in /usr/local/lib/python3.7/dist-packages (from wandb) (3.17.3)\n",
            "Collecting pathtools\n",
            "  Downloading pathtools-0.1.2.tar.gz (11 kB)\n",
            "Requirement already satisfied: six>=1.13.0 in /usr/local/lib/python3.7/dist-packages (from wandb) (1.15.0)\n",
            "Requirement already satisfied: PyYAML in /usr/local/lib/python3.7/dist-packages (from wandb) (3.13)\n",
            "Collecting setproctitle\n",
            "  Downloading setproctitle-1.2.2-cp37-cp37m-manylinux1_x86_64.whl (36 kB)\n",
            "Collecting shortuuid>=0.5.0\n",
            "  Downloading shortuuid-1.0.8-py3-none-any.whl (9.5 kB)\n",
            "Requirement already satisfied: promise<3,>=2.0 in /usr/local/lib/python3.7/dist-packages (from wandb) (2.3)\n",
            "Requirement already satisfied: requests<3,>=2.0.0 in /usr/local/lib/python3.7/dist-packages (from wandb) (2.23.0)\n",
            "Requirement already satisfied: Click!=8.0.0,>=7.0 in /usr/local/lib/python3.7/dist-packages (from wandb) (7.1.2)\n",
            "Collecting gitdb<5,>=4.0.1\n",
            "  Downloading gitdb-4.0.9-py3-none-any.whl (63 kB)\n",
            "\u001b[K     |████████████████████████████████| 63 kB 1.7 MB/s \n",
            "\u001b[?25hRequirement already satisfied: typing-extensions>=3.7.4.3 in /usr/local/lib/python3.7/dist-packages (from GitPython>=1.0.0->wandb) (3.10.0.2)\n",
            "Collecting smmap<6,>=3.0.1\n",
            "  Downloading smmap-5.0.0-py3-none-any.whl (24 kB)\n",
            "Requirement already satisfied: idna<3,>=2.5 in /usr/local/lib/python3.7/dist-packages (from requests<3,>=2.0.0->wandb) (2.10)\n",
            "Requirement already satisfied: urllib3!=1.25.0,!=1.25.1,<1.26,>=1.21.1 in /usr/local/lib/python3.7/dist-packages (from requests<3,>=2.0.0->wandb) (1.24.3)\n",
            "Requirement already satisfied: certifi>=2017.4.17 in /usr/local/lib/python3.7/dist-packages (from requests<3,>=2.0.0->wandb) (2021.10.8)\n",
            "Requirement already satisfied: chardet<4,>=3.0.2 in /usr/local/lib/python3.7/dist-packages (from requests<3,>=2.0.0->wandb) (3.0.4)\n",
            "Requirement already satisfied: termcolor<2.0.0,>=1.1.0 in /usr/local/lib/python3.7/dist-packages (from yaspin>=1.0.0->wandb) (1.1.0)\n",
            "Building wheels for collected packages: pathtools\n",
            "  Building wheel for pathtools (setup.py) ... \u001b[?25l\u001b[?25hdone\n",
            "  Created wheel for pathtools: filename=pathtools-0.1.2-py3-none-any.whl size=8806 sha256=5b2d690cd865fe2733d11d0f314cb3b28fa2b6031ffc0a4e04c3d7fdc691b758\n",
            "  Stored in directory: /root/.cache/pip/wheels/3e/31/09/fa59cef12cdcfecc627b3d24273699f390e71828921b2cbba2\n",
            "Successfully built pathtools\n",
            "Installing collected packages: smmap, gitdb, yaspin, shortuuid, setproctitle, sentry-sdk, pathtools, GitPython, docker-pycreds, wandb\n",
            "Successfully installed GitPython-3.1.27 docker-pycreds-0.4.0 gitdb-4.0.9 pathtools-0.1.2 sentry-sdk-1.5.8 setproctitle-1.2.2 shortuuid-1.0.8 smmap-5.0.0 wandb-0.12.11 yaspin-2.1.0\n"
          ]
        }
      ]
    },
    {
      "cell_type": "markdown",
      "source": [
        "Setup the Train Test and Validation generators\n"
      ],
      "metadata": {
        "id": "wRmD-pv_X2-o"
      }
    },
    {
      "cell_type": "code",
      "source": [
        "data_dir = \"inaturalist_12K\"\n",
        "#data_augmentation = True\n",
        "# data prepartion \n",
        "def data_preparation(data_dir , data_augmentation = True , batch_size = 250):\n",
        "  train_dir = os.path.join(data_dir, \"train\")\n",
        "  val_dir = os.path.join(data_dir, \"validation\")\n",
        "  test_dir = os.path.join(data_dir, \"val\")\n",
        "  if data_augmentation == True:\n",
        "    train_datagen = ImageDataGenerator(rescale=1./255,\n",
        "                                      height_shift_range=0.2,\n",
        "                                      width_shift_range=0.2,\n",
        "                                      horizontal_flip=True,\n",
        "                                      zoom_range=0.2,\n",
        "                                      fill_mode=\"nearest\")\n",
        "  else:\n",
        "      train_datagen = ImageDataGenerator(rescale=1./255)\n",
        "  val_datagen = ImageDataGenerator(rescale=1./255)\n",
        "  test_datagen = ImageDataGenerator(rescale=1./255)\n",
        "\n",
        "\n",
        "  train_generator = train_datagen.flow_from_directory(\n",
        "          train_dir,\n",
        "          target_size=(256, 256),\n",
        "          shuffle=True,\n",
        "          color_mode=\"rgb\",\n",
        "          batch_size=batch_size,\n",
        "          class_mode='categorical')\n",
        "\n",
        "  val_generator = val_datagen.flow_from_directory(\n",
        "          val_dir,\n",
        "          target_size=(256, 256),\n",
        "          shuffle=True,\n",
        "          color_mode=\"rgb\",\n",
        "          batch_size=batch_size,\n",
        "          class_mode='categorical')\n",
        "  \n",
        "  test_generator = test_datagen.flow_from_directory(\n",
        "        test_dir,\n",
        "        target_size= (256, 256),\n",
        "        color_mode=\"rgb\",\n",
        "        batch_size=batch_size,\n",
        "        class_mode=None)\n",
        "\n",
        "  \n",
        "  \n",
        "  return train_generator , val_generator, test_generator\n"
      ],
      "metadata": {
        "id": "P5t4ApQDi_kD"
      },
      "execution_count": 6,
      "outputs": []
    },
    {
      "cell_type": "markdown",
      "source": [
        "Implement pre trained InceptionV3, InceptionResNetV2, ResNet50, Xception"
      ],
      "metadata": {
        "id": "T0nTOiOVX-u5"
      }
    },
    {
      "cell_type": "code",
      "source": [
        "def pretrain_model(pretrained_model_name, dropout, dense_layer, pre_layer_train=None):\n",
        "    \n",
        "  # keras sequential model based on a pre-trained model intended to be fine tuned\n",
        "  \n",
        "\n",
        "    # shape image size \n",
        "    shape = (256 ,256, 3)\n",
        "\n",
        "    # add a pretrained model without the top dense layer\n",
        "    if pretrained_model_name == 'ResNet50':\n",
        "      pretrained_model = tf.keras.applications.ResNet50(include_top=False,input_shape=shape, weights='imagenet')\n",
        "    elif pretrained_model_name == 'InceptionResNetV2':\n",
        "      pretrained_model = tf.keras.applications.InceptionResNetV2(include_top=False,input_shape= shape, weights='imagenet')\n",
        "    elif pretrained_model_name == 'InceptionV3':\n",
        "      pretrained_model = tf.keras.applications.InceptionV3(include_top=False,input_shape= shape, weights='imagenet')    \n",
        "    elif pretrained_model_name == 'Xception':\n",
        "      pretrained_model = tf.keras.applications.Xception(include_top=False,input_shape= shape, weights='imagenet')\n",
        "    else:\n",
        "      raise Exception('no pretrained model given')\n",
        "      \n",
        "    \n",
        "    #freeze all layers\n",
        "    for layer in pretrained_model.layers:\n",
        "        layer.trainable=False \n",
        "    \n",
        "    #setting  top layers as trainable\n",
        "    if pre_layer_train:\n",
        "      for layer in pretrained_model.layers[-pre_layer_train:]:\n",
        "        layer.trainable=True\n",
        "\n",
        "    model = tf.keras.models.Sequential()\n",
        "    model.add(pretrained_model)  #adding pretrained model\n",
        "    model.add(Flatten()) # flatten layer\n",
        "    model.add(Dense(dense_layer, activation= 'relu'))#adding a dense layer\n",
        "    model.add(Dropout(dropout)) # dropout\n",
        "    model.add(Dense(10, activation=\"softmax\"))#softmax layer\n",
        "# sum model \n",
        "    return model"
      ],
      "metadata": {
        "id": "0HWNp_Fzi_mV"
      },
      "execution_count": 7,
      "outputs": []
    },
    {
      "cell_type": "markdown",
      "source": [
        "Configuration wandb\n"
      ],
      "metadata": {
        "id": "A-Nqbud5YRoi"
      }
    },
    {
      "cell_type": "code",
      "source": [
        "pre_train_model = \"InceptionV3\"   #you can change model for wandb sweeps\n",
        "def train():\n",
        "    # Default values for hyper-parameters\n",
        "    config_defaults = {\n",
        "        \"data_augmentation\": True,\n",
        "        \"batch_size\": 250,\n",
        "        \"dropout\": 0.1,\n",
        "        \"dense_layer\": 256,\n",
        "        \"learning_rate\": 0.0001,\n",
        "        \"epochs\": 5,\n",
        "        \"pre_layer_train\": None,\n",
        "        \"pretrained_model_name\": 'InceptionV3'\n",
        "      \n",
        "\n",
        "    }\n",
        "\n",
        "    # Initialize a new wandb run\n",
        "    wandb.init(config=config_defaults)\n",
        "    \n",
        "    # Config is a variable that holds and saves hyperparameters \n",
        "    config = wandb.config\n",
        "\n",
        "    # Local variables obtained from wandb config\n",
        "    data_augmentation = config.data_augmentation\n",
        "    batch_size = config.batch_size\n",
        "    dropout = config.dropout\n",
        "    dense_layer = config.dense_layer\n",
        "    learning_rate = config.learning_rate\n",
        "    epochs = config.epochs\n",
        "    pre_layer_train = config.pre_layer_train\n",
        "    pretrained_model_name = config.pretrained_model_name\n",
        "    \n",
        "\n",
        "    \n",
        "   # show  the hyperparameters\n",
        "    run_name = \"pre_train_mdl_{}_aug_{}_bs_{}_ep_{}_dropout_{}_dense_{}\".format(pre_train_model, data_augmentation, batch_size,epochs, dropout, dense_layer)\n",
        "    print(run_name)\n",
        "\n",
        "    #data generators\n",
        "    train_generator , val_generator, test_generator = data_preparation(data_dir , data_augmentation = True , batch_size = 250)\n",
        "    \n",
        "    # calling the pretrained model \n",
        "    model = pretrain_model(pretrained_model_name = pretrained_model_name, dropout = dropout, dense_layer = dense_layer, pre_layer_train=pre_layer_train)\n",
        "    print(model.count_params())\n",
        "\n",
        "    # compile the model using optmizer  (adam)\n",
        "    model.compile(optimizer=Adam(learning_rate = learning_rate), loss = 'categorical_crossentropy', metrics = ['accuracy'])\n",
        "\n",
        "    # Early Stopping method \n",
        "    earlyStopping = EarlyStopping(monitor='val_loss', patience=10, verbose=0, mode='min')\n",
        "\n",
        "    # save the best validation accuracy\n",
        "    checkpoint = ModelCheckpoint('best_model.h5', monitor='val_accuracy', mode='max', verbose=0, save_best_only=True)\n",
        "\n",
        "# model fit \n",
        "    history = model.fit(train_generator,\n",
        "                        steps_per_epoch = train_generator.n//train_generator.batch_size,\n",
        "                        validation_data = val_generator,\n",
        "                        validation_steps = val_generator.n//val_generator.batch_size,\n",
        "                        epochs=epochs, verbose = 2, \n",
        "                        callbacks=[WandbCallback(), earlyStopping, checkpoint])\n",
        "      \n",
        "    \n",
        "\n",
        "    wandb.run.name = run_name\n",
        "    wandb.run.save()\n",
        "    wandb.run.finish()\n",
        "    return history"
      ],
      "metadata": {
        "id": "iNyI92aBo2n6"
      },
      "execution_count": 8,
      "outputs": []
    },
    {
      "cell_type": "markdown",
      "source": [
        "sweeps configuration for hyper parameters "
      ],
      "metadata": {
        "id": "6beHG2WCZI56"
      }
    },
    {
      "cell_type": "code",
      "source": [
        "\n",
        "sweep_config = {\n",
        "  \"name\": \"DL_Assignment_PartB\",\n",
        "  \"metric\": {\n",
        "      \"name\":\"val_accuracy\",\n",
        "      \"goal\": \"maximize\"\n",
        "  },\n",
        "  \"method\": \"bayes\",\n",
        "  \"parameters\": {\n",
        "        \"data_augmentation\": {\n",
        "            \"values\": [True, False]\n",
        "        },\n",
        "        \"batch_size\": {\n",
        "            \"values\": [128, 256, 512]\n",
        "        },\n",
        "        \"learning_rate\": {\n",
        "            \"values\": [0.001, 0.0001]\n",
        "        },\n",
        "        \"epochs\": {\n",
        "            \"values\": [5, 10]\n",
        "        },\n",
        "        \"dropout\": {\n",
        "            \"values\": [0, 0.2,0.4]\n",
        "        },\n",
        "        \"dense_layer\": {\n",
        "            \"values\": [128, 256, 512]\n",
        "        },\n",
        "          \"pre_layer_train\": {\n",
        "            \"values\": [None, 10, 20]\n",
        "        },\n",
        "          \"pretrained_model_name\":{\n",
        "             \"values\": ['InceptionResNetV2','ResNet50','InceptionV3','Xception'] \n",
        "          },\n",
        "\n",
        "      \n",
        "           }\n",
        "}\n",
        "\n",
        "sweep_id = \"q832m8jh\"\n",
        "wandb.agent(sweep_id,train,entity=\"moni6264\",project=\"test_part_b\",count=5)\n",
        "#sweep_id = wandb.sweep(sweep_config, entity=\"moni6264\", project=\"test_part_b\")\n",
        "#wandb.agent(sweep_id, train, count=8)"
      ],
      "metadata": {
        "colab": {
          "base_uri": "https://localhost:8080/",
          "height": 1000,
          "referenced_widgets": [
            "648b61ff7c4a492190197a8877e9fcf6",
            "ca0516e6d63e498ab961ca949f1a8e5a",
            "413c5792a0364cb9a2ab0d20e01917dd",
            "c4da9e93898244a5aca3c065a03314b7",
            "6cbb86988fc14821ba01ff40fc04cbd1",
            "2636e243c9b94e58bc68c9c5071a3d93",
            "1a108037822d4a2a9adda37c104a4081",
            "32df150ef29940608b1cf948636f35bd",
            "a21540063dd941d2b8c97c5b66381d3a",
            "fd533185a730467091b22e9848387862",
            "7b77e420203a4f5eb08d1876e89849f0",
            "1043ce7cdc56436e8b8f49e10a69d880",
            "c3255ff98d8b479caa8b63ed4bb97b01",
            "cc6d5c632e6f4ec7ba9fda7d48fca13b",
            "65f6b5057f2545a694abc03bad16cda6",
            "2c6240d3bbec4c0e8517ed0ed1b88940",
            "9765eb1bf89748a8870308cdeae1fd4b",
            "c1d55909e2294f74a8b2f1cab8246001",
            "77dc61fad2894f0daaea3740f32bc5bc",
            "049eb952a9ee43038820a75e10529473",
            "e9338c17637340849ca4aa43e5cd2bd6",
            "cc2c3335ce1a4b1f8fa35e33ee13303b",
            "012600f7911e4f35ab56eabd09399e26",
            "0a27ff5bf294406aacf69af3cf61e81c",
            "e5982c14cc324c3fb23cb2793ca53104",
            "73687bf6ce1840cb922cc552c50f691f",
            "44d7750ea6ba46cab25a45bbac4c455a",
            "c3a7ba23cd9840b0a809884bb4a50707",
            "a94ca4e1174643f6962264087a7d3de3",
            "0bd0b49cdb794a09aa06f2d148b021bf",
            "047578f3da06475fb00a51ee6ba3dd28",
            "c979698d8cb349ad8504c00984976940",
            "3f4c5c69771b4992976edee777cf973e",
            "77904fcf6ba441e2a6fde3db47158c48",
            "01617477fd634ac390fc87cd24bd0968",
            "725d264a639e41d0b429f691669d5620",
            "6c6cabb29aac460b9c83b2ae81e1c7c2",
            "1786ebf1fea54368a2acef114a609f5d",
            "24a3debd467c4a24a95599b2ab617400",
            "f1e70af5e58d4defaac1404e3164919b"
          ]
        },
        "id": "vjKhNLrmo2qd",
        "outputId": "6e92a384-8ffa-4e02-99d2-43e37e3653f2"
      },
      "execution_count": 9,
      "outputs": [
        {
          "data": {
            "application/javascript": [
              "\n",
              "        window._wandbApiKey = new Promise((resolve, reject) => {\n",
              "            function loadScript(url) {\n",
              "            return new Promise(function(resolve, reject) {\n",
              "                let newScript = document.createElement(\"script\");\n",
              "                newScript.onerror = reject;\n",
              "                newScript.onload = resolve;\n",
              "                document.body.appendChild(newScript);\n",
              "                newScript.src = url;\n",
              "            });\n",
              "            }\n",
              "            loadScript(\"https://cdn.jsdelivr.net/npm/postmate/build/postmate.min.js\").then(() => {\n",
              "            const iframe = document.createElement('iframe')\n",
              "            iframe.style.cssText = \"width:0;height:0;border:none\"\n",
              "            document.body.appendChild(iframe)\n",
              "            const handshake = new Postmate({\n",
              "                container: iframe,\n",
              "                url: 'https://wandb.ai/authorize'\n",
              "            });\n",
              "            const timeout = setTimeout(() => reject(\"Couldn't auto authenticate\"), 5000)\n",
              "            handshake.then(function(child) {\n",
              "                child.on('authorize', data => {\n",
              "                    clearTimeout(timeout)\n",
              "                    resolve(data)\n",
              "                });\n",
              "            });\n",
              "            })\n",
              "        });\n",
              "    "
            ],
            "text/plain": [
              "<IPython.core.display.Javascript object>"
            ]
          },
          "metadata": {},
          "output_type": "display_data"
        },
        {
          "metadata": {
            "tags": null
          },
          "name": "stderr",
          "output_type": "stream",
          "text": [
            "\u001b[34m\u001b[1mwandb\u001b[0m: Appending key for api.wandb.ai to your netrc file: /root/.netrc\n",
            "\u001b[34m\u001b[1mwandb\u001b[0m: Agent Starting Run: v6oac0ob with config:\n",
            "\u001b[34m\u001b[1mwandb\u001b[0m: \tbatch_size: 256\n",
            "\u001b[34m\u001b[1mwandb\u001b[0m: \tdata_augmentation: True\n",
            "\u001b[34m\u001b[1mwandb\u001b[0m: \tdense_layer: 512\n",
            "\u001b[34m\u001b[1mwandb\u001b[0m: \tdropout: 0.2\n",
            "\u001b[34m\u001b[1mwandb\u001b[0m: \tepochs: 5\n",
            "\u001b[34m\u001b[1mwandb\u001b[0m: \tlearning_rate: 0.001\n",
            "\u001b[34m\u001b[1mwandb\u001b[0m: \tpre_layer_train: 20\n",
            "\u001b[34m\u001b[1mwandb\u001b[0m: \tpretrained_model_name: InceptionResNetV2\n",
            "\u001b[34m\u001b[1mwandb\u001b[0m: Currently logged in as: \u001b[33mmoni6264\u001b[0m (use `wandb login --relogin` to force relogin)\n"
          ]
        },
        {
          "data": {
            "text/html": [
              "Tracking run with wandb version 0.12.11"
            ],
            "text/plain": [
              "<IPython.core.display.HTML object>"
            ]
          },
          "metadata": {},
          "output_type": "display_data"
        },
        {
          "data": {
            "text/html": [
              "Run data is saved locally in <code>/content/wandb/run-20220325_161606-v6oac0ob</code>"
            ],
            "text/plain": [
              "<IPython.core.display.HTML object>"
            ]
          },
          "metadata": {},
          "output_type": "display_data"
        },
        {
          "data": {
            "text/html": [
              "Syncing run <strong><a href=\"https://wandb.ai/moni6264/test_part_b/runs/v6oac0ob\" target=\"_blank\">vibrant-sweep-10</a></strong> to <a href=\"https://wandb.ai/moni6264/test_part_b\" target=\"_blank\">Weights & Biases</a> (<a href=\"https://wandb.me/run\" target=\"_blank\">docs</a>)<br/>Sweep page:  <a href=\"https://wandb.ai/moni6264/test_part_b/sweeps/q832m8jh\" target=\"_blank\">https://wandb.ai/moni6264/test_part_b/sweeps/q832m8jh</a>"
            ],
            "text/plain": [
              "<IPython.core.display.HTML object>"
            ]
          },
          "metadata": {},
          "output_type": "display_data"
        },
        {
          "metadata": {
            "tags": null
          },
          "name": "stdout",
          "output_type": "stream",
          "text": [
            "pre_train_mdl_InceptionV3_aug_True_bs_256_ep_5_dropout_0.2_dense_512\n",
            "Found 8999 images belonging to 10 classes.\n",
            "Found 1000 images belonging to 10 classes.\n",
            "Found 2000 images belonging to 10 classes.\n",
            "Downloading data from https://storage.googleapis.com/tensorflow/keras-applications/inception_resnet_v2/inception_resnet_v2_weights_tf_dim_ordering_tf_kernels_notop.h5\n",
            "219062272/219055592 [==============================] - 2s 0us/step\n",
            "219070464/219055592 [==============================] - 2s 0us/step\n",
            "82653930\n",
            "Epoch 1/5\n",
            "35/35 - 359s - loss: 5.1183 - accuracy: 0.5822 - val_loss: 8.5489 - val_accuracy: 0.4060 - _timestamp: 1648225349.0000 - _runtime: 382.0000 - 359s/epoch - 10s/step\n",
            "Epoch 2/5\n",
            "35/35 - 303s - loss: 0.7929 - accuracy: 0.7506 - val_loss: 1.2030 - val_accuracy: 0.7030 - _timestamp: 1648225687.0000 - _runtime: 720.0000 - 303s/epoch - 9s/step\n",
            "Epoch 3/5\n",
            "35/35 - 298s - loss: 0.6889 - accuracy: 0.7785 - val_loss: 0.8598 - val_accuracy: 0.7480 - _timestamp: 1648226004.0000 - _runtime: 1037.0000 - 298s/epoch - 9s/step\n",
            "Epoch 4/5\n",
            "35/35 - 298s - loss: 0.6311 - accuracy: 0.8012 - val_loss: 0.8125 - val_accuracy: 0.7740 - _timestamp: 1648226302.0000 - _runtime: 1335.0000 - 298s/epoch - 9s/step\n",
            "Epoch 5/5\n",
            "35/35 - 284s - loss: 0.5836 - accuracy: 0.8114 - val_loss: 0.9553 - val_accuracy: 0.7620 - _timestamp: 1648226592.0000 - _runtime: 1625.0000 - 284s/epoch - 8s/step\n"
          ]
        },
        {
          "metadata": {
            "tags": null
          },
          "name": "stderr",
          "output_type": "stream",
          "text": [
            "\u001b[34m\u001b[1mwandb\u001b[0m: \u001b[33mWARNING\u001b[0m Calling wandb.run.save without any arguments is deprecated.Changes to attributes are automatically persisted.\n"
          ]
        },
        {
          "metadata": {
            "tags": null
          },
          "name": "stdout",
          "output_type": "stream",
          "text": [
            "\n"
          ]
        },
        {
          "data": {
            "text/html": [
              "Waiting for W&B process to finish... <strong style=\"color:green\">(success).</strong>"
            ],
            "text/plain": [
              "<IPython.core.display.HTML object>"
            ]
          },
          "metadata": {},
          "output_type": "display_data"
        },
        {
          "data": {
            "application/vnd.jupyter.widget-view+json": {
              "model_id": "648b61ff7c4a492190197a8877e9fcf6",
              "version_major": 2,
              "version_minor": 0
            },
            "text/plain": [
              "VBox(children=(Label(value='108.397 MB of 108.397 MB uploaded (0.000 MB deduped)\\r'), FloatProgress(value=1.0,…"
            ]
          },
          "metadata": {},
          "output_type": "display_data"
        },
        {
          "data": {
            "text/html": [
              "<style>\n",
              "    table.wandb td:nth-child(1) { padding: 0 10px; text-align: right }\n",
              "    .wandb-row { display: flex; flex-direction: row; flex-wrap: wrap; width: 100% }\n",
              "    .wandb-col { display: flex; flex-direction: column; flex-basis: 100%; flex: 1; padding: 10px; }\n",
              "    </style>\n",
              "<div class=\"wandb-row\"><div class=\"wandb-col\"><h3>Run history:</h3><br/><table class=\"wandb\"><tr><td>accuracy</td><td>▁▆▇██</td></tr><tr><td>epoch</td><td>▁▃▅▆█</td></tr><tr><td>loss</td><td>█▁▁▁▁</td></tr><tr><td>val_accuracy</td><td>▁▇███</td></tr><tr><td>val_loss</td><td>█▁▁▁▁</td></tr></table><br/></div><div class=\"wandb-col\"><h3>Run summary:</h3><br/><table class=\"wandb\"><tr><td>accuracy</td><td>0.81141</td></tr><tr><td>best_epoch</td><td>3</td></tr><tr><td>best_val_loss</td><td>0.81246</td></tr><tr><td>epoch</td><td>4</td></tr><tr><td>loss</td><td>0.58362</td></tr><tr><td>val_accuracy</td><td>0.762</td></tr><tr><td>val_loss</td><td>0.9553</td></tr></table><br/></div></div>"
            ],
            "text/plain": [
              "<IPython.core.display.HTML object>"
            ]
          },
          "metadata": {},
          "output_type": "display_data"
        },
        {
          "data": {
            "text/html": [
              "Synced <strong style=\"color:#cdcd00\">vibrant-sweep-10</strong>: <a href=\"https://wandb.ai/moni6264/test_part_b/runs/v6oac0ob\" target=\"_blank\">https://wandb.ai/moni6264/test_part_b/runs/v6oac0ob</a><br/>Synced 5 W&B file(s), 0 media file(s), 0 artifact file(s) and 1 other file(s)"
            ],
            "text/plain": [
              "<IPython.core.display.HTML object>"
            ]
          },
          "metadata": {},
          "output_type": "display_data"
        },
        {
          "data": {
            "text/html": [
              "Find logs at: <code>./wandb/run-20220325_161606-v6oac0ob/logs</code>"
            ],
            "text/plain": [
              "<IPython.core.display.HTML object>"
            ]
          },
          "metadata": {},
          "output_type": "display_data"
        },
        {
          "metadata": {
            "tags": null
          },
          "name": "stderr",
          "output_type": "stream",
          "text": [
            "\u001b[34m\u001b[1mwandb\u001b[0m: Agent Starting Run: 7aoplrjz with config:\n",
            "\u001b[34m\u001b[1mwandb\u001b[0m: \tbatch_size: 256\n",
            "\u001b[34m\u001b[1mwandb\u001b[0m: \tdata_augmentation: True\n",
            "\u001b[34m\u001b[1mwandb\u001b[0m: \tdense_layer: 512\n",
            "\u001b[34m\u001b[1mwandb\u001b[0m: \tdropout: 0.4\n",
            "\u001b[34m\u001b[1mwandb\u001b[0m: \tepochs: 5\n",
            "\u001b[34m\u001b[1mwandb\u001b[0m: \tlearning_rate: 0.001\n",
            "\u001b[34m\u001b[1mwandb\u001b[0m: \tpre_layer_train: 20\n",
            "\u001b[34m\u001b[1mwandb\u001b[0m: \tpretrained_model_name: Xception\n"
          ]
        },
        {
          "data": {
            "text/html": [
              "Tracking run with wandb version 0.12.11"
            ],
            "text/plain": [
              "<IPython.core.display.HTML object>"
            ]
          },
          "metadata": {},
          "output_type": "display_data"
        },
        {
          "data": {
            "text/html": [
              "Run data is saved locally in <code>/content/wandb/run-20220325_164329-7aoplrjz</code>"
            ],
            "text/plain": [
              "<IPython.core.display.HTML object>"
            ]
          },
          "metadata": {},
          "output_type": "display_data"
        },
        {
          "data": {
            "text/html": [
              "Syncing run <strong><a href=\"https://wandb.ai/moni6264/test_part_b/runs/7aoplrjz\" target=\"_blank\">serene-sweep-12</a></strong> to <a href=\"https://wandb.ai/moni6264/test_part_b\" target=\"_blank\">Weights & Biases</a> (<a href=\"https://wandb.me/run\" target=\"_blank\">docs</a>)<br/>Sweep page:  <a href=\"https://wandb.ai/moni6264/test_part_b/sweeps/q832m8jh\" target=\"_blank\">https://wandb.ai/moni6264/test_part_b/sweeps/q832m8jh</a>"
            ],
            "text/plain": [
              "<IPython.core.display.HTML object>"
            ]
          },
          "metadata": {},
          "output_type": "display_data"
        },
        {
          "metadata": {
            "tags": null
          },
          "name": "stdout",
          "output_type": "stream",
          "text": [
            "pre_train_mdl_InceptionV3_aug_True_bs_256_ep_5_dropout_0.4_dense_512\n",
            "Found 8999 images belonging to 10 classes.\n",
            "Found 1000 images belonging to 10 classes.\n",
            "Found 2000 images belonging to 10 classes.\n",
            "Downloading data from https://storage.googleapis.com/tensorflow/keras-applications/xception/xception_weights_tf_dim_ordering_tf_kernels_notop.h5\n",
            "83689472/83683744 [==============================] - 1s 0us/step\n",
            "83697664/83683744 [==============================] - 1s 0us/step\n",
            "87975986\n",
            "Epoch 1/5\n",
            "35/35 - 315s - loss: 3.1541 - accuracy: 0.2444 - val_loss: 1.7923 - val_accuracy: 0.4000 - _timestamp: 1648226935.0000 - _runtime: 325.0000 - 315s/epoch - 9s/step\n",
            "Epoch 2/5\n",
            "35/35 - 296s - loss: 1.6113 - accuracy: 0.4571 - val_loss: 1.8957 - val_accuracy: 0.4610 - _timestamp: 1648227235.0000 - _runtime: 625.0000 - 296s/epoch - 8s/step\n",
            "Epoch 3/5\n",
            "35/35 - 304s - loss: 1.2482 - accuracy: 0.5931 - val_loss: 1.1517 - val_accuracy: 0.6360 - _timestamp: 1648227557.0000 - _runtime: 947.0000 - 304s/epoch - 9s/step\n",
            "Epoch 4/5\n",
            "35/35 - 298s - loss: 0.9110 - accuracy: 0.6992 - val_loss: 1.3456 - val_accuracy: 0.6440 - _timestamp: 1648227864.0000 - _runtime: 1254.0000 - 298s/epoch - 9s/step\n",
            "Epoch 5/5\n",
            "35/35 - 298s - loss: 0.7250 - accuracy: 0.7663 - val_loss: 0.9954 - val_accuracy: 0.7060 - _timestamp: 1648228178.0000 - _runtime: 1568.0000 - 298s/epoch - 9s/step\n",
            "\n"
          ]
        },
        {
          "data": {
            "text/html": [
              "Waiting for W&B process to finish... <strong style=\"color:green\">(success).</strong>"
            ],
            "text/plain": [
              "<IPython.core.display.HTML object>"
            ]
          },
          "metadata": {},
          "output_type": "display_data"
        },
        {
          "data": {
            "application/vnd.jupyter.widget-view+json": {
              "model_id": "a21540063dd941d2b8c97c5b66381d3a",
              "version_major": 2,
              "version_minor": 0
            },
            "text/plain": [
              "VBox(children=(Label(value='224.133 MB of 903.858 MB uploaded (0.000 MB deduped)\\r'), FloatProgress(value=0.24…"
            ]
          },
          "metadata": {},
          "output_type": "display_data"
        },
        {
          "data": {
            "text/html": [
              "<style>\n",
              "    table.wandb td:nth-child(1) { padding: 0 10px; text-align: right }\n",
              "    .wandb-row { display: flex; flex-direction: row; flex-wrap: wrap; width: 100% }\n",
              "    .wandb-col { display: flex; flex-direction: column; flex-basis: 100%; flex: 1; padding: 10px; }\n",
              "    </style>\n",
              "<div class=\"wandb-row\"><div class=\"wandb-col\"><h3>Run history:</h3><br/><table class=\"wandb\"><tr><td>accuracy</td><td>▁▄▆▇█</td></tr><tr><td>epoch</td><td>▁▃▅▆█</td></tr><tr><td>loss</td><td>█▄▃▂▁</td></tr><tr><td>val_accuracy</td><td>▁▂▆▇█</td></tr><tr><td>val_loss</td><td>▇█▂▄▁</td></tr></table><br/></div><div class=\"wandb-col\"><h3>Run summary:</h3><br/><table class=\"wandb\"><tr><td>accuracy</td><td>0.76626</td></tr><tr><td>best_epoch</td><td>4</td></tr><tr><td>best_val_loss</td><td>0.99536</td></tr><tr><td>epoch</td><td>4</td></tr><tr><td>loss</td><td>0.72497</td></tr><tr><td>val_accuracy</td><td>0.706</td></tr><tr><td>val_loss</td><td>0.99536</td></tr></table><br/></div></div>"
            ],
            "text/plain": [
              "<IPython.core.display.HTML object>"
            ]
          },
          "metadata": {},
          "output_type": "display_data"
        },
        {
          "data": {
            "text/html": [
              "Synced <strong style=\"color:#cdcd00\">serene-sweep-12</strong>: <a href=\"https://wandb.ai/moni6264/test_part_b/runs/7aoplrjz\" target=\"_blank\">https://wandb.ai/moni6264/test_part_b/runs/7aoplrjz</a><br/>Synced 5 W&B file(s), 0 media file(s), 0 artifact file(s) and 1 other file(s)"
            ],
            "text/plain": [
              "<IPython.core.display.HTML object>"
            ]
          },
          "metadata": {},
          "output_type": "display_data"
        },
        {
          "data": {
            "text/html": [
              "Find logs at: <code>./wandb/run-20220325_164329-7aoplrjz/logs</code>"
            ],
            "text/plain": [
              "<IPython.core.display.HTML object>"
            ]
          },
          "metadata": {},
          "output_type": "display_data"
        },
        {
          "metadata": {
            "tags": null
          },
          "name": "stderr",
          "output_type": "stream",
          "text": [
            "\u001b[34m\u001b[1mwandb\u001b[0m: Agent Starting Run: pmxihy8q with config:\n",
            "\u001b[34m\u001b[1mwandb\u001b[0m: \tbatch_size: 128\n",
            "\u001b[34m\u001b[1mwandb\u001b[0m: \tdata_augmentation: True\n",
            "\u001b[34m\u001b[1mwandb\u001b[0m: \tdense_layer: 256\n",
            "\u001b[34m\u001b[1mwandb\u001b[0m: \tdropout: 0.4\n",
            "\u001b[34m\u001b[1mwandb\u001b[0m: \tepochs: 5\n",
            "\u001b[34m\u001b[1mwandb\u001b[0m: \tlearning_rate: 0.001\n",
            "\u001b[34m\u001b[1mwandb\u001b[0m: \tpre_layer_train: 20\n",
            "\u001b[34m\u001b[1mwandb\u001b[0m: \tpretrained_model_name: Xception\n"
          ]
        },
        {
          "data": {
            "text/html": [
              "Tracking run with wandb version 0.12.11"
            ],
            "text/plain": [
              "<IPython.core.display.HTML object>"
            ]
          },
          "metadata": {},
          "output_type": "display_data"
        },
        {
          "data": {
            "text/html": [
              "Run data is saved locally in <code>/content/wandb/run-20220325_171016-pmxihy8q</code>"
            ],
            "text/plain": [
              "<IPython.core.display.HTML object>"
            ]
          },
          "metadata": {},
          "output_type": "display_data"
        },
        {
          "data": {
            "text/html": [
              "Syncing run <strong><a href=\"https://wandb.ai/moni6264/test_part_b/runs/pmxihy8q\" target=\"_blank\">autumn-sweep-13</a></strong> to <a href=\"https://wandb.ai/moni6264/test_part_b\" target=\"_blank\">Weights & Biases</a> (<a href=\"https://wandb.me/run\" target=\"_blank\">docs</a>)<br/>Sweep page:  <a href=\"https://wandb.ai/moni6264/test_part_b/sweeps/q832m8jh\" target=\"_blank\">https://wandb.ai/moni6264/test_part_b/sweeps/q832m8jh</a>"
            ],
            "text/plain": [
              "<IPython.core.display.HTML object>"
            ]
          },
          "metadata": {},
          "output_type": "display_data"
        },
        {
          "metadata": {
            "tags": null
          },
          "name": "stdout",
          "output_type": "stream",
          "text": [
            "pre_train_mdl_InceptionV3_aug_True_bs_128_ep_5_dropout_0.4_dense_256\n",
            "Found 8999 images belonging to 10 classes.\n",
            "Found 1000 images belonging to 10 classes.\n",
            "Found 2000 images belonging to 10 classes.\n",
            "54418738\n",
            "Epoch 1/5\n",
            "35/35 - 304s - loss: 2.4580 - accuracy: 0.3311 - val_loss: 2.9452 - val_accuracy: 0.4640 - _timestamp: 1648228532.0000 - _runtime: 316.0000 - 304s/epoch - 9s/step\n",
            "Epoch 2/5\n",
            "35/35 - 288s - loss: 1.1310 - accuracy: 0.6364 - val_loss: 1.0842 - val_accuracy: 0.6840 - _timestamp: 1648228822.0000 - _runtime: 606.0000 - 288s/epoch - 8s/step\n",
            "Epoch 3/5\n",
            "35/35 - 280s - loss: 0.8265 - accuracy: 0.7359 - val_loss: 0.9784 - val_accuracy: 0.7200 - _timestamp: 1648229134.0000 - _runtime: 918.0000 - 280s/epoch - 8s/step\n",
            "Epoch 4/5\n",
            "35/35 - 285s - loss: 0.6790 - accuracy: 0.7873 - val_loss: 0.9673 - val_accuracy: 0.7210 - _timestamp: 1648229462.0000 - _runtime: 1246.0000 - 285s/epoch - 8s/step\n",
            "Epoch 5/5\n",
            "35/35 - 287s - loss: 0.5534 - accuracy: 0.8255 - val_loss: 0.8989 - val_accuracy: 0.7270 - _timestamp: 1648229746.0000 - _runtime: 1530.0000 - 287s/epoch - 8s/step\n",
            "\n"
          ]
        },
        {
          "data": {
            "text/html": [
              "Waiting for W&B process to finish... <strong style=\"color:green\">(success).</strong>"
            ],
            "text/plain": [
              "<IPython.core.display.HTML object>"
            ]
          },
          "metadata": {},
          "output_type": "display_data"
        },
        {
          "data": {
            "application/vnd.jupyter.widget-view+json": {
              "model_id": "9765eb1bf89748a8870308cdeae1fd4b",
              "version_major": 2,
              "version_minor": 0
            },
            "text/plain": [
              "VBox(children=(Label(value='519.826 MB of 519.826 MB uploaded (0.000 MB deduped)\\r'), FloatProgress(value=1.0,…"
            ]
          },
          "metadata": {},
          "output_type": "display_data"
        },
        {
          "data": {
            "text/html": [
              "<style>\n",
              "    table.wandb td:nth-child(1) { padding: 0 10px; text-align: right }\n",
              "    .wandb-row { display: flex; flex-direction: row; flex-wrap: wrap; width: 100% }\n",
              "    .wandb-col { display: flex; flex-direction: column; flex-basis: 100%; flex: 1; padding: 10px; }\n",
              "    </style>\n",
              "<div class=\"wandb-row\"><div class=\"wandb-col\"><h3>Run history:</h3><br/><table class=\"wandb\"><tr><td>accuracy</td><td>▁▅▇▇█</td></tr><tr><td>epoch</td><td>▁▃▅▆█</td></tr><tr><td>loss</td><td>█▃▂▁▁</td></tr><tr><td>val_accuracy</td><td>▁▇███</td></tr><tr><td>val_loss</td><td>█▂▁▁▁</td></tr></table><br/></div><div class=\"wandb-col\"><h3>Run summary:</h3><br/><table class=\"wandb\"><tr><td>accuracy</td><td>0.82547</td></tr><tr><td>best_epoch</td><td>4</td></tr><tr><td>best_val_loss</td><td>0.89887</td></tr><tr><td>epoch</td><td>4</td></tr><tr><td>loss</td><td>0.55337</td></tr><tr><td>val_accuracy</td><td>0.727</td></tr><tr><td>val_loss</td><td>0.89887</td></tr></table><br/></div></div>"
            ],
            "text/plain": [
              "<IPython.core.display.HTML object>"
            ]
          },
          "metadata": {},
          "output_type": "display_data"
        },
        {
          "data": {
            "text/html": [
              "Synced <strong style=\"color:#cdcd00\">autumn-sweep-13</strong>: <a href=\"https://wandb.ai/moni6264/test_part_b/runs/pmxihy8q\" target=\"_blank\">https://wandb.ai/moni6264/test_part_b/runs/pmxihy8q</a><br/>Synced 5 W&B file(s), 0 media file(s), 0 artifact file(s) and 1 other file(s)"
            ],
            "text/plain": [
              "<IPython.core.display.HTML object>"
            ]
          },
          "metadata": {},
          "output_type": "display_data"
        },
        {
          "data": {
            "text/html": [
              "Find logs at: <code>./wandb/run-20220325_171016-pmxihy8q/logs</code>"
            ],
            "text/plain": [
              "<IPython.core.display.HTML object>"
            ]
          },
          "metadata": {},
          "output_type": "display_data"
        },
        {
          "metadata": {
            "tags": null
          },
          "name": "stderr",
          "output_type": "stream",
          "text": [
            "\u001b[34m\u001b[1mwandb\u001b[0m: Agent Starting Run: 9i6ud9yo with config:\n",
            "\u001b[34m\u001b[1mwandb\u001b[0m: \tbatch_size: 128\n",
            "\u001b[34m\u001b[1mwandb\u001b[0m: \tdata_augmentation: True\n",
            "\u001b[34m\u001b[1mwandb\u001b[0m: \tdense_layer: 512\n",
            "\u001b[34m\u001b[1mwandb\u001b[0m: \tdropout: 0.4\n",
            "\u001b[34m\u001b[1mwandb\u001b[0m: \tepochs: 5\n",
            "\u001b[34m\u001b[1mwandb\u001b[0m: \tlearning_rate: 0.001\n",
            "\u001b[34m\u001b[1mwandb\u001b[0m: \tpre_layer_train: 20\n",
            "\u001b[34m\u001b[1mwandb\u001b[0m: \tpretrained_model_name: Xception\n"
          ]
        },
        {
          "data": {
            "text/html": [
              "Tracking run with wandb version 0.12.11"
            ],
            "text/plain": [
              "<IPython.core.display.HTML object>"
            ]
          },
          "metadata": {},
          "output_type": "display_data"
        },
        {
          "data": {
            "text/html": [
              "Run data is saved locally in <code>/content/wandb/run-20220325_173647-9i6ud9yo</code>"
            ],
            "text/plain": [
              "<IPython.core.display.HTML object>"
            ]
          },
          "metadata": {},
          "output_type": "display_data"
        },
        {
          "data": {
            "text/html": [
              "Syncing run <strong><a href=\"https://wandb.ai/moni6264/test_part_b/runs/9i6ud9yo\" target=\"_blank\">lively-sweep-15</a></strong> to <a href=\"https://wandb.ai/moni6264/test_part_b\" target=\"_blank\">Weights & Biases</a> (<a href=\"https://wandb.me/run\" target=\"_blank\">docs</a>)<br/>Sweep page:  <a href=\"https://wandb.ai/moni6264/test_part_b/sweeps/q832m8jh\" target=\"_blank\">https://wandb.ai/moni6264/test_part_b/sweeps/q832m8jh</a>"
            ],
            "text/plain": [
              "<IPython.core.display.HTML object>"
            ]
          },
          "metadata": {},
          "output_type": "display_data"
        },
        {
          "metadata": {
            "tags": null
          },
          "name": "stdout",
          "output_type": "stream",
          "text": [
            "pre_train_mdl_InceptionV3_aug_True_bs_128_ep_5_dropout_0.4_dense_512\n",
            "Found 8999 images belonging to 10 classes.\n",
            "Found 1000 images belonging to 10 classes.\n",
            "Found 2000 images belonging to 10 classes.\n",
            "87975986\n",
            "Epoch 1/5\n",
            "35/35 - 293s - loss: 2.8101 - accuracy: 0.2581 - val_loss: 2.2529 - val_accuracy: 0.2960 - _timestamp: 1648230109.0000 - _runtime: 302.0000 - 293s/epoch - 8s/step\n",
            "Epoch 2/5\n",
            "35/35 - 288s - loss: 1.3690 - accuracy: 0.5460 - val_loss: 1.1907 - val_accuracy: 0.6180 - _timestamp: 1648230430.0000 - _runtime: 623.0000 - 288s/epoch - 8s/step\n",
            "Epoch 3/5\n",
            "35/35 - 287s - loss: 0.9272 - accuracy: 0.6962 - val_loss: 0.9157 - val_accuracy: 0.7020 - _timestamp: 1648230717.0000 - _runtime: 910.0000 - 287s/epoch - 8s/step\n",
            "Epoch 4/5\n",
            "35/35 - 285s - loss: 0.7460 - accuracy: 0.7613 - val_loss: 0.9003 - val_accuracy: 0.7170 - _timestamp: 1648231002.0000 - _runtime: 1195.0000 - 285s/epoch - 8s/step\n",
            "Epoch 5/5\n",
            "35/35 - 287s - loss: 0.6221 - accuracy: 0.7967 - val_loss: 0.8465 - val_accuracy: 0.7400 - _timestamp: 1648231285.0000 - _runtime: 1478.0000 - 287s/epoch - 8s/step\n",
            "\n"
          ]
        },
        {
          "data": {
            "text/html": [
              "Waiting for W&B process to finish... <strong style=\"color:green\">(success).</strong>"
            ],
            "text/plain": [
              "<IPython.core.display.HTML object>"
            ]
          },
          "metadata": {},
          "output_type": "display_data"
        },
        {
          "data": {
            "application/vnd.jupyter.widget-view+json": {
              "model_id": "e5982c14cc324c3fb23cb2793ca53104",
              "version_major": 2,
              "version_minor": 0
            },
            "text/plain": [
              "VBox(children=(Label(value='903.858 MB of 903.858 MB uploaded (0.000 MB deduped)\\r'), FloatProgress(value=1.0,…"
            ]
          },
          "metadata": {},
          "output_type": "display_data"
        },
        {
          "data": {
            "text/html": [
              "<style>\n",
              "    table.wandb td:nth-child(1) { padding: 0 10px; text-align: right }\n",
              "    .wandb-row { display: flex; flex-direction: row; flex-wrap: wrap; width: 100% }\n",
              "    .wandb-col { display: flex; flex-direction: column; flex-basis: 100%; flex: 1; padding: 10px; }\n",
              "    </style>\n",
              "<div class=\"wandb-row\"><div class=\"wandb-col\"><h3>Run history:</h3><br/><table class=\"wandb\"><tr><td>accuracy</td><td>▁▅▇██</td></tr><tr><td>epoch</td><td>▁▃▅▆█</td></tr><tr><td>loss</td><td>█▃▂▁▁</td></tr><tr><td>val_accuracy</td><td>▁▆▇██</td></tr><tr><td>val_loss</td><td>█▃▁▁▁</td></tr></table><br/></div><div class=\"wandb-col\"><h3>Run summary:</h3><br/><table class=\"wandb\"><tr><td>accuracy</td><td>0.79666</td></tr><tr><td>best_epoch</td><td>4</td></tr><tr><td>best_val_loss</td><td>0.84651</td></tr><tr><td>epoch</td><td>4</td></tr><tr><td>loss</td><td>0.62212</td></tr><tr><td>val_accuracy</td><td>0.74</td></tr><tr><td>val_loss</td><td>0.84651</td></tr></table><br/></div></div>"
            ],
            "text/plain": [
              "<IPython.core.display.HTML object>"
            ]
          },
          "metadata": {},
          "output_type": "display_data"
        },
        {
          "data": {
            "text/html": [
              "Synced <strong style=\"color:#cdcd00\">lively-sweep-15</strong>: <a href=\"https://wandb.ai/moni6264/test_part_b/runs/9i6ud9yo\" target=\"_blank\">https://wandb.ai/moni6264/test_part_b/runs/9i6ud9yo</a><br/>Synced 5 W&B file(s), 0 media file(s), 0 artifact file(s) and 1 other file(s)"
            ],
            "text/plain": [
              "<IPython.core.display.HTML object>"
            ]
          },
          "metadata": {},
          "output_type": "display_data"
        },
        {
          "data": {
            "text/html": [
              "Find logs at: <code>./wandb/run-20220325_173647-9i6ud9yo/logs</code>"
            ],
            "text/plain": [
              "<IPython.core.display.HTML object>"
            ]
          },
          "metadata": {},
          "output_type": "display_data"
        },
        {
          "metadata": {
            "tags": null
          },
          "name": "stderr",
          "output_type": "stream",
          "text": [
            "\u001b[34m\u001b[1mwandb\u001b[0m: Agent Starting Run: zarvt9x9 with config:\n",
            "\u001b[34m\u001b[1mwandb\u001b[0m: \tbatch_size: 128\n",
            "\u001b[34m\u001b[1mwandb\u001b[0m: \tdata_augmentation: True\n",
            "\u001b[34m\u001b[1mwandb\u001b[0m: \tdense_layer: 512\n",
            "\u001b[34m\u001b[1mwandb\u001b[0m: \tdropout: 0.4\n",
            "\u001b[34m\u001b[1mwandb\u001b[0m: \tepochs: 5\n",
            "\u001b[34m\u001b[1mwandb\u001b[0m: \tlearning_rate: 0.001\n",
            "\u001b[34m\u001b[1mwandb\u001b[0m: \tpre_layer_train: 20\n",
            "\u001b[34m\u001b[1mwandb\u001b[0m: \tpretrained_model_name: Xception\n"
          ]
        },
        {
          "data": {
            "text/html": [
              "Tracking run with wandb version 0.12.11"
            ],
            "text/plain": [
              "<IPython.core.display.HTML object>"
            ]
          },
          "metadata": {},
          "output_type": "display_data"
        },
        {
          "data": {
            "text/html": [
              "Run data is saved locally in <code>/content/wandb/run-20220325_180235-zarvt9x9</code>"
            ],
            "text/plain": [
              "<IPython.core.display.HTML object>"
            ]
          },
          "metadata": {},
          "output_type": "display_data"
        },
        {
          "data": {
            "text/html": [
              "Syncing run <strong><a href=\"https://wandb.ai/moni6264/test_part_b/runs/zarvt9x9\" target=\"_blank\">fine-sweep-17</a></strong> to <a href=\"https://wandb.ai/moni6264/test_part_b\" target=\"_blank\">Weights & Biases</a> (<a href=\"https://wandb.me/run\" target=\"_blank\">docs</a>)<br/>Sweep page:  <a href=\"https://wandb.ai/moni6264/test_part_b/sweeps/q832m8jh\" target=\"_blank\">https://wandb.ai/moni6264/test_part_b/sweeps/q832m8jh</a>"
            ],
            "text/plain": [
              "<IPython.core.display.HTML object>"
            ]
          },
          "metadata": {},
          "output_type": "display_data"
        },
        {
          "output_type": "stream",
          "name": "stdout",
          "text": [
            "pre_train_mdl_InceptionV3_aug_True_bs_128_ep_5_dropout_0.4_dense_512\n",
            "Found 8999 images belonging to 10 classes.\n",
            "Found 1000 images belonging to 10 classes.\n",
            "Found 2000 images belonging to 10 classes.\n",
            "87975986\n",
            "Epoch 1/5\n",
            "35/35 - 298s - loss: 3.0323 - accuracy: 0.3525 - val_loss: 2.3292 - val_accuracy: 0.5330 - _timestamp: 1648231665.0000 - _runtime: 310.0000 - 298s/epoch - 9s/step\n",
            "Epoch 2/5\n",
            "35/35 - 286s - loss: 1.2002 - accuracy: 0.6236 - val_loss: 1.5126 - val_accuracy: 0.6560 - _timestamp: 1648231978.0000 - _runtime: 623.0000 - 286s/epoch - 8s/step\n",
            "Epoch 3/5\n",
            "35/35 - 289s - loss: 0.8774 - accuracy: 0.7291 - val_loss: 0.9176 - val_accuracy: 0.7300 - _timestamp: 1648232299.0000 - _runtime: 944.0000 - 289s/epoch - 8s/step\n",
            "Epoch 4/5\n",
            "35/35 - 289s - loss: 0.7061 - accuracy: 0.7736 - val_loss: 0.8975 - val_accuracy: 0.7390 - _timestamp: 1648232592.0000 - _runtime: 1237.0000 - 289s/epoch - 8s/step\n",
            "Epoch 5/5\n",
            "35/35 - 281s - loss: 0.6170 - accuracy: 0.8049 - val_loss: 0.9050 - val_accuracy: 0.7430 - _timestamp: 1648232909.0000 - _runtime: 1554.0000 - 281s/epoch - 8s/step\n",
            "\n"
          ]
        },
        {
          "output_type": "display_data",
          "data": {
            "text/plain": [
              "<IPython.core.display.HTML object>"
            ],
            "text/html": [
              "Waiting for W&B process to finish... <strong style=\"color:green\">(success).</strong>"
            ]
          },
          "metadata": {}
        },
        {
          "output_type": "display_data",
          "data": {
            "text/plain": [
              "VBox(children=(Label(value='903.858 MB of 903.858 MB uploaded (0.000 MB deduped)\\r'), FloatProgress(value=1.0,…"
            ],
            "application/vnd.jupyter.widget-view+json": {
              "version_major": 2,
              "version_minor": 0,
              "model_id": "3f4c5c69771b4992976edee777cf973e"
            }
          },
          "metadata": {}
        },
        {
          "output_type": "display_data",
          "data": {
            "text/plain": [
              "<IPython.core.display.HTML object>"
            ],
            "text/html": [
              "<style>\n",
              "    table.wandb td:nth-child(1) { padding: 0 10px; text-align: right }\n",
              "    .wandb-row { display: flex; flex-direction: row; flex-wrap: wrap; width: 100% }\n",
              "    .wandb-col { display: flex; flex-direction: column; flex-basis: 100%; flex: 1; padding: 10px; }\n",
              "    </style>\n",
              "<div class=\"wandb-row\"><div class=\"wandb-col\"><h3>Run history:</h3><br/><table class=\"wandb\"><tr><td>accuracy</td><td>▁▅▇██</td></tr><tr><td>epoch</td><td>▁▃▅▆█</td></tr><tr><td>loss</td><td>█▃▂▁▁</td></tr><tr><td>val_accuracy</td><td>▁▅███</td></tr><tr><td>val_loss</td><td>█▄▁▁▁</td></tr></table><br/></div><div class=\"wandb-col\"><h3>Run summary:</h3><br/><table class=\"wandb\"><tr><td>accuracy</td><td>0.80489</td></tr><tr><td>best_epoch</td><td>3</td></tr><tr><td>best_val_loss</td><td>0.89746</td></tr><tr><td>epoch</td><td>4</td></tr><tr><td>loss</td><td>0.61703</td></tr><tr><td>val_accuracy</td><td>0.743</td></tr><tr><td>val_loss</td><td>0.90498</td></tr></table><br/></div></div>"
            ]
          },
          "metadata": {}
        },
        {
          "output_type": "display_data",
          "data": {
            "text/plain": [
              "<IPython.core.display.HTML object>"
            ],
            "text/html": [
              "Synced <strong style=\"color:#cdcd00\">fine-sweep-17</strong>: <a href=\"https://wandb.ai/moni6264/test_part_b/runs/zarvt9x9\" target=\"_blank\">https://wandb.ai/moni6264/test_part_b/runs/zarvt9x9</a><br/>Synced 5 W&B file(s), 0 media file(s), 0 artifact file(s) and 1 other file(s)"
            ]
          },
          "metadata": {}
        },
        {
          "output_type": "display_data",
          "data": {
            "text/plain": [
              "<IPython.core.display.HTML object>"
            ],
            "text/html": [
              "Find logs at: <code>./wandb/run-20220325_180235-zarvt9x9/logs</code>"
            ]
          },
          "metadata": {}
        }
      ]
    }
  ]
}